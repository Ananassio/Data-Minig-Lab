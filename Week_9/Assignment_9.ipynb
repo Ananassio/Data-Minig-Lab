{
  "cells": [
    {
      "cell_type": "markdown",
      "metadata": {
        "id": "view-in-github",
        "colab_type": "text"
      },
      "source": [
        "<a href=\"https://colab.research.google.com/github/Ananassio/Data-Minig-Lab/blob/main/Week_9/Assignment_9.ipynb\" target=\"_parent\"><img src=\"https://colab.research.google.com/assets/colab-badge.svg\" alt=\"Open In Colab\"/></a>"
      ]
    },
    {
      "cell_type": "markdown",
      "metadata": {
        "id": "77aHbbQieyj0"
      },
      "source": [
        "# Assignment Week 9: GANs\n",
        "* Build and train a MLP based GAN for MNIST\n",
        "* use the train_step overide from DCGAN\n",
        "* plot generator and dicriminator loss during training\n",
        "* generate and show sample images "
      ]
    },
    {
      "cell_type": "code",
      "execution_count": 1,
      "metadata": {
        "id": "ilc97wNBeyj2"
      },
      "outputs": [],
      "source": [
        "import tensorflow as tf\n",
        "from tensorflow import keras\n",
        "from tensorflow.keras import layers\n",
        "import numpy as np\n",
        "import matplotlib.pyplot as plt\n",
        "import os"
      ]
    },
    {
      "cell_type": "code",
      "execution_count": 2,
      "metadata": {
        "colab": {
          "base_uri": "https://localhost:8080/"
        },
        "id": "GCPUEXxHeyj5",
        "outputId": "227c1c0c-987e-42c5-9766-0a655609c703"
      },
      "outputs": [
        {
          "output_type": "stream",
          "name": "stdout",
          "text": [
            "Downloading data from https://storage.googleapis.com/tensorflow/tf-keras-datasets/mnist.npz\n",
            "11490434/11490434 [==============================] - 2s 0us/step\n"
          ]
        }
      ],
      "source": [
        "#get Data\n",
        "(x_train, _), (x_test, _) = keras.datasets.mnist.load_data()\n",
        "mnist_digits = np.concatenate([x_train, x_test], axis=0)\n",
        "mnist_digits = np.expand_dims(mnist_digits, -1).astype(\"float32\") / 255"
      ]
    },
    {
      "cell_type": "code",
      "execution_count": 3,
      "metadata": {
        "colab": {
          "base_uri": "https://localhost:8080/"
        },
        "id": "GXjH0H6Geyj6",
        "outputId": "3799b048-f841-49b5-b6a0-f852b758ddfd"
      },
      "outputs": [
        {
          "output_type": "execute_result",
          "data": {
            "text/plain": [
              "(28, 28, 1)"
            ]
          },
          "metadata": {},
          "execution_count": 3
        }
      ],
      "source": [
        "np.shape(mnist_digits[0])"
      ]
    },
    {
      "cell_type": "markdown",
      "source": [
        "# Create the discriminator"
      ],
      "metadata": {
        "id": "xJKMvPqgf08a"
      }
    },
    {
      "cell_type": "code",
      "source": [
        "discriminator = keras.Sequential(\n",
        "    [\n",
        "        keras.Input(shape=(28, 28, 1)),\n",
        "        layers.Dense(26),\n",
        "        layers.Flatten(),\n",
        "        layers.Dropout(0.2),\n",
        "        layers.Dense(10000),\n",
        "        layers.Dense(7500),\n",
        "        layers.Dense(5000),\n",
        "        layers.Dense(2500),\n",
        "        layers.Dense(1000),\n",
        "        layers.Dense(500),\n",
        "        layers.Dense(200),\n",
        "        layers.Dense(100),\n",
        "        layers.Dense(80),\n",
        "        layers.Dense(25),\n",
        "        layers.Dense(1, activation=\"sigmoid\"),\n",
        "    ],\n",
        "    name=\"discriminator\",\n",
        ")\n",
        "discriminator.summary()"
      ],
      "metadata": {
        "colab": {
          "base_uri": "https://localhost:8080/"
        },
        "id": "8kZHa5HRf2HU",
        "outputId": "6d85072c-f05a-40f1-99ce-5e75c0adfe18"
      },
      "execution_count": 6,
      "outputs": [
        {
          "output_type": "stream",
          "name": "stdout",
          "text": [
            "Model: \"discriminator\"\n",
            "_________________________________________________________________\n",
            " Layer (type)                Output Shape              Param #   \n",
            "=================================================================\n",
            " dense_6 (Dense)             (None, 28, 28, 26)        52        \n",
            "                                                                 \n",
            " flatten_1 (Flatten)         (None, 20384)             0         \n",
            "                                                                 \n",
            " dropout_1 (Dropout)         (None, 20384)             0         \n",
            "                                                                 \n",
            " dense_7 (Dense)             (None, 10000)             203850000 \n",
            "                                                                 \n",
            " dense_8 (Dense)             (None, 7500)              75007500  \n",
            "                                                                 \n",
            " dense_9 (Dense)             (None, 5000)              37505000  \n",
            "                                                                 \n",
            " dense_10 (Dense)            (None, 2500)              12502500  \n",
            "                                                                 \n",
            " dense_11 (Dense)            (None, 1000)              2501000   \n",
            "                                                                 \n",
            " dense_12 (Dense)            (None, 500)               500500    \n",
            "                                                                 \n",
            " dense_13 (Dense)            (None, 200)               100200    \n",
            "                                                                 \n",
            " dense_14 (Dense)            (None, 100)               20100     \n",
            "                                                                 \n",
            " dense_15 (Dense)            (None, 80)                8080      \n",
            "                                                                 \n",
            " dense_16 (Dense)            (None, 25)                2025      \n",
            "                                                                 \n",
            " dense_17 (Dense)            (None, 1)                 26        \n",
            "                                                                 \n",
            "=================================================================\n",
            "Total params: 331,996,983\n",
            "Trainable params: 331,996,983\n",
            "Non-trainable params: 0\n",
            "_________________________________________________________________\n"
          ]
        }
      ]
    },
    {
      "cell_type": "code",
      "source": [],
      "metadata": {
        "id": "twhb9oMMf2Mx"
      },
      "execution_count": null,
      "outputs": []
    },
    {
      "cell_type": "markdown",
      "source": [
        "# Create the generator"
      ],
      "metadata": {
        "id": "odMDQRVWf1ET"
      }
    },
    {
      "cell_type": "code",
      "source": [
        "latent_dim = 64\n",
        "\n",
        "generator = keras.Sequential(\n",
        "    [\n",
        "        keras.Input(shape=(latent_dim,)),\n",
        "        layers.Dense(28 * 28 * 64),\n",
        "        layers.Reshape((28, 28, 64)),\n",
        "        layers.Dense(40),\n",
        "        layers.Dense(32),\n",
        "        layers.Dense(20),\n",
        "        layers.Dense(15),\n",
        "        layers.Dense(5),\n",
        "        layers.Dense(1),\n",
        "    ],\n",
        "    name=\"generator\",\n",
        ")\n",
        "generator.summary()"
      ],
      "metadata": {
        "colab": {
          "base_uri": "https://localhost:8080/"
        },
        "id": "LUbqLTDof2rC",
        "outputId": "823de391-60b6-4859-dc91-3141f0e2213a"
      },
      "execution_count": 7,
      "outputs": [
        {
          "output_type": "stream",
          "name": "stdout",
          "text": [
            "Model: \"generator\"\n",
            "_________________________________________________________________\n",
            " Layer (type)                Output Shape              Param #   \n",
            "=================================================================\n",
            " dense_18 (Dense)            (None, 50176)             3261440   \n",
            "                                                                 \n",
            " reshape (Reshape)           (None, 28, 28, 64)        0         \n",
            "                                                                 \n",
            " dense_19 (Dense)            (None, 28, 28, 40)        2600      \n",
            "                                                                 \n",
            " dense_20 (Dense)            (None, 28, 28, 32)        1312      \n",
            "                                                                 \n",
            " dense_21 (Dense)            (None, 28, 28, 20)        660       \n",
            "                                                                 \n",
            " dense_22 (Dense)            (None, 28, 28, 15)        315       \n",
            "                                                                 \n",
            " dense_23 (Dense)            (None, 28, 28, 5)         80        \n",
            "                                                                 \n",
            " dense_24 (Dense)            (None, 28, 28, 1)         6         \n",
            "                                                                 \n",
            "=================================================================\n",
            "Total params: 3,266,413\n",
            "Trainable params: 3,266,413\n",
            "Non-trainable params: 0\n",
            "_________________________________________________________________\n"
          ]
        }
      ]
    },
    {
      "cell_type": "code",
      "source": [],
      "metadata": {
        "id": "rD5kTNmQf2te"
      },
      "execution_count": null,
      "outputs": []
    },
    {
      "cell_type": "markdown",
      "source": [
        "# Override `train_step`"
      ],
      "metadata": {
        "id": "r0FIyTcpgHpB"
      }
    },
    {
      "cell_type": "code",
      "source": [
        "\n",
        "class GAN(keras.Model):\n",
        "    def __init__(self, discriminator, generator, latent_dim):\n",
        "        super(GAN, self).__init__()\n",
        "        self.discriminator = discriminator\n",
        "        self.generator = generator\n",
        "        self.latent_dim = latent_dim\n",
        "\n",
        "    def compile(self, d_optimizer, g_optimizer, loss_fn):\n",
        "        super(GAN, self).compile()\n",
        "        self.d_optimizer = d_optimizer\n",
        "        self.g_optimizer = g_optimizer\n",
        "        self.loss_fn = loss_fn\n",
        "        self.d_loss_metric = keras.metrics.Mean(name=\"d_loss\")\n",
        "        self.g_loss_metric = keras.metrics.Mean(name=\"g_loss\")\n",
        "\n",
        "    @property\n",
        "    def metrics(self):\n",
        "        return [self.d_loss_metric, self.g_loss_metric]\n",
        "\n",
        "    def train_step(self, real_images):\n",
        "        # Sample random points in the latent space\n",
        "        batch_size = tf.shape(real_images)[0]\n",
        "        random_latent_vectors = tf.random.normal(shape=(batch_size, self.latent_dim))\n",
        "\n",
        "        # Decode them to fake images\n",
        "        generated_images = self.generator(random_latent_vectors)\n",
        "\n",
        "        # Combine them with real images\n",
        "        combined_images = tf.concat([generated_images, real_images], axis=0)\n",
        "\n",
        "        # Assemble labels discriminating real from fake images\n",
        "        labels = tf.concat(\n",
        "            [tf.ones((batch_size, 1)), tf.zeros((batch_size, 1))], axis=0\n",
        "        )\n",
        "        # Add random noise to the labels - important trick!\n",
        "        labels += 0.05 * tf.random.uniform(tf.shape(labels))\n",
        "\n",
        "        # Train the discriminator\n",
        "        with tf.GradientTape() as tape:\n",
        "            predictions = self.discriminator(combined_images)\n",
        "            d_loss = self.loss_fn(labels, predictions)\n",
        "        grads = tape.gradient(d_loss, self.discriminator.trainable_weights)\n",
        "        self.d_optimizer.apply_gradients(\n",
        "            zip(grads, self.discriminator.trainable_weights)\n",
        "        )\n",
        "\n",
        "        # Sample random points in the latent space\n",
        "        random_latent_vectors = tf.random.normal(shape=(batch_size, self.latent_dim))\n",
        "\n",
        "        # Assemble labels that say \"all real images\"\n",
        "        misleading_labels = tf.zeros((batch_size, 1))\n",
        "\n",
        "        # Train the generator (note that we should *not* update the weights\n",
        "        # of the discriminator)!\n",
        "        with tf.GradientTape() as tape:\n",
        "            predictions = self.discriminator(self.generator(random_latent_vectors))\n",
        "            g_loss = self.loss_fn(misleading_labels, predictions)\n",
        "        grads = tape.gradient(g_loss, self.generator.trainable_weights)\n",
        "        self.g_optimizer.apply_gradients(zip(grads, self.generator.trainable_weights))\n",
        "\n",
        "        # Update metrics\n",
        "        self.d_loss_metric.update_state(d_loss)\n",
        "        self.g_loss_metric.update_state(g_loss)\n",
        "        return {\n",
        "            \"d_loss\": self.d_loss_metric.result(),\n",
        "            \"g_loss\": self.g_loss_metric.result(),\n",
        "        }\n"
      ],
      "metadata": {
        "id": "jHoQwOGsgKVg"
      },
      "execution_count": 8,
      "outputs": []
    },
    {
      "cell_type": "markdown",
      "source": [
        "# Create a callback that periodically saves generated images"
      ],
      "metadata": {
        "id": "Xl0BZa_ogeDQ"
      }
    },
    {
      "cell_type": "code",
      "source": [
        "\n",
        "class GANMonitor(keras.callbacks.Callback):\n",
        "    def __init__(self, num_img=1, latent_dim=64):\n",
        "        self.num_img = num_img\n",
        "        self.latent_dim = latent_dim\n",
        "\n",
        "    def on_epoch_end(self, epoch, logs=None):\n",
        "        random_latent_vectors = tf.random.normal(shape=(self.num_img, self.latent_dim))\n",
        "        generated_images = self.model.generator(random_latent_vectors)\n",
        "        generated_images *= 255\n",
        "        generated_images.numpy()\n",
        "        for i in range(self.num_img):\n",
        "            img = keras.preprocessing.image.array_to_img(generated_images[i])\n",
        "            img.save(\"generated_img_%03d_%d.png\" % (epoch, i))\n",
        "            plt.imshow(img)\n"
      ],
      "metadata": {
        "id": "V4v7x1dPgeYu"
      },
      "execution_count": 9,
      "outputs": []
    },
    {
      "cell_type": "markdown",
      "source": [
        "# Train the end-to-end model"
      ],
      "metadata": {
        "id": "nvMW5o6WgMmC"
      }
    },
    {
      "cell_type": "code",
      "source": [
        "epochs = 50  # In practice, use ~100 epochs\n",
        "\n",
        "gan = GAN(discriminator=discriminator, generator=generator, latent_dim=latent_dim)\n",
        "gan.compile(\n",
        "    d_optimizer=keras.optimizers.Adam(learning_rate=0.0001),\n",
        "    g_optimizer=keras.optimizers.Adam(learning_rate=0.0001),\n",
        "    loss_fn=keras.losses.BinaryCrossentropy(),\n",
        ")\n",
        "\n",
        "gan.fit(\n",
        "    mnist_digits, epochs=epochs, callbacks=[GANMonitor(num_img=10, latent_dim=latent_dim)]\n",
        ")"
      ],
      "metadata": {
        "colab": {
          "base_uri": "https://localhost:8080/",
          "height": 1000
        },
        "id": "ClumqgnlgXw_",
        "outputId": "8c26e247-cfc5-4be5-db83-9521b6ef795d"
      },
      "execution_count": 10,
      "outputs": [
        {
          "output_type": "stream",
          "name": "stdout",
          "text": [
            "Epoch 1/50\n",
            "2188/2188 [==============================] - 245s 110ms/step - d_loss: 0.6776 - g_loss: 1.1671\n",
            "Epoch 2/50\n",
            "2188/2188 [==============================] - 245s 112ms/step - d_loss: 0.6933 - g_loss: 0.8106\n",
            "Epoch 3/50\n",
            "2188/2188 [==============================] - 245s 112ms/step - d_loss: 0.6916 - g_loss: 0.7906\n",
            "Epoch 4/50\n",
            "2188/2188 [==============================] - 246s 112ms/step - d_loss: 0.6912 - g_loss: 0.7802\n",
            "Epoch 5/50\n",
            "2188/2188 [==============================] - 246s 112ms/step - d_loss: 0.6883 - g_loss: 0.8012\n",
            "Epoch 6/50\n",
            "2188/2188 [==============================] - 246s 112ms/step - d_loss: 0.6884 - g_loss: 0.7813\n",
            "Epoch 7/50\n",
            "2188/2188 [==============================] - 245s 112ms/step - d_loss: 0.6860 - g_loss: 0.7966\n",
            "Epoch 8/50\n",
            "2188/2188 [==============================] - 246s 112ms/step - d_loss: 0.6892 - g_loss: 0.7789\n",
            "Epoch 9/50\n",
            "2188/2188 [==============================] - 246s 112ms/step - d_loss: 0.6807 - g_loss: 0.8519\n",
            "Epoch 10/50\n",
            "2188/2188 [==============================] - 247s 113ms/step - d_loss: 0.6851 - g_loss: 0.8133\n",
            "Epoch 11/50\n",
            "2188/2188 [==============================] - 248s 113ms/step - d_loss: 0.6826 - g_loss: 0.8304\n",
            "Epoch 12/50\n",
            "2188/2188 [==============================] - 249s 114ms/step - d_loss: 0.6868 - g_loss: 0.7993\n",
            "Epoch 13/50\n",
            "2188/2188 [==============================] - 249s 114ms/step - d_loss: 0.6881 - g_loss: 0.7935\n",
            "Epoch 14/50\n",
            "2188/2188 [==============================] - 248s 114ms/step - d_loss: 0.6903 - g_loss: 0.7838\n",
            "Epoch 15/50\n",
            "2188/2188 [==============================] - 248s 113ms/step - d_loss: 0.6837 - g_loss: 0.8441\n",
            "Epoch 16/50\n",
            "2188/2188 [==============================] - 248s 113ms/step - d_loss: 0.6929 - g_loss: 0.7895\n",
            "Epoch 17/50\n",
            "2188/2188 [==============================] - 248s 113ms/step - d_loss: 0.6841 - g_loss: 0.8252\n",
            "Epoch 18/50\n",
            "2188/2188 [==============================] - 247s 113ms/step - d_loss: 0.6913 - g_loss: 0.7828\n",
            "Epoch 19/50\n",
            "2188/2188 [==============================] - 248s 113ms/step - d_loss: 0.6860 - g_loss: 0.8037\n",
            "Epoch 20/50\n",
            "2188/2188 [==============================] - 248s 113ms/step - d_loss: 0.6908 - g_loss: 0.8023\n",
            "Epoch 21/50\n",
            "2188/2188 [==============================] - 248s 113ms/step - d_loss: 0.6875 - g_loss: 0.7825\n",
            "Epoch 22/50\n",
            "2188/2188 [==============================] - 249s 114ms/step - d_loss: 0.6844 - g_loss: 0.8017\n",
            "Epoch 23/50\n",
            "2188/2188 [==============================] - 249s 114ms/step - d_loss: 0.6903 - g_loss: 0.7869\n",
            "Epoch 24/50\n",
            "2188/2188 [==============================] - 249s 114ms/step - d_loss: 0.6856 - g_loss: 0.8098\n",
            "Epoch 25/50\n",
            "2188/2188 [==============================] - 249s 114ms/step - d_loss: 0.6897 - g_loss: 0.7707\n",
            "Epoch 26/50\n",
            "2188/2188 [==============================] - 248s 113ms/step - d_loss: 0.6907 - g_loss: 0.7955\n",
            "Epoch 27/50\n",
            "2188/2188 [==============================] - 246s 113ms/step - d_loss: 0.6874 - g_loss: 0.7898\n",
            "Epoch 28/50\n",
            "2188/2188 [==============================] - 246s 113ms/step - d_loss: 0.6915 - g_loss: 0.8146\n",
            "Epoch 29/50\n",
            "2188/2188 [==============================] - 248s 113ms/step - d_loss: 0.6852 - g_loss: 0.8041\n",
            "Epoch 30/50\n",
            "2188/2188 [==============================] - 248s 113ms/step - d_loss: 0.6896 - g_loss: 0.7886\n",
            "Epoch 31/50\n",
            "2188/2188 [==============================] - 247s 113ms/step - d_loss: 0.6900 - g_loss: 0.7633\n",
            "Epoch 32/50\n",
            "2188/2188 [==============================] - 248s 113ms/step - d_loss: 0.6919 - g_loss: 0.7588\n",
            "Epoch 33/50\n",
            "2188/2188 [==============================] - 248s 113ms/step - d_loss: 0.6908 - g_loss: 0.7650\n",
            "Epoch 34/50\n",
            "2188/2188 [==============================] - 248s 113ms/step - d_loss: 0.6939 - g_loss: 0.7850\n",
            "Epoch 35/50\n",
            "2188/2188 [==============================] - 247s 113ms/step - d_loss: 0.6837 - g_loss: 0.8116\n",
            "Epoch 36/50\n",
            "2188/2188 [==============================] - 247s 113ms/step - d_loss: 0.6873 - g_loss: 0.7965\n",
            "Epoch 37/50\n",
            "2188/2188 [==============================] - 247s 113ms/step - d_loss: 0.6899 - g_loss: 0.8322\n",
            "Epoch 38/50\n",
            "2188/2188 [==============================] - 247s 113ms/step - d_loss: 0.6815 - g_loss: 0.8461\n",
            "Epoch 39/50\n",
            "2188/2188 [==============================] - 248s 113ms/step - d_loss: 0.6913 - g_loss: 0.7463\n",
            "Epoch 40/50\n",
            "2188/2188 [==============================] - 249s 114ms/step - d_loss: 0.6913 - g_loss: 0.7547\n",
            "Epoch 41/50\n",
            "2188/2188 [==============================] - 249s 114ms/step - d_loss: 0.6902 - g_loss: 0.7805\n",
            "Epoch 42/50\n",
            "2188/2188 [==============================] - 249s 114ms/step - d_loss: 0.6915 - g_loss: 0.7804\n",
            "Epoch 43/50\n",
            "2188/2188 [==============================] - 249s 114ms/step - d_loss: 0.6865 - g_loss: 0.7996\n",
            "Epoch 44/50\n",
            "2188/2188 [==============================] - 249s 114ms/step - d_loss: 0.6873 - g_loss: 0.7995\n",
            "Epoch 45/50\n",
            "2188/2188 [==============================] - 249s 114ms/step - d_loss: 0.6889 - g_loss: 0.7748\n",
            "Epoch 46/50\n",
            "2188/2188 [==============================] - 249s 114ms/step - d_loss: 0.6943 - g_loss: 0.7779\n",
            "Epoch 47/50\n",
            "2188/2188 [==============================] - 248s 113ms/step - d_loss: 0.6860 - g_loss: 0.7959\n",
            "Epoch 48/50\n",
            "2188/2188 [==============================] - 247s 113ms/step - d_loss: 0.6909 - g_loss: 0.7676\n",
            "Epoch 49/50\n",
            "2188/2188 [==============================] - 248s 113ms/step - d_loss: 0.6884 - g_loss: 0.7914\n",
            "Epoch 50/50\n",
            "2188/2188 [==============================] - 247s 113ms/step - d_loss: 0.6919 - g_loss: 0.7866\n"
          ]
        },
        {
          "output_type": "execute_result",
          "data": {
            "text/plain": [
              "<keras.callbacks.History at 0x7fab34698160>"
            ]
          },
          "metadata": {},
          "execution_count": 10
        },
        {
          "output_type": "display_data",
          "data": {
            "text/plain": [
              "<Figure size 432x288 with 1 Axes>"
            ],
            "image/png": "[encoded data removed]"
          },
          "metadata": {
            "needs_background": "light"
          }
        }
      ]
    },
    {
      "cell_type": "code",
      "source": [],
      "metadata": {
        "id": "Hr2x-KLaMrWZ"
      },
      "execution_count": null,
      "outputs": []
    },
    {
      "cell_type": "code",
      "source": [
        "import cv2\n",
        "img = cv2.imread(\"generated_img_049_7.png\")\n",
        "img_cvt=cv2.cvtColor(img, cv2.COLOR_BGR2RGB)\n",
        "plt.imshow(img_cvt)\n",
        "plt.show()"
      ],
      "metadata": {
        "colab": {
          "base_uri": "https://localhost:8080/",
          "height": 265
        },
        "id": "pWojtx6YOBdc",
        "outputId": "85a27b5b-b5a8-4dc4-ec70-69f94e026c06"
      },
      "execution_count": 11,
      "outputs": [
        {
          "output_type": "display_data",
          "data": {
            "text/plain": [
              "<Figure size 432x288 with 1 Axes>"
            ],
            "image/png": "[encoded data removed]"
          },
          "metadata": {
            "needs_background": "light"
          }
        }
      ]
    },
    {
      "cell_type": "code",
      "source": [
        "fig, (ax1, ax2,ax1, ax3,ax4, ax5,ax6, ax7,ax8, ax9,ax10) = plt.subplots(1, 11,figsize=(28,28))\n",
        "\n",
        "img = cv2.imread(\"generated_img_049_0.png\")\n",
        "img_cvt=cv2.cvtColor(img, cv2.COLOR_BGR2RGB)\n",
        "ax1.imshow(img_cvt)\n",
        "\n",
        "img = cv2.imread(\"generated_img_049_1.png\")\n",
        "img_cvt=cv2.cvtColor(img, cv2.COLOR_BGR2RGB)\n",
        "ax2.imshow(img_cvt)\n",
        "\n",
        "img = cv2.imread(\"generated_img_049_2.png\")\n",
        "img_cvt=cv2.cvtColor(img, cv2.COLOR_BGR2RGB)\n",
        "ax3.imshow(img_cvt)\n",
        "\n",
        "img = cv2.imread(\"generated_img_049_3.png\")\n",
        "img_cvt=cv2.cvtColor(img, cv2.COLOR_BGR2RGB)\n",
        "ax4.imshow(img_cvt)\n",
        "\n",
        "img = cv2.imread(\"generated_img_049_4.png\")\n",
        "img_cvt=cv2.cvtColor(img, cv2.COLOR_BGR2RGB)\n",
        "ax5.imshow(img_cvt)\n",
        "\n",
        "img = cv2.imread(\"generated_img_049_5.png\")\n",
        "img_cvt=cv2.cvtColor(img, cv2.COLOR_BGR2RGB)\n",
        "ax6.imshow(img_cvt)\n",
        "\n",
        "img = cv2.imread(\"generated_img_049_6.png\")\n",
        "img_cvt=cv2.cvtColor(img, cv2.COLOR_BGR2RGB)\n",
        "ax7.imshow(img_cvt)\n",
        "\n",
        "img = cv2.imread(\"generated_img_049_7.png\")\n",
        "img_cvt=cv2.cvtColor(img, cv2.COLOR_BGR2RGB)\n",
        "ax8.imshow(img_cvt)\n",
        "\n",
        "img = cv2.imread(\"generated_img_049_8.png\")\n",
        "img_cvt=cv2.cvtColor(img, cv2.COLOR_BGR2RGB)\n",
        "ax9.imshow(img_cvt)\n",
        "\n",
        "img = cv2.imread(\"generated_img_049_9.png\")\n",
        "img_cvt=cv2.cvtColor(img, cv2.COLOR_BGR2RGB)\n",
        "ax10.imshow(img_cvt)\n",
        "\n",
        "plt.show()"
      ],
      "metadata": {
        "id": "aj3NcfIiWTHI",
        "outputId": "507cfad8-ab16-4bc7-98b9-b555e4c14b1d",
        "colab": {
          "base_uri": "https://localhost:8080/",
          "height": 1000
        }
      },
      "execution_count": 21,
      "outputs": [
        {
          "output_type": "display_data",
          "data": {
            "text/plain": [
              "<Figure size 2016x2016 with 11 Axes>"
            ],
            "image/png": "[encoded data removed]"
          },
          "metadata": {
            "needs_background": "light"
          }
        }
      ]
    }
  ],
  "metadata": {
    "kernelspec": {
      "display_name": "Python 3",
      "language": "python",
      "name": "python3"
    },
    "language_info": {
      "codemirror_mode": {
        "name": "ipython",
        "version": 3
      },
      "file_extension": ".py",
      "mimetype": "text/x-python",
      "name": "python",
      "nbconvert_exporter": "python",
      "pygments_lexer": "ipython3",
      "version": "3.7.6"
    },
    "colab": {
      "provenance": [],
      "include_colab_link": true
    },
    "accelerator": "GPU",
    "gpuClass": "standard"
  },
  "nbformat": 4,
  "nbformat_minor": 0
}