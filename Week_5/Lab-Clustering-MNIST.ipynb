{
  "cells": [
    {
      "cell_type": "markdown",
      "metadata": {
        "id": "view-in-github",
        "colab_type": "text"
      },
      "source": [
        "<a href=\"https://colab.research.google.com/github/Ananassio/Data-Minig-Lab/blob/main/Week_5/Lab-Clustering-MNIST.ipynb\" target=\"_parent\"><img src=\"https://colab.research.google.com/assets/colab-badge.svg\" alt=\"Open In Colab\"/></a>"
      ]
    },
    {
      "cell_type": "markdown",
      "metadata": {
        "id": "dERK17zzE3O1"
      },
      "source": [
        "# Lab: Clustering MNIST\n",
        "\n",
        "Use a small, low resolution subset of the MNIST data set to compare K-Means and Spectral clustering algorithms."
      ]
    },
    {
      "cell_type": "code",
      "execution_count": 1,
      "metadata": {
        "id": "pjqP3bbBE3O4",
        "outputId": "ada38074-158f-4b5f-e538-52f9dad8f5bd",
        "colab": {
          "base_uri": "https://localhost:8080/"
        }
      },
      "outputs": [
        {
          "output_type": "stream",
          "name": "stdout",
          "text": [
            "# digits: 10; # samples: 1797; # features 64\n"
          ]
        }
      ],
      "source": [
        "# get the data\n",
        "\n",
        "import numpy as np\n",
        "from sklearn.datasets import load_digits\n",
        "\n",
        "data, labels = load_digits(return_X_y=True)\n",
        "(n_samples, n_features), n_digits = data.shape, np.unique(labels).size\n",
        "\n",
        "print(f\"# digits: {n_digits}; # samples: {n_samples}; # features {n_features}\")"
      ]
    },
    {
      "cell_type": "markdown",
      "metadata": {
        "id": "h-7ej1jhE3O7"
      },
      "source": [
        "## Task 1\n",
        "* create train and test sets\n",
        "* cluster the train set using [**K-MEANS**](https://scikit-learn.org/stable/modules/generated/sklearn.cluster.KMeans.html) and [**Spectral Clustering**](https://scikit-learn.org/stable/modules/generated/sklearn.cluster.SpectralClustering.html#sklearn.cluster.SpectralClustering) using *k=10*\n",
        "* evaluate the clustering results on test using the \n",
        "    * [silouette score](https://scikit-learn.org/stable/modules/generated/sklearn.metrics.silhouette_score.html#sklearn.metrics.silhouette_score)\n",
        "    * [Fowlkes-Mallows score](https://scikit-learn.org/stable/modules/generated/sklearn.metrics.fowlkes_mallows_score.html#sklearn.metrics.fowlkes_mallows_score)"
      ]
    },
    {
      "cell_type": "code",
      "source": [
        "from sklearn.model_selection import train_test_split\n",
        "from sklearn.cluster import SpectralClustering\n",
        "from sklearn.cluster import KMeans"
      ],
      "metadata": {
        "id": "4sxmtxsAHp42"
      },
      "execution_count": 19,
      "outputs": []
    },
    {
      "cell_type": "code",
      "source": [
        "X = data\n",
        "y = labels"
      ],
      "metadata": {
        "id": "S8PsWwGdICIy"
      },
      "execution_count": 20,
      "outputs": []
    },
    {
      "cell_type": "code",
      "execution_count": 21,
      "metadata": {
        "id": "dLGeThkmE3O9"
      },
      "outputs": [],
      "source": [
        " # make train test split\n",
        " X_train, X_test, y_train, y_test = train_test_split( X, y, test_size=0.2, random_state=42)"
      ]
    },
    {
      "cell_type": "code",
      "source": [
        "# make spectral clustering\n",
        "spectral = SpectralClustering(n_clusters=10, affinity='nearest_neighbors', n_neighbors=10).fit(X_train)\n",
        "spectralpred = spectral.fit_predict(X_test)"
      ],
      "metadata": {
        "id": "2z2n7fJ7IMNv"
      },
      "execution_count": 22,
      "outputs": []
    },
    {
      "cell_type": "code",
      "source": [
        "# make kmeans\n",
        "kmeans = KMeans(n_clusters=10, random_state=0).fit(X_train)\n",
        "kmeans_pred = kmeans.fit_predict(X_test)"
      ],
      "metadata": {
        "id": "ckbdX0-UJQMI"
      },
      "execution_count": 23,
      "outputs": []
    },
    {
      "cell_type": "code",
      "source": [
        "from sklearn.metrics.cluster import fowlkes_mallows_score\n",
        "from sklearn.metrics import silhouette_score"
      ],
      "metadata": {
        "id": "Me4h_klbJQRR"
      },
      "execution_count": 24,
      "outputs": []
    },
    {
      "cell_type": "code",
      "source": [
        "# folkes mallows spectral\n",
        "fowlkes_mallows_score(y_test,spectralpred)"
      ],
      "metadata": {
        "id": "pcx4EoeZKIcX",
        "outputId": "e8b47ecb-d04a-47d5-ef4d-099bae4f9d0f",
        "colab": {
          "base_uri": "https://localhost:8080/"
        }
      },
      "execution_count": 25,
      "outputs": [
        {
          "output_type": "execute_result",
          "data": {
            "text/plain": [
              "0.7562204542657942"
            ]
          },
          "metadata": {},
          "execution_count": 25
        }
      ]
    },
    {
      "cell_type": "code",
      "source": [
        "# silouette score spectral\n",
        "silhouette_score(X_test,spectral.labels_)"
      ],
      "metadata": {
        "id": "FmNoOJe-Kcad",
        "outputId": "c902d699-ca64-41a5-a848-ce5edb9351f0",
        "colab": {
          "base_uri": "https://localhost:8080/"
        }
      },
      "execution_count": 26,
      "outputs": [
        {
          "output_type": "execute_result",
          "data": {
            "text/plain": [
              "0.17033005662660303"
            ]
          },
          "metadata": {},
          "execution_count": 26
        }
      ]
    },
    {
      "cell_type": "code",
      "source": [
        "# folkes mallows kmeans\n",
        "fowlkes_mallows_score(y_test,kmeans_pred)"
      ],
      "metadata": {
        "id": "5TyZZdu1Mr9O",
        "outputId": "f909a3d8-099c-487a-b1aa-9fe6d949ffa1",
        "colab": {
          "base_uri": "https://localhost:8080/"
        }
      },
      "execution_count": 27,
      "outputs": [
        {
          "output_type": "execute_result",
          "data": {
            "text/plain": [
              "0.6871358695009167"
            ]
          },
          "metadata": {},
          "execution_count": 27
        }
      ]
    },
    {
      "cell_type": "code",
      "source": [
        "# silouette score spectral\n",
        "silhouette_score(X_test,kmeans.labels_)"
      ],
      "metadata": {
        "id": "XDOmAgibMsEq",
        "outputId": "38d0154b-3950-4554-ec63-4cce69a8b1d5",
        "colab": {
          "base_uri": "https://localhost:8080/"
        }
      },
      "execution_count": 28,
      "outputs": [
        {
          "output_type": "execute_result",
          "data": {
            "text/plain": [
              "0.18193001787161162"
            ]
          },
          "metadata": {},
          "execution_count": 28
        }
      ]
    },
    {
      "cell_type": "markdown",
      "metadata": {
        "id": "XwbP4CFGE3O-"
      },
      "source": [
        "## Task 2\n",
        "* find the best *k* (in terms of the scoring) for *K-Means* and *Spectral Clustering*\n"
      ]
    },
    {
      "cell_type": "code",
      "execution_count": null,
      "metadata": {
        "id": "ic0Qd5puE3O_"
      },
      "outputs": [],
      "source": []
    },
    {
      "cell_type": "markdown",
      "metadata": {
        "id": "hHBmoP8pE3O_"
      },
      "source": [
        "## Task 3\n",
        "* visualize the best clusters from task 2 with the [embedding projector](http://projector.tensorflow.org/)"
      ]
    },
    {
      "cell_type": "code",
      "execution_count": null,
      "metadata": {
        "id": "76sAaAIfE3PA"
      },
      "outputs": [],
      "source": []
    }
  ],
  "metadata": {
    "kernelspec": {
      "display_name": "Python 3",
      "language": "python",
      "name": "python3"
    },
    "language_info": {
      "codemirror_mode": {
        "name": "ipython",
        "version": 3
      },
      "file_extension": ".py",
      "mimetype": "text/x-python",
      "name": "python",
      "nbconvert_exporter": "python",
      "pygments_lexer": "ipython3",
      "version": "3.7.6"
    },
    "colab": {
      "provenance": [],
      "include_colab_link": true
    }
  },
  "nbformat": 4,
  "nbformat_minor": 0
}