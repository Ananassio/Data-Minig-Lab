{
  "cells": [
    {
      "cell_type": "markdown",
      "metadata": {
        "id": "view-in-github",
        "colab_type": "text"
      },
      "source": [
        "<a href=\"https://colab.research.google.com/github/Ananassio/Data-Minig-Lab/blob/main/Week_9/Assignment_9.ipynb\" target=\"_parent\"><img src=\"https://colab.research.google.com/assets/colab-badge.svg\" alt=\"Open In Colab\"/></a>"
      ]
    },
    {
      "cell_type": "markdown",
      "metadata": {
        "id": "77aHbbQieyj0"
      },
      "source": [
        "# Assignment Week 9: GANs\n",
        "* Build and train a MLP based GAN for MNIST\n",
        "* use the train_step overide from DCGAN\n",
        "* plot generator and dicriminator loss during training\n",
        "* generate and show sample images "
      ]
    },
    {
      "cell_type": "code",
      "execution_count": 2,
      "metadata": {
        "id": "ilc97wNBeyj2"
      },
      "outputs": [],
      "source": [
        "import tensorflow as tf\n",
        "from tensorflow import keras\n",
        "from tensorflow.keras import layers\n",
        "import numpy as np\n",
        "import matplotlib.pyplot as plt\n",
        "import os"
      ]
    },
    {
      "cell_type": "code",
      "execution_count": 3,
      "metadata": {
        "colab": {
          "base_uri": "https://localhost:8080/"
        },
        "id": "GCPUEXxHeyj5",
        "outputId": "35d9b0fe-b7f8-4ef2-93b6-4734d89afacf"
      },
      "outputs": [
        {
          "output_type": "stream",
          "name": "stdout",
          "text": [
            "Downloading data from https://storage.googleapis.com/tensorflow/tf-keras-datasets/mnist.npz\n",
            "11490434/11490434 [==============================] - 0s 0us/step\n"
          ]
        }
      ],
      "source": [
        "#get Data\n",
        "(x_train, _), (x_test, _) = keras.datasets.mnist.load_data()\n",
        "mnist_digits = np.concatenate([x_train, x_test], axis=0)\n",
        "mnist_digits = np.expand_dims(mnist_digits, -1).astype(\"float32\") / 255"
      ]
    },
    {
      "cell_type": "code",
      "execution_count": 4,
      "metadata": {
        "colab": {
          "base_uri": "https://localhost:8080/"
        },
        "id": "GXjH0H6Geyj6",
        "outputId": "29cbd1f8-654e-4d5e-ad69-2416dd7a29a6"
      },
      "outputs": [
        {
          "output_type": "execute_result",
          "data": {
            "text/plain": [
              "(28, 28, 1)"
            ]
          },
          "metadata": {},
          "execution_count": 4
        }
      ],
      "source": [
        "np.shape(mnist_digits[0])"
      ]
    },
    {
      "cell_type": "markdown",
      "source": [
        "# Create the discriminator"
      ],
      "metadata": {
        "id": "xJKMvPqgf08a"
      }
    },
    {
      "cell_type": "code",
      "source": [
        "discriminator = keras.Sequential(\n",
        "    [\n",
        "        keras.Input(shape=(28, 28, 1)),\n",
        "        layers.Dense(20),\n",
        "        layers.Dense(18),\n",
        "        layers.Dense(15),\n",
        "        layers.Flatten(),\n",
        "        layers.Dropout(0.2),\n",
        "        layers.Dense(80),\n",
        "        layers.Dense(25),\n",
        "        layers.Dense(1, activation=\"sigmoid\"),\n",
        "    ],\n",
        "    name=\"discriminator\",\n",
        ")\n",
        "discriminator.summary()"
      ],
      "metadata": {
        "colab": {
          "base_uri": "https://localhost:8080/"
        },
        "id": "8kZHa5HRf2HU",
        "outputId": "c8024354-84a6-452f-f08b-b34cf0f6d625"
      },
      "execution_count": 7,
      "outputs": [
        {
          "output_type": "stream",
          "name": "stdout",
          "text": [
            "Model: \"discriminator\"\n",
            "_________________________________________________________________\n",
            " Layer (type)                Output Shape              Param #   \n",
            "=================================================================\n",
            " dense (Dense)               (None, 28, 28, 20)        40        \n",
            "                                                                 \n",
            " dense_1 (Dense)             (None, 28, 28, 18)        378       \n",
            "                                                                 \n",
            " dense_2 (Dense)             (None, 28, 28, 15)        285       \n",
            "                                                                 \n",
            " flatten (Flatten)           (None, 11760)             0         \n",
            "                                                                 \n",
            " dropout (Dropout)           (None, 11760)             0         \n",
            "                                                                 \n",
            " dense_3 (Dense)             (None, 80)                940880    \n",
            "                                                                 \n",
            " dense_4 (Dense)             (None, 25)                2025      \n",
            "                                                                 \n",
            " dense_5 (Dense)             (None, 1)                 26        \n",
            "                                                                 \n",
            "=================================================================\n",
            "Total params: 943,634\n",
            "Trainable params: 943,634\n",
            "Non-trainable params: 0\n",
            "_________________________________________________________________\n"
          ]
        }
      ]
    },
    {
      "cell_type": "code",
      "source": [],
      "metadata": {
        "id": "twhb9oMMf2Mx"
      },
      "execution_count": null,
      "outputs": []
    },
    {
      "cell_type": "markdown",
      "source": [
        "# Create the generator"
      ],
      "metadata": {
        "id": "odMDQRVWf1ET"
      }
    },
    {
      "cell_type": "code",
      "source": [
        "latent_dim = 64\n",
        "\n",
        "generator = keras.Sequential(\n",
        "    [\n",
        "        keras.Input(shape=(latent_dim,)),\n",
        "        layers.Dense(28 * 28 * 16),\n",
        "        layers.Reshape((28, 28, 16)),\n",
        "        layers.Dense(12),\n",
        "        layers.Dense(8),\n",
        "     layers.Dense(4),\n",
        "     layers.Dense(1),\n",
        "\n",
        "    ],\n",
        "    name=\"generator\",\n",
        ")\n",
        "generator.summary()"
      ],
      "metadata": {
        "colab": {
          "base_uri": "https://localhost:8080/"
        },
        "id": "LUbqLTDof2rC",
        "outputId": "e9b7f057-5201-4530-b099-71c2909d7237"
      },
      "execution_count": 8,
      "outputs": [
        {
          "output_type": "stream",
          "name": "stdout",
          "text": [
            "Model: \"generator\"\n",
            "_________________________________________________________________\n",
            " Layer (type)                Output Shape              Param #   \n",
            "=================================================================\n",
            " dense_6 (Dense)             (None, 12544)             815360    \n",
            "                                                                 \n",
            " reshape (Reshape)           (None, 28, 28, 16)        0         \n",
            "                                                                 \n",
            " dense_7 (Dense)             (None, 28, 28, 12)        204       \n",
            "                                                                 \n",
            " dense_8 (Dense)             (None, 28, 28, 8)         104       \n",
            "                                                                 \n",
            " dense_9 (Dense)             (None, 28, 28, 4)         36        \n",
            "                                                                 \n",
            " dense_10 (Dense)            (None, 28, 28, 1)         5         \n",
            "                                                                 \n",
            "=================================================================\n",
            "Total params: 815,709\n",
            "Trainable params: 815,709\n",
            "Non-trainable params: 0\n",
            "_________________________________________________________________\n"
          ]
        }
      ]
    },
    {
      "cell_type": "code",
      "source": [],
      "metadata": {
        "id": "rD5kTNmQf2te"
      },
      "execution_count": null,
      "outputs": []
    },
    {
      "cell_type": "markdown",
      "source": [
        "# Override `train_step`"
      ],
      "metadata": {
        "id": "r0FIyTcpgHpB"
      }
    },
    {
      "cell_type": "code",
      "source": [
        "\n",
        "class GAN(keras.Model):\n",
        "    def __init__(self, discriminator, generator, latent_dim):\n",
        "        super(GAN, self).__init__()\n",
        "        self.discriminator = discriminator\n",
        "        self.generator = generator\n",
        "        self.latent_dim = latent_dim\n",
        "\n",
        "    def compile(self, d_optimizer, g_optimizer, loss_fn):\n",
        "        super(GAN, self).compile()\n",
        "        self.d_optimizer = d_optimizer\n",
        "        self.g_optimizer = g_optimizer\n",
        "        self.loss_fn = loss_fn\n",
        "        self.d_loss_metric = keras.metrics.Mean(name=\"d_loss\")\n",
        "        self.g_loss_metric = keras.metrics.Mean(name=\"g_loss\")\n",
        "\n",
        "    @property\n",
        "    def metrics(self):\n",
        "        return [self.d_loss_metric, self.g_loss_metric]\n",
        "\n",
        "    def train_step(self, real_images):\n",
        "        # Sample random points in the latent space\n",
        "        batch_size = tf.shape(real_images)[0]\n",
        "        random_latent_vectors = tf.random.normal(shape=(batch_size, self.latent_dim))\n",
        "\n",
        "        # Decode them to fake images\n",
        "        generated_images = self.generator(random_latent_vectors)\n",
        "\n",
        "        # Combine them with real images\n",
        "        combined_images = tf.concat([generated_images, real_images], axis=0)\n",
        "\n",
        "        # Assemble labels discriminating real from fake images\n",
        "        labels = tf.concat(\n",
        "            [tf.ones((batch_size, 1)), tf.zeros((batch_size, 1))], axis=0\n",
        "        )\n",
        "        # Add random noise to the labels - important trick!\n",
        "        labels += 0.05 * tf.random.uniform(tf.shape(labels))\n",
        "\n",
        "        # Train the discriminator\n",
        "        with tf.GradientTape() as tape:\n",
        "            predictions = self.discriminator(combined_images)\n",
        "            d_loss = self.loss_fn(labels, predictions)\n",
        "        grads = tape.gradient(d_loss, self.discriminator.trainable_weights)\n",
        "        self.d_optimizer.apply_gradients(\n",
        "            zip(grads, self.discriminator.trainable_weights)\n",
        "        )\n",
        "\n",
        "        # Sample random points in the latent space\n",
        "        random_latent_vectors = tf.random.normal(shape=(batch_size, self.latent_dim))\n",
        "\n",
        "        # Assemble labels that say \"all real images\"\n",
        "        misleading_labels = tf.zeros((batch_size, 1))\n",
        "\n",
        "        # Train the generator (note that we should *not* update the weights\n",
        "        # of the discriminator)!\n",
        "        with tf.GradientTape() as tape:\n",
        "            predictions = self.discriminator(self.generator(random_latent_vectors))\n",
        "            g_loss = self.loss_fn(misleading_labels, predictions)\n",
        "        grads = tape.gradient(g_loss, self.generator.trainable_weights)\n",
        "        self.g_optimizer.apply_gradients(zip(grads, self.generator.trainable_weights))\n",
        "\n",
        "        # Update metrics\n",
        "        self.d_loss_metric.update_state(d_loss)\n",
        "        self.g_loss_metric.update_state(g_loss)\n",
        "        return {\n",
        "            \"d_loss\": self.d_loss_metric.result(),\n",
        "            \"g_loss\": self.g_loss_metric.result(),\n",
        "        }\n"
      ],
      "metadata": {
        "id": "jHoQwOGsgKVg"
      },
      "execution_count": 9,
      "outputs": []
    },
    {
      "cell_type": "markdown",
      "source": [
        "# Create a callback that periodically saves generated images"
      ],
      "metadata": {
        "id": "Xl0BZa_ogeDQ"
      }
    },
    {
      "cell_type": "code",
      "source": [
        "\n",
        "class GANMonitor(keras.callbacks.Callback):\n",
        "    def __init__(self, num_img=1, latent_dim=64):\n",
        "        self.num_img = num_img\n",
        "        self.latent_dim = latent_dim\n",
        "\n",
        "    def on_epoch_end(self, epoch, logs=None):\n",
        "        random_latent_vectors = tf.random.normal(shape=(self.num_img, self.latent_dim))\n",
        "        generated_images = self.model.generator(random_latent_vectors)\n",
        "        generated_images *= 255\n",
        "        generated_images.numpy()\n",
        "        for i in range(self.num_img):\n",
        "            img = keras.preprocessing.image.array_to_img(generated_images[i])\n",
        "            img.save(\"generated_img_%03d_%d.png\" % (epoch, i))\n",
        "            plt.imshow(img)\n"
      ],
      "metadata": {
        "id": "V4v7x1dPgeYu"
      },
      "execution_count": 21,
      "outputs": []
    },
    {
      "cell_type": "markdown",
      "source": [
        "# Train the end-to-end model"
      ],
      "metadata": {
        "id": "nvMW5o6WgMmC"
      }
    },
    {
      "cell_type": "code",
      "source": [
        "epochs = 50  # In practice, use ~100 epochs\n",
        "\n",
        "gan = GAN(discriminator=discriminator, generator=generator, latent_dim=latent_dim)\n",
        "gan.compile(\n",
        "    d_optimizer=keras.optimizers.Adam(learning_rate=0.0001),\n",
        "    g_optimizer=keras.optimizers.Adam(learning_rate=0.0001),\n",
        "    loss_fn=keras.losses.BinaryCrossentropy(),\n",
        ")\n",
        "\n",
        "gan.fit(\n",
        "    mnist_digits, epochs=epochs, callbacks=[GANMonitor(num_img=10, latent_dim=latent_dim)]\n",
        ")"
      ],
      "metadata": {
        "colab": {
          "base_uri": "https://localhost:8080/",
          "height": 1000
        },
        "id": "ClumqgnlgXw_",
        "outputId": "ef719f81-9684-47c4-cdd8-9a77272f07da"
      },
      "execution_count": 24,
      "outputs": [
        {
          "output_type": "stream",
          "name": "stdout",
          "text": [
            "Epoch 1/50\n",
            "2188/2188 [==============================] - 24s 10ms/step - d_loss: 0.6875 - g_loss: 0.8229\n",
            "Epoch 2/50\n",
            "2188/2188 [==============================] - 24s 11ms/step - d_loss: 0.6878 - g_loss: 0.7974\n",
            "Epoch 3/50\n",
            "2188/2188 [==============================] - 22s 10ms/step - d_loss: 0.6893 - g_loss: 0.7832\n",
            "Epoch 4/50\n",
            "2188/2188 [==============================] - 22s 10ms/step - d_loss: 0.6877 - g_loss: 0.7889\n",
            "Epoch 5/50\n",
            "2188/2188 [==============================] - 21s 10ms/step - d_loss: 0.6863 - g_loss: 0.7975\n",
            "Epoch 6/50\n",
            "2188/2188 [==============================] - 22s 10ms/step - d_loss: 0.6883 - g_loss: 0.7785\n",
            "Epoch 7/50\n",
            "2188/2188 [==============================] - 22s 10ms/step - d_loss: 0.6905 - g_loss: 0.7823\n",
            "Epoch 8/50\n",
            "2188/2188 [==============================] - 22s 10ms/step - d_loss: 0.6885 - g_loss: 0.7762\n",
            "Epoch 9/50\n",
            "2188/2188 [==============================] - 21s 10ms/step - d_loss: 0.6914 - g_loss: 0.7800\n",
            "Epoch 10/50\n",
            "2188/2188 [==============================] - 23s 10ms/step - d_loss: 0.6899 - g_loss: 0.7767\n",
            "Epoch 11/50\n",
            "2188/2188 [==============================] - 22s 10ms/step - d_loss: 0.6897 - g_loss: 0.7714\n",
            "Epoch 12/50\n",
            "2188/2188 [==============================] - 22s 10ms/step - d_loss: 0.6898 - g_loss: 0.7751\n",
            "Epoch 13/50\n",
            "2188/2188 [==============================] - 22s 10ms/step - d_loss: 0.6904 - g_loss: 0.7643\n",
            "Epoch 14/50\n",
            "2188/2188 [==============================] - 21s 10ms/step - d_loss: 0.6900 - g_loss: 0.7771\n",
            "Epoch 15/50\n",
            "2188/2188 [==============================] - 23s 10ms/step - d_loss: 0.6883 - g_loss: 0.7723\n",
            "Epoch 16/50\n",
            "2188/2188 [==============================] - 23s 11ms/step - d_loss: 0.6911 - g_loss: 0.7668\n",
            "Epoch 17/50\n",
            "2188/2188 [==============================] - 27s 12ms/step - d_loss: 0.6905 - g_loss: 0.7728\n",
            "Epoch 18/50\n",
            "2188/2188 [==============================] - 25s 11ms/step - d_loss: 0.6919 - g_loss: 0.7686\n",
            "Epoch 19/50\n",
            "2188/2188 [==============================] - 22s 10ms/step - d_loss: 0.6908 - g_loss: 0.7671\n",
            "Epoch 20/50\n",
            "2188/2188 [==============================] - 21s 10ms/step - d_loss: 0.6895 - g_loss: 0.7709\n",
            "Epoch 21/50\n",
            "2188/2188 [==============================] - 22s 10ms/step - d_loss: 0.6913 - g_loss: 0.7595\n",
            "Epoch 22/50\n",
            "2188/2188 [==============================] - 23s 10ms/step - d_loss: 0.6914 - g_loss: 0.7715\n",
            "Epoch 23/50\n",
            "2188/2188 [==============================] - 22s 10ms/step - d_loss: 0.6913 - g_loss: 0.7704\n",
            "Epoch 24/50\n",
            "2188/2188 [==============================] - 21s 10ms/step - d_loss: 0.6897 - g_loss: 0.7678\n",
            "Epoch 25/50\n",
            "2188/2188 [==============================] - 22s 10ms/step - d_loss: 0.6907 - g_loss: 0.7629\n",
            "Epoch 26/50\n",
            "2188/2188 [==============================] - 22s 10ms/step - d_loss: 0.6908 - g_loss: 0.7651\n",
            "Epoch 27/50\n",
            "2188/2188 [==============================] - 22s 10ms/step - d_loss: 0.6890 - g_loss: 0.7675\n",
            "Epoch 28/50\n",
            "2188/2188 [==============================] - 21s 10ms/step - d_loss: 0.6926 - g_loss: 0.7637\n",
            "Epoch 29/50\n",
            "2188/2188 [==============================] - 22s 10ms/step - d_loss: 0.6895 - g_loss: 0.7615\n",
            "Epoch 30/50\n",
            "2188/2188 [==============================] - 21s 10ms/step - d_loss: 0.6919 - g_loss: 0.7615\n",
            "Epoch 31/50\n",
            "2188/2188 [==============================] - 23s 10ms/step - d_loss: 0.6911 - g_loss: 0.7553\n",
            "Epoch 32/50\n",
            "2188/2188 [==============================] - 21s 10ms/step - d_loss: 0.6915 - g_loss: 0.7674\n",
            "Epoch 33/50\n",
            "2188/2188 [==============================] - 21s 10ms/step - d_loss: 0.6909 - g_loss: 0.7604\n",
            "Epoch 34/50\n",
            "2188/2188 [==============================] - 22s 10ms/step - d_loss: 0.6914 - g_loss: 0.7641\n",
            "Epoch 35/50\n",
            "2188/2188 [==============================] - 23s 10ms/step - d_loss: 0.6906 - g_loss: 0.7571\n",
            "Epoch 36/50\n",
            "2188/2188 [==============================] - 22s 10ms/step - d_loss: 0.6921 - g_loss: 0.7634\n",
            "Epoch 37/50\n",
            "2188/2188 [==============================] - 21s 9ms/step - d_loss: 0.6897 - g_loss: 0.7585\n",
            "Epoch 38/50\n",
            "2188/2188 [==============================] - 22s 10ms/step - d_loss: 0.6930 - g_loss: 0.7596\n",
            "Epoch 39/50\n",
            "2188/2188 [==============================] - 21s 10ms/step - d_loss: 0.6908 - g_loss: 0.7612\n",
            "Epoch 40/50\n",
            "2188/2188 [==============================] - 22s 10ms/step - d_loss: 0.6908 - g_loss: 0.7583\n",
            "Epoch 41/50\n",
            "2188/2188 [==============================] - 22s 10ms/step - d_loss: 0.6906 - g_loss: 0.7621\n",
            "Epoch 42/50\n",
            "2188/2188 [==============================] - 22s 10ms/step - d_loss: 0.6933 - g_loss: 0.7575\n",
            "Epoch 43/50\n",
            "2188/2188 [==============================] - 21s 9ms/step - d_loss: 0.6913 - g_loss: 0.7589\n",
            "Epoch 44/50\n",
            "2188/2188 [==============================] - 24s 11ms/step - d_loss: 0.6902 - g_loss: 0.7602\n",
            "Epoch 45/50\n",
            "2188/2188 [==============================] - 22s 10ms/step - d_loss: 0.6918 - g_loss: 0.7619\n",
            "Epoch 46/50\n",
            "2188/2188 [==============================] - 22s 10ms/step - d_loss: 0.6927 - g_loss: 0.7573\n",
            "Epoch 47/50\n",
            "2188/2188 [==============================] - 21s 10ms/step - d_loss: 0.6911 - g_loss: 0.7612\n",
            "Epoch 48/50\n",
            "2188/2188 [==============================] - 22s 10ms/step - d_loss: 0.6904 - g_loss: 0.7596\n",
            "Epoch 49/50\n",
            "2188/2188 [==============================] - 21s 10ms/step - d_loss: 0.6911 - g_loss: 0.7597\n",
            "Epoch 50/50\n",
            "2188/2188 [==============================] - 22s 10ms/step - d_loss: 0.6931 - g_loss: 0.7561\n"
          ]
        },
        {
          "output_type": "execute_result",
          "data": {
            "text/plain": [
              "<keras.callbacks.History at 0x7f3a1cc5a340>"
            ]
          },
          "metadata": {},
          "execution_count": 24
        },
        {
          "output_type": "display_data",
          "data": {
            "text/plain": [
              "<Figure size 432x288 with 1 Axes>"
            ],
            "image/png": "[encoded data removed]"
          },
          "metadata": {
            "needs_background": "light"
          }
        }
      ]
    },
    {
      "cell_type": "code",
      "source": [],
      "metadata": {
        "id": "Hr2x-KLaMrWZ"
      },
      "execution_count": null,
      "outputs": []
    },
    {
      "cell_type": "code",
      "source": [
        "import cv2\n",
        "img = cv2.imread(\"generated_img_049_7.png\")\n",
        "img_cvt=cv2.cvtColor(img, cv2.COLOR_BGR2RGB)\n",
        "plt.imshow(img_cvt)\n",
        "plt.show()"
      ],
      "metadata": {
        "colab": {
          "base_uri": "https://localhost:8080/",
          "height": 265
        },
        "id": "pWojtx6YOBdc",
        "outputId": "a54c31cd-04a9-4e87-f593-994cc9b776a5"
      },
      "execution_count": 59,
      "outputs": [
        {
          "output_type": "display_data",
          "data": {
            "text/plain": [
              "<Figure size 432x288 with 1 Axes>"
            ],
            "image/png": "[encoded data removed]"
          },
          "metadata": {
            "needs_background": "light"
          }
        }
      ]
    },
    {
      "cell_type": "code",
      "source": [],
      "metadata": {
        "id": "aj3NcfIiWTHI"
      },
      "execution_count": null,
      "outputs": []
    }
  ],
  "metadata": {
    "kernelspec": {
      "display_name": "Python 3",
      "language": "python",
      "name": "python3"
    },
    "language_info": {
      "codemirror_mode": {
        "name": "ipython",
        "version": 3
      },
      "file_extension": ".py",
      "mimetype": "text/x-python",
      "name": "python",
      "nbconvert_exporter": "python",
      "pygments_lexer": "ipython3",
      "version": "3.7.6"
    },
    "colab": {
      "provenance": [],
      "include_colab_link": true
    },
    "accelerator": "GPU",
    "gpuClass": "standard"
  },
  "nbformat": 4,
  "nbformat_minor": 0
}