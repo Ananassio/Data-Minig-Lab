{
  "cells": [
    {
      "cell_type": "markdown",
      "metadata": {
        "id": "view-in-github",
        "colab_type": "text"
      },
      "source": [
        "<a href=\"https://colab.research.google.com/github/Ananassio/Data-Minig-Lab/blob/main/Week_10/NetworkX_Tutorial.ipynb\" target=\"_parent\"><img src=\"https://colab.research.google.com/assets/colab-badge.svg\" alt=\"Open In Colab\"/></a>"
      ]
    },
    {
      "cell_type": "markdown",
      "metadata": {
        "id": "GQxW3A5DIPrL"
      },
      "source": [
        "<!-- -*- coding: utf-8 -*- -->\n",
        "<img src=\"https://networkx.github.io/_static/networkx_logo.svg\">\n",
        "\n",
        "# NetworkX Tutorial\n",
        "\n",
        "### Creating a graph\n",
        "\n",
        "Create an empty graph with no nodes and no edges."
      ]
    },
    {
      "cell_type": "code",
      "execution_count": 1,
      "metadata": {
        "id": "trNVRQbIIPrO"
      },
      "outputs": [],
      "source": [
        "import networkx as nx\n",
        "G = nx.Graph()"
      ]
    },
    {
      "cell_type": "markdown",
      "metadata": {
        "id": "u5IlGYPkIPrQ"
      },
      "source": [
        "By definition, a `Graph` is a collection of nodes (vertices) along with\n",
        "identified pairs of nodes (called edges, links, etc).  In NetworkX, nodes can\n",
        "be any hashable object e.g., a text string, an image, an XML object, another\n",
        "Graph, a customized node object, etc.\n",
        "\n",
        "# Nodes\n",
        "\n",
        "The graph `G` can be grown in several ways.  NetworkX includes many graph\n",
        "generator functions and facilities to read and write graphs in many formats.\n",
        "To get started though we’ll look at simple manipulations.  You can add one node\n",
        "at a time,"
      ]
    },
    {
      "cell_type": "code",
      "execution_count": 2,
      "metadata": {
        "id": "z_NUowxAIPrS"
      },
      "outputs": [],
      "source": [
        "G.add_node(1)"
      ]
    },
    {
      "cell_type": "markdown",
      "metadata": {
        "id": "lAC41C2-IPrU"
      },
      "source": [
        "add a list of nodes,"
      ]
    },
    {
      "cell_type": "code",
      "execution_count": 3,
      "metadata": {
        "id": "26kasYs0IPrV"
      },
      "outputs": [],
      "source": [
        "G.add_nodes_from([2, 3])"
      ]
    },
    {
      "cell_type": "markdown",
      "metadata": {
        "id": "zqh7CTPJIPrW"
      },
      "source": [
        "or add any iterable container of nodes. You can also add nodes along with node\n",
        "attributes if your container yields 2-tuples (node, node_attribute_dict).\n",
        "Node attributes are discussed further below."
      ]
    },
    {
      "cell_type": "code",
      "execution_count": 4,
      "metadata": {
        "id": "4POJ8-UoIPrX"
      },
      "outputs": [],
      "source": [
        "H = nx.path_graph(10)\n",
        "G.add_nodes_from(H)"
      ]
    },
    {
      "cell_type": "markdown",
      "metadata": {
        "id": "EvIjTJBDIPrY"
      },
      "source": [
        "Note that `G` now contains the nodes of `H` as nodes of `G`.\n",
        "In contrast, you could use the graph `H` as a node in `G`."
      ]
    },
    {
      "cell_type": "code",
      "execution_count": 5,
      "metadata": {
        "id": "h4VjIjFxIPrZ"
      },
      "outputs": [],
      "source": [
        "G.add_node(H)"
      ]
    },
    {
      "cell_type": "markdown",
      "metadata": {
        "id": "Qx7hQ6T5IPra"
      },
      "source": [
        "The graph `G` now contains `H` as a node.  This flexibility is very powerful as\n",
        "it allows graphs of graphs, graphs of files, graphs of functions and much more.\n",
        "It is worth thinking about how to structure your application so that the nodes\n",
        "are useful entities.  Of course you can always use a unique identifier in `G`\n",
        "and have a separate dictionary keyed by identifier to the node information if\n",
        "you prefer.\n",
        "\n",
        "# Edges\n",
        "\n",
        "`G` can also be grown by adding one edge at a time,"
      ]
    },
    {
      "cell_type": "code",
      "execution_count": 6,
      "metadata": {
        "id": "3TMK7AozIPrc"
      },
      "outputs": [],
      "source": [
        "G.add_edge(1, 2)\n",
        "e = (2, 3)\n",
        "G.add_edge(*e)  # unpack edge tuple*"
      ]
    },
    {
      "cell_type": "markdown",
      "metadata": {
        "id": "uO7bPLk3IPrd"
      },
      "source": [
        "by adding a list of edges,"
      ]
    },
    {
      "cell_type": "code",
      "execution_count": 7,
      "metadata": {
        "id": "vtaHdgkeIPre"
      },
      "outputs": [],
      "source": [
        "G.add_edges_from([(1, 2), (1, 3)])"
      ]
    },
    {
      "cell_type": "markdown",
      "metadata": {
        "id": "O2652sPOIPrf"
      },
      "source": [
        "or by adding any ebunch of edges.  An *ebunch* is any iterable\n",
        "container of edge-tuples.  An edge-tuple can be a 2-tuple of nodes or a 3-tuple\n",
        "with 2 nodes followed by an edge attribute dictionary, e.g.,\n",
        "`(2, 3, {'weight': 3.1415})`.  Edge attributes are discussed further below"
      ]
    },
    {
      "cell_type": "code",
      "execution_count": 8,
      "metadata": {
        "id": "0JpTUOidIPrg"
      },
      "outputs": [],
      "source": [
        "G.add_edges_from(H.edges)"
      ]
    },
    {
      "cell_type": "markdown",
      "metadata": {
        "id": "yc4yKFHkIPrg"
      },
      "source": [
        "There are no complaints when adding existing nodes or edges. For example,\n",
        "after removing all nodes and edges,"
      ]
    },
    {
      "cell_type": "code",
      "execution_count": 9,
      "metadata": {
        "id": "tcZI7_Z-IPrh"
      },
      "outputs": [],
      "source": [
        "G.clear()"
      ]
    },
    {
      "cell_type": "markdown",
      "metadata": {
        "id": "8bvaZtMxIPrh"
      },
      "source": [
        "we add new nodes/edges and NetworkX quietly ignores any that are\n",
        "already present."
      ]
    },
    {
      "cell_type": "code",
      "execution_count": 10,
      "metadata": {
        "id": "S1yEbvoqIPrj"
      },
      "outputs": [],
      "source": [
        "G.add_edges_from([(1, 2), (1, 3)])\n",
        "G.add_node(1)\n",
        "G.add_edge(1, 2)\n",
        "G.add_node(\"spam\")        # adds node \"spam\"\n",
        "G.add_nodes_from(\"spam\")  # adds 4 nodes: 's', 'p', 'a', 'm'\n",
        "G.add_edge(3, 'm')"
      ]
    },
    {
      "cell_type": "markdown",
      "metadata": {
        "id": "gKo9_YZvIPrj"
      },
      "source": [
        "At this stage the graph `G` consists of 8 nodes and 3 edges, as can be seen by:"
      ]
    },
    {
      "cell_type": "code",
      "execution_count": 11,
      "metadata": {
        "id": "a8njKBfrIPrk",
        "outputId": "be2dc99e-ce72-4d8c-abd8-b826c70cfe33",
        "colab": {
          "base_uri": "https://localhost:8080/"
        }
      },
      "outputs": [
        {
          "output_type": "execute_result",
          "data": {
            "text/plain": [
              "3"
            ]
          },
          "metadata": {},
          "execution_count": 11
        }
      ],
      "source": [
        "G.number_of_nodes()\n",
        "G.number_of_edges()"
      ]
    },
    {
      "cell_type": "markdown",
      "metadata": {
        "id": "ys4zvhqcIPrk"
      },
      "source": [
        "We can examine the nodes and edges. Four basic graph properties facilitate\n",
        "reporting: `G.nodes`, `G.edges`, `G.adj` and `G.degree`.  These\n",
        "are set-like views of the nodes, edges, neighbors (adjacencies), and degrees\n",
        "of nodes in a graph. They offer a continually updated read-only view into\n",
        "the graph structure. They are also dict-like in that you can look up node\n",
        "and edge data attributes via the views and iterate with data attributes\n",
        "using methods `.items()`, `.data('span')`.\n",
        "If you want a specific container type instead of a view, you can specify one.\n",
        "Here we use lists, though sets, dicts, tuples and other containers may be\n",
        "better in other contexts."
      ]
    },
    {
      "cell_type": "code",
      "execution_count": 12,
      "metadata": {
        "id": "D73oNarMIPrl",
        "outputId": "678957bf-07d9-4cce-c468-1829ee85fec0",
        "colab": {
          "base_uri": "https://localhost:8080/"
        }
      },
      "outputs": [
        {
          "output_type": "execute_result",
          "data": {
            "text/plain": [
              "2"
            ]
          },
          "metadata": {},
          "execution_count": 12
        }
      ],
      "source": [
        "list(G.nodes)\n",
        "list(G.edges)\n",
        "list(G.adj[1])  # or list(G.neighbors(1))\n",
        "G.degree[1]  # the number of edges incident to 1"
      ]
    },
    {
      "cell_type": "markdown",
      "metadata": {
        "id": "ptNldEAGIPrm"
      },
      "source": [
        "One can specify to report the edges and degree from a subset of all nodes\n",
        "using an *nbunch*. An *nbunch* is any of: None (meaning all nodes), a node,\n",
        "or an iterable container of nodes that is not itself a node in the graph."
      ]
    },
    {
      "cell_type": "code",
      "execution_count": 13,
      "metadata": {
        "id": "G57DbDGyIPrm",
        "outputId": "6cce3b98-434f-4f12-afc5-fef350ea9f88",
        "colab": {
          "base_uri": "https://localhost:8080/"
        }
      },
      "outputs": [
        {
          "output_type": "execute_result",
          "data": {
            "text/plain": [
              "DegreeView({2: 1, 3: 2})"
            ]
          },
          "metadata": {},
          "execution_count": 13
        }
      ],
      "source": [
        "G.edges([2, 'm'])\n",
        "G.degree([2, 3])"
      ]
    },
    {
      "cell_type": "markdown",
      "metadata": {
        "id": "CC6GPEaYIPrm"
      },
      "source": [
        "One can remove nodes and edges from the graph in a similar fashion to adding.\n",
        "Use methods\n",
        "`Graph.remove_node()`,\n",
        "`Graph.remove_nodes_from()`,\n",
        "`Graph.remove_edge()`\n",
        "and\n",
        "`Graph.remove_edges_from()`, e.g."
      ]
    },
    {
      "cell_type": "code",
      "execution_count": 14,
      "metadata": {
        "id": "7pu1ITlAIPrn"
      },
      "outputs": [],
      "source": [
        "G.remove_node(2)\n",
        "G.remove_nodes_from(\"spam\")\n",
        "list(G.nodes)\n",
        "G.remove_edge(1, 3)"
      ]
    },
    {
      "cell_type": "markdown",
      "metadata": {
        "id": "Bf11xCVSIPrn"
      },
      "source": [
        "When creating a graph structure by instantiating one of the graph\n",
        "classes you can specify data in several formats."
      ]
    },
    {
      "cell_type": "code",
      "execution_count": 15,
      "metadata": {
        "id": "JLqdAE_CIPro"
      },
      "outputs": [],
      "source": [
        "G.add_edge(1, 2)\n",
        "H = nx.DiGraph(G)   # create a DiGraph using the connections from G\n",
        "list(H.edges())\n",
        "edgelist = [(0, 1), (1, 2), (2, 3)]\n",
        "H = nx.Graph(edgelist)"
      ]
    },
    {
      "cell_type": "markdown",
      "metadata": {
        "id": "Zvxnni_MIPro"
      },
      "source": [
        "# What to use as nodes and edges\n",
        "\n",
        "You might notice that nodes and edges are not specified as NetworkX\n",
        "objects.  This leaves you free to use meaningful items as nodes and\n",
        "edges. The most common choices are numbers or strings, but a node can\n",
        "be any hashable object (except `None`), and an edge can be associated\n",
        "with any object `x` using `G.add_edge(n1, n2, object=x)`.\n",
        "\n",
        "As an example, `n1` and `n2` could be protein objects from the RCSB Protein\n",
        "Data Bank, and `x` could refer to an XML record of publications detailing\n",
        "experimental observations of their interaction.\n",
        "\n",
        "We have found this power quite useful, but its abuse\n",
        "can lead to unexpected surprises unless one is familiar with Python.\n",
        "If in doubt, consider using `convert_node_labels_to_integers()` to obtain\n",
        "a more traditional graph with integer labels.\n",
        "\n",
        "# Accessing edges and neighbors\n",
        "\n",
        "In addition to the views `Graph.edges()`, and `Graph.adj()`,\n",
        "access to edges and neighbors is possible using subscript notation."
      ]
    },
    {
      "cell_type": "code",
      "execution_count": 16,
      "metadata": {
        "id": "0ZGlAhfMIPrp",
        "outputId": "bf922366-9e6a-41c1-fdaf-a35d38d9f70b",
        "colab": {
          "base_uri": "https://localhost:8080/"
        }
      },
      "outputs": [
        {
          "output_type": "execute_result",
          "data": {
            "text/plain": [
              "{}"
            ]
          },
          "metadata": {},
          "execution_count": 16
        }
      ],
      "source": [
        "G[1]  # same as G.adj[1]\n",
        "G[1][2]\n",
        "G.edges[1, 2]"
      ]
    },
    {
      "cell_type": "markdown",
      "metadata": {
        "id": "sbw31-VDIPrq"
      },
      "source": [
        "You can get/set the attributes of an edge using subscript notation\n",
        "if the edge already exists."
      ]
    },
    {
      "cell_type": "code",
      "execution_count": 17,
      "metadata": {
        "id": "wkAzEFmIIPrq"
      },
      "outputs": [],
      "source": [
        "G.add_edge(1, 3)\n",
        "G[1][3]['color'] = \"blue\"\n",
        "G.edges[1, 2]['color'] = \"red\""
      ]
    },
    {
      "cell_type": "markdown",
      "metadata": {
        "id": "umH0WSSfIPrs"
      },
      "source": [
        "Fast examination of all (node, adjacency) pairs is achieved using\n",
        "`G.adjacency()`, or `G.adj.items()`.\n",
        "Note that for undirected graphs, adjacency iteration sees each edge twice."
      ]
    },
    {
      "cell_type": "code",
      "execution_count": 18,
      "metadata": {
        "id": "a6TlDGKIIPrs",
        "outputId": "43bf188f-a765-4336-eccc-c7765bc1475f",
        "colab": {
          "base_uri": "https://localhost:8080/"
        }
      },
      "outputs": [
        {
          "output_type": "stream",
          "name": "stdout",
          "text": [
            "(1, 2, 0.125)\n",
            "(2, 1, 0.125)\n",
            "(3, 4, 0.375)\n",
            "(4, 3, 0.375)\n"
          ]
        }
      ],
      "source": [
        "FG = nx.Graph()\n",
        "FG.add_weighted_edges_from([(1, 2, 0.125), (1, 3, 0.75), (2, 4, 1.2), (3, 4, 0.375)])\n",
        "for n, nbrs in FG.adj.items():\n",
        "   for nbr, eattr in nbrs.items():\n",
        "       wt = eattr['weight']\n",
        "       if wt < 0.5: print('(%d, %d, %.3f)' % (n, nbr, wt))"
      ]
    },
    {
      "cell_type": "markdown",
      "metadata": {
        "id": "Nhryq3KRIPrt"
      },
      "source": [
        "Convenient access to all edges is achieved with the edges property."
      ]
    },
    {
      "cell_type": "code",
      "execution_count": 19,
      "metadata": {
        "id": "fw6p_wIjIPrt",
        "outputId": "0cc18b01-db1b-4029-ebdb-94907943f217",
        "colab": {
          "base_uri": "https://localhost:8080/"
        }
      },
      "outputs": [
        {
          "output_type": "stream",
          "name": "stdout",
          "text": [
            "(1, 2, 0.125)\n",
            "(3, 4, 0.375)\n"
          ]
        }
      ],
      "source": [
        "for (u, v, wt) in FG.edges.data('weight'):\n",
        "    if wt < 0.5: print('(%d, %d, %.3f)' % (u, v, wt))"
      ]
    },
    {
      "cell_type": "markdown",
      "metadata": {
        "id": "BANAMhrsIPru"
      },
      "source": [
        "# Adding attributes to graphs, nodes, and edges\n",
        "\n",
        "Attributes such as weights, labels, colors, or whatever Python object you like,\n",
        "can be attached to graphs, nodes, or edges.\n",
        "\n",
        "Each graph, node, and edge can hold key/value attribute pairs in an associated\n",
        "attribute dictionary (the keys must be hashable).  By default these are empty,\n",
        "but attributes can be added or changed using `add_edge`, `add_node` or direct\n",
        "manipulation of the attribute dictionaries named `G.graph`, `G.nodes`, and\n",
        "`G.edges` for a graph `G`.\n",
        "\n",
        "## Graph attributes\n",
        "\n",
        "Assign graph attributes when creating a new graph"
      ]
    },
    {
      "cell_type": "code",
      "execution_count": 20,
      "metadata": {
        "id": "NqNhZbEGIPru",
        "outputId": "09a89ba3-a80f-494b-d062-82d5e4d1f247",
        "colab": {
          "base_uri": "https://localhost:8080/"
        }
      },
      "outputs": [
        {
          "output_type": "execute_result",
          "data": {
            "text/plain": [
              "{'day': 'Friday'}"
            ]
          },
          "metadata": {},
          "execution_count": 20
        }
      ],
      "source": [
        "G = nx.Graph(day=\"Friday\")\n",
        "G.graph"
      ]
    },
    {
      "cell_type": "markdown",
      "metadata": {
        "id": "Lj-WK3RxIPrv"
      },
      "source": [
        "Or you can modify attributes later"
      ]
    },
    {
      "cell_type": "code",
      "execution_count": 21,
      "metadata": {
        "id": "NVh-LAGlIPrv",
        "outputId": "22e883d8-1f68-4731-d145-44625c2967d5",
        "colab": {
          "base_uri": "https://localhost:8080/"
        }
      },
      "outputs": [
        {
          "output_type": "execute_result",
          "data": {
            "text/plain": [
              "{'day': 'Monday'}"
            ]
          },
          "metadata": {},
          "execution_count": 21
        }
      ],
      "source": [
        "G.graph['day'] = \"Monday\"\n",
        "G.graph"
      ]
    },
    {
      "cell_type": "markdown",
      "metadata": {
        "id": "0magfhspIPrw"
      },
      "source": [
        "# Node attributes\n",
        "\n",
        "Add node attributes using `add_node()`, `add_nodes_from()`, or `G.nodes`"
      ]
    },
    {
      "cell_type": "code",
      "execution_count": 22,
      "metadata": {
        "id": "34MfAvU-IPrw",
        "outputId": "20b3b4c5-792b-4976-940a-c76013e61882",
        "colab": {
          "base_uri": "https://localhost:8080/"
        }
      },
      "outputs": [
        {
          "output_type": "execute_result",
          "data": {
            "text/plain": [
              "NodeDataView({1: {'time': '5pm', 'room': 714}, 3: {'time': '2pm'}})"
            ]
          },
          "metadata": {},
          "execution_count": 22
        }
      ],
      "source": [
        "G.add_node(1, time='5pm')\n",
        "G.add_nodes_from([3], time='2pm')\n",
        "G.nodes[1]\n",
        "G.nodes[1]['room'] = 714\n",
        "G.nodes.data()"
      ]
    },
    {
      "cell_type": "markdown",
      "metadata": {
        "id": "VnHdFjaUIPrw"
      },
      "source": [
        "Note that adding a node to `G.nodes` does not add it to the graph, use\n",
        "`G.add_node()` to add new nodes. Similarly for edges.\n",
        "\n",
        "# Edge Attributes\n",
        "\n",
        "Add/change edge attributes using `add_edge()`, `add_edges_from()`,\n",
        "or subscript notation."
      ]
    },
    {
      "cell_type": "code",
      "execution_count": 23,
      "metadata": {
        "id": "6Yj7Ion9IPrx"
      },
      "outputs": [],
      "source": [
        "G.add_edge(1, 2, weight=4.7 )\n",
        "G.add_edges_from([(3, 4), (4, 5)], color='red')\n",
        "G.add_edges_from([(1, 2, {'color': 'blue'}), (2, 3, {'weight': 8})])\n",
        "G[1][2]['weight'] = 4.7\n",
        "G.edges[3, 4]['weight'] = 4.2"
      ]
    },
    {
      "cell_type": "markdown",
      "metadata": {
        "id": "APCGGYBxIPry"
      },
      "source": [
        "The special attribute `weight` should be numeric as it is used by\n",
        "algorithms requiring weighted edges.\n",
        "\n",
        " Directed graphs\n",
        "\n",
        "The `DiGraph` class provides additional properties specific to\n",
        "directed edges, e.g.,\n",
        "`DiGraph.out_edges()`, `DiGraph.in_degree()`,\n",
        "`DiGraph.predecessors()`, `DiGraph.successors()` etc.\n",
        "To allow algorithms to work with both classes easily, the directed versions of\n",
        "`neighbors()` is equivalent to `successors()` while `degree` reports\n",
        "the sum of `in_degree` and `out_degree` even though that may feel\n",
        "inconsistent at times."
      ]
    },
    {
      "cell_type": "code",
      "execution_count": 24,
      "metadata": {
        "id": "rdgt9IAoIPry",
        "outputId": "92bfc2c2-6bb8-4ce6-969a-401b4827a91f",
        "colab": {
          "base_uri": "https://localhost:8080/"
        }
      },
      "outputs": [
        {
          "output_type": "execute_result",
          "data": {
            "text/plain": [
              "[2]"
            ]
          },
          "metadata": {},
          "execution_count": 24
        }
      ],
      "source": [
        "DG = nx.DiGraph()\n",
        "DG.add_weighted_edges_from([(1, 2, 0.5), (3, 1, 0.75)])\n",
        "DG.out_degree(1, weight='weight')\n",
        "DG.degree(1, weight='weight')\n",
        "list(DG.successors(1))\n",
        "list(DG.neighbors(1))"
      ]
    },
    {
      "cell_type": "markdown",
      "metadata": {
        "id": "u25YOHBpIPry"
      },
      "source": [
        "Some algorithms work only for directed graphs and others are not well\n",
        "defined for directed graphs.  Indeed the tendency to lump directed\n",
        "and undirected graphs together is dangerous.  If you want to treat\n",
        "a directed graph as undirected for some measurement you should probably\n",
        "convert it using `Graph.to_undirected()` or with"
      ]
    },
    {
      "cell_type": "code",
      "execution_count": 25,
      "metadata": {
        "id": "ok6DRxD2IPrz"
      },
      "outputs": [],
      "source": [
        "H = nx.Graph(G)  # convert G to undirected graph"
      ]
    },
    {
      "cell_type": "markdown",
      "metadata": {
        "id": "9MEkryWwIPr0"
      },
      "source": [
        "# Multigraphs\n",
        "\n",
        "NetworkX provides classes for graphs which allow multiple edges\n",
        "between any pair of nodes.  The `MultiGraph` and\n",
        "`MultiDiGraph`\n",
        "classes allow you to add the same edge twice, possibly with different\n",
        "edge data.  This can be powerful for some applications, but many\n",
        "algorithms are not well defined on such graphs.\n",
        "Where results are well defined,\n",
        "e.g., `MultiGraph.degree()` we provide the function.  Otherwise you\n",
        "should convert to a standard graph in a way that makes the measurement\n",
        "well defined."
      ]
    },
    {
      "cell_type": "code",
      "execution_count": 26,
      "metadata": {
        "id": "gT7T39O7IPr0",
        "outputId": "110097d8-4213-4448-f57b-bf08c500349e",
        "colab": {
          "base_uri": "https://localhost:8080/"
        }
      },
      "outputs": [
        {
          "output_type": "execute_result",
          "data": {
            "text/plain": [
              "[1, 2, 3]"
            ]
          },
          "metadata": {},
          "execution_count": 26
        }
      ],
      "source": [
        "MG = nx.MultiGraph()\n",
        "MG.add_weighted_edges_from([(1, 2, 0.5), (1, 2, 0.75), (2, 3, 0.5)])\n",
        "dict(MG.degree(weight='weight'))\n",
        "GG = nx.Graph()\n",
        "for n, nbrs in MG.adjacency():\n",
        "   for nbr, edict in nbrs.items():\n",
        "       minvalue = min([d['weight'] for d in edict.values()])\n",
        "       GG.add_edge(n, nbr, weight = minvalue)\n",
        "\n",
        "nx.shortest_path(GG, 1, 3)"
      ]
    },
    {
      "cell_type": "markdown",
      "metadata": {
        "id": "qBYSrOoLIPr1"
      },
      "source": [
        "# Graph generators and graph operations\n",
        "\n",
        "In addition to constructing graphs node-by-node or edge-by-edge, they\n",
        "can also be generated by\n",
        "\n",
        "1. Applying classic graph operations, such as:\n",
        "\n",
        "   ```\n",
        "   subgraph(G, nbunch)      - induced subgraph view of G on nodes in nbunch\n",
        "   union(G1,G2)             - graph union\n",
        "   disjoint_union(G1,G2)    - graph union assuming all nodes are different\n",
        "   cartesian_product(G1,G2) - return Cartesian product graph\n",
        "   compose(G1,G2)           - combine graphs identifying nodes common to both\n",
        "   complement(G)            - graph complement\n",
        "   create_empty_copy(G)     - return an empty copy of the same graph class\n",
        "   to_undirected(G) - return an undirected representation of G\n",
        "   to_directed(G)   - return a directed representation of G\n",
        "   ```\n",
        "\n",
        "1. Using a call to one of the classic small graphs, e.g.,"
      ]
    },
    {
      "cell_type": "code",
      "execution_count": 27,
      "metadata": {
        "id": "lo7NvG8VIPr1"
      },
      "outputs": [],
      "source": [
        "petersen = nx.petersen_graph()\n",
        "tutte = nx.tutte_graph()\n",
        "maze = nx.sedgewick_maze_graph()\n",
        "tet = nx.tetrahedral_graph()"
      ]
    },
    {
      "cell_type": "markdown",
      "metadata": {
        "id": "O0WhEBhNIPr1"
      },
      "source": [
        "1. Using a (constructive) generator for a classic graph, e.g.,"
      ]
    },
    {
      "cell_type": "code",
      "execution_count": 28,
      "metadata": {
        "id": "WA9lG5_YIPr1"
      },
      "outputs": [],
      "source": [
        "K_5 = nx.complete_graph(5)\n",
        "K_3_5 = nx.complete_bipartite_graph(3, 5)\n",
        "barbell = nx.barbell_graph(10, 10)\n",
        "lollipop = nx.lollipop_graph(10, 20)"
      ]
    },
    {
      "cell_type": "markdown",
      "metadata": {
        "id": "vqXXHPyvIPr2"
      },
      "source": [
        "1. Using a stochastic graph generator, e.g.,"
      ]
    },
    {
      "cell_type": "code",
      "execution_count": 29,
      "metadata": {
        "id": "Upiz0BnZIPr3"
      },
      "outputs": [],
      "source": [
        "er = nx.erdos_renyi_graph(100, 0.15)\n",
        "ws = nx.watts_strogatz_graph(30, 3, 0.1)\n",
        "ba = nx.barabasi_albert_graph(100, 5)\n",
        "red = nx.random_lobster(100, 0.9, 0.9)"
      ]
    },
    {
      "cell_type": "markdown",
      "metadata": {
        "id": "buVL5bHzIPr3"
      },
      "source": [
        "1. Reading a graph stored in a file using common graph formats,\n",
        "   such as edge lists, adjacency lists, GML, GraphML, pickle, LEDA and others."
      ]
    },
    {
      "cell_type": "code",
      "execution_count": 30,
      "metadata": {
        "id": "Sx4XaZKwIPr3"
      },
      "outputs": [],
      "source": [
        "nx.write_gml(red, \"path.to.file\")\n",
        "mygraph = nx.read_gml(\"path.to.file\")"
      ]
    },
    {
      "cell_type": "markdown",
      "metadata": {
        "id": "QrqiTOeIIPr4"
      },
      "source": [
        "For details on graph formats see Reading and writing graphs\n",
        "and for graph generator functions see [Graph generators](https://networkx.github.io/documentation/stable/reference/generators.html)\n",
        "\n",
        "# Analyzing graphs\n",
        "\n",
        "The structure of `G` can be analyzed using various graph-theoretic\n",
        "functions such as:"
      ]
    },
    {
      "cell_type": "code",
      "execution_count": 31,
      "metadata": {
        "id": "Ip6dTVmmIPr4",
        "outputId": "10424c71-dc98-4f48-be64-ca56e94f8800",
        "colab": {
          "base_uri": "https://localhost:8080/"
        }
      },
      "outputs": [
        {
          "output_type": "execute_result",
          "data": {
            "text/plain": [
              "{1: 0, 2: 0, 3: 0, 'spam': 0}"
            ]
          },
          "metadata": {},
          "execution_count": 31
        }
      ],
      "source": [
        "G = nx.Graph()\n",
        "G.add_edges_from([(1, 2), (1, 3)])\n",
        "G.add_node(\"spam\")       # adds node \"spam\"\n",
        "list(nx.connected_components(G))\n",
        "sorted(d for n, d in G.degree())\n",
        "nx.clustering(G)"
      ]
    },
    {
      "cell_type": "markdown",
      "metadata": {
        "id": "QajXfABeIPr5"
      },
      "source": [
        "Some functions with large output iterate over (node, value) 2-tuples.\n",
        "These are easily stored in a [dict](https://docs.python.org/2/library/stdtypes.html#dict) structure if you desire."
      ]
    },
    {
      "cell_type": "code",
      "execution_count": 32,
      "metadata": {
        "id": "9hkxHVAxIPr5",
        "outputId": "90c6d5de-169b-48c1-86ac-d330380f43a6",
        "colab": {
          "base_uri": "https://localhost:8080/"
        }
      },
      "outputs": [
        {
          "output_type": "execute_result",
          "data": {
            "text/plain": [
              "{3: [3], 1: [3, 1], 2: [3, 1, 2]}"
            ]
          },
          "metadata": {},
          "execution_count": 32
        }
      ],
      "source": [
        "sp = dict(nx.all_pairs_shortest_path(G))\n",
        "sp[3]"
      ]
    },
    {
      "cell_type": "markdown",
      "metadata": {
        "id": "r4aiiIuxIPr5"
      },
      "source": [
        "[See Algorithms](https://networkx.github.io/documentation/stable/reference/algorithms/index.html) for details on graph algorithms\n",
        "supported.\n",
        "\n",
        "# Drawing graphs\n",
        "\n",
        "NetworkX is not primarily a graph drawing package but basic drawing with\n",
        "Matplotlib as well as an interface to use the open source Graphviz software\n",
        "package are included.  These are part of the `networkx.drawing` module and will\n",
        "be imported if possible.\n",
        "\n",
        "First import Matplotlib’s plot interface (pylab works too)"
      ]
    },
    {
      "cell_type": "code",
      "execution_count": 33,
      "metadata": {
        "id": "M--d8b7gIPr6"
      },
      "outputs": [],
      "source": [
        "import matplotlib.pyplot as plt"
      ]
    },
    {
      "cell_type": "markdown",
      "metadata": {
        "id": "arbMwG_DIPr6"
      },
      "source": [
        "You may find it useful to interactively test code using `ipython -pylab`,\n",
        "which combines the power of ipython and matplotlib and provides a convenient\n",
        "interactive mode.\n",
        "\n",
        "To test if the import of `networkx.drawing` was successful draw `G` using one of"
      ]
    },
    {
      "cell_type": "code",
      "execution_count": 35,
      "metadata": {
        "id": "MLqCbfgcIPr6",
        "outputId": "8a56bd0c-fc6f-470b-d630-e12f5fa00282",
        "colab": {
          "base_uri": "https://localhost:8080/",
          "height": 248
        }
      },
      "outputs": [
        {
          "output_type": "display_data",
          "data": {
            "text/plain": [
              "<Figure size 432x288 with 2 Axes>"
            ],
            "image/png": "[encoded data removed]"
          },
          "metadata": {}
        }
      ],
      "source": [
        "G = nx.petersen_graph()\n",
        "plt.subplot(121)\n",
        "nx.draw(G, with_labels=True, font_weight='bold')\n",
        "plt.subplot(122)\n",
        "nx.draw_shell(G, nlist=[range(5, 10), range(5)], with_labels=True, font_weight='bold')"
      ]
    },
    {
      "cell_type": "markdown",
      "metadata": {
        "id": "NL5GIClwIPr7"
      },
      "source": [
        "when drawing to an interactive display.  Note that you may need to issue a\n",
        "Matplotlib"
      ]
    },
    {
      "cell_type": "code",
      "execution_count": 36,
      "metadata": {
        "id": "3Cen4NNSIPr7"
      },
      "outputs": [],
      "source": [
        "plt.show()"
      ]
    },
    {
      "cell_type": "markdown",
      "metadata": {
        "id": "zkHxE0clIPr7"
      },
      "source": [
        "command if you are not using matplotlib in interactive mode (see\n",
        "[Matplotlib FAQ](http://matplotlib.org/faq/installing_faq.html#matplotlib-compiled-fine-but-nothing-shows-up-when-i-use-it)\n",
        ")."
      ]
    },
    {
      "cell_type": "code",
      "execution_count": 37,
      "metadata": {
        "id": "sGT57765IPr7",
        "outputId": "6fc1d8bb-a628-4970-bbe2-f9e481629ad0",
        "colab": {
          "base_uri": "https://localhost:8080/",
          "height": 248
        }
      },
      "outputs": [
        {
          "output_type": "display_data",
          "data": {
            "text/plain": [
              "<Figure size 432x288 with 4 Axes>"
            ],
            "image/png": "[encoded data removed]"
          },
          "metadata": {}
        }
      ],
      "source": [
        "options = {\n",
        "    'node_color': 'black',\n",
        "    'node_size': 100,\n",
        "    'width': 3,\n",
        "}\n",
        "plt.subplot(221)\n",
        "nx.draw_random(G, **options)\n",
        "plt.subplot(222)\n",
        "nx.draw_circular(G, **options)\n",
        "plt.subplot(223)\n",
        "nx.draw_spectral(G, **options)\n",
        "plt.subplot(224)\n",
        "nx.draw_shell(G, nlist=[range(5,10), range(5)], **options)"
      ]
    },
    {
      "cell_type": "markdown",
      "metadata": {
        "id": "AvQe9ZteIPr8"
      },
      "source": [
        "You can find additional options via `draw_networkx()` and\n",
        "layouts via `layout`.\n",
        "You can use multiple shells with `draw_shell()`."
      ]
    },
    {
      "cell_type": "code",
      "execution_count": 38,
      "metadata": {
        "id": "Xvm60cUpIPr8",
        "outputId": "ea2c210b-56ff-408b-9eb4-4c4d22aa4226",
        "colab": {
          "base_uri": "https://localhost:8080/",
          "height": 319
        }
      },
      "outputs": [
        {
          "output_type": "display_data",
          "data": {
            "text/plain": [
              "<Figure size 432x288 with 1 Axes>"
            ],
            "image/png": "[encoded data removed]"
          },
          "metadata": {}
        }
      ],
      "source": [
        "G = nx.dodecahedral_graph()\n",
        "shells = [[2, 3, 4, 5, 6], [8, 1, 0, 19, 18, 17, 16, 15, 14, 7], [9, 10, 11, 12, 13]]\n",
        "nx.draw_shell(G, nlist=shells, **options)"
      ]
    },
    {
      "cell_type": "markdown",
      "metadata": {
        "id": "QFLvptkyIPr9"
      },
      "source": [
        "To save drawings to a file, use, for example"
      ]
    },
    {
      "cell_type": "code",
      "execution_count": 39,
      "metadata": {
        "id": "d6HaeAaDIPr9",
        "outputId": "6192e3f6-8390-436a-ee6c-94a88e893395",
        "colab": {
          "base_uri": "https://localhost:8080/",
          "height": 319
        }
      },
      "outputs": [
        {
          "output_type": "display_data",
          "data": {
            "text/plain": [
              "<Figure size 432x288 with 1 Axes>"
            ],
            "image/png": "[encoded data removed]"
          },
          "metadata": {}
        }
      ],
      "source": [
        "nx.draw(G)\n",
        "plt.savefig(\"path.png\")"
      ]
    },
    {
      "cell_type": "markdown",
      "metadata": {
        "id": "6IMGH0xBIPr-"
      },
      "source": [
        "writes to the file `path.png` in the local directory. If Graphviz and\n",
        "PyGraphviz or pydot, are available on your system, you can also use\n",
        "`nx_agraph.graphviz_layout(G)` or `nx_pydot.graphviz_layout(G)` to get the\n",
        "node positions, or write the graph in dot format for further processing."
      ]
    },
    {
      "cell_type": "markdown",
      "metadata": {
        "id": "lxIcJwDcIPr_"
      },
      "source": [
        "[See Drawing for additional details](https://networkx.github.io/documentation/stable/reference/drawing.html)"
      ]
    },
    {
      "cell_type": "markdown",
      "metadata": {
        "id": "i4WFv36RIPr_"
      },
      "source": [
        "# Where to go from here\n",
        "For deeper insights on NetworkX, have a look at:\n",
        "* [NetworkX API Docs](https://networkx.github.io/documentation/stable/reference/index.html)\n",
        "* [A Collection of Examples](https://networkx.github.io/documentation/stable/auto_examples/index.html)"
      ]
    },
    {
      "cell_type": "code",
      "execution_count": null,
      "metadata": {
        "id": "NMZZmZ0jIPsA"
      },
      "outputs": [],
      "source": []
    }
  ],
  "metadata": {
    "kernelspec": {
      "display_name": "Python 3",
      "language": "python",
      "name": "python3"
    },
    "language_info": {
      "codemirror_mode": {
        "name": "ipython",
        "version": 3
      },
      "file_extension": ".py",
      "mimetype": "text/x-python",
      "name": "python",
      "nbconvert_exporter": "python",
      "pygments_lexer": "ipython3",
      "version": "3.7.6"
    },
    "colab": {
      "provenance": [],
      "toc_visible": true,
      "include_colab_link": true
    }
  },
  "nbformat": 4,
  "nbformat_minor": 0
}