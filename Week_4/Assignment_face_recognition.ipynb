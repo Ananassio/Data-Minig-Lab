{
  "cells": [
    {
      "cell_type": "markdown",
      "metadata": {
        "id": "view-in-github",
        "colab_type": "text"
      },
      "source": [
        "<a href=\"https://colab.research.google.com/github/Ananassio/Data-Minig-Lab/blob/main/Week_4/Assignment_face_recognition.ipynb\" target=\"_parent\"><img src=\"https://colab.research.google.com/assets/colab-badge.svg\" alt=\"Open In Colab\"/></a>"
      ]
    },
    {
      "cell_type": "markdown",
      "metadata": {
        "id": "n-9zuqkJ-nQn"
      },
      "source": [
        "\n",
        "# Face recognition with non-linear eigenfaces \n",
        "\n",
        "### Data: [\"Labeled Face in the Wild\"](http://vis-www.cs.umass.edu/lfw/index.html)"
      ]
    },
    {
      "cell_type": "code",
      "execution_count": 1,
      "metadata": {
        "id": "Fjh1KsGw-nQr"
      },
      "outputs": [],
      "source": [
        "# basic imports\n",
        "from time import time #to compute runtimes\n",
        "import numpy as np\n",
        "import matplotlib.pyplot as plt\n",
        "%matplotlib inline\n",
        "from sklearn.model_selection import train_test_split\n",
        "import pandas as pd"
      ]
    },
    {
      "cell_type": "markdown",
      "metadata": {
        "id": "VJZ_BrM--nQt"
      },
      "source": [
        "### Get Data\n"
      ]
    },
    {
      "cell_type": "code",
      "execution_count": 2,
      "metadata": {
        "id": "rVc6YhXF-nQu"
      },
      "outputs": [],
      "source": [
        "from sklearn.datasets import fetch_lfw_people #data is part of Scikit Learn\n",
        "\n",
        "lfw_people = fetch_lfw_people(min_faces_per_person=70, resize=0.4) #get data - take some time"
      ]
    },
    {
      "cell_type": "code",
      "execution_count": 3,
      "metadata": {
        "id": "IH657WQJ-nQw",
        "outputId": "3f78a539-99f3-4ad9-81c0-e2f8b1fbd8bb",
        "colab": {
          "base_uri": "https://localhost:8080/"
        }
      },
      "outputs": [
        {
          "output_type": "stream",
          "name": "stdout",
          "text": [
            "1288 50 37\n"
          ]
        }
      ],
      "source": [
        "# get data shapes\n",
        "n_samples, h, w = lfw_people.images.shape\n",
        "print(n_samples, h, w)"
      ]
    },
    {
      "cell_type": "code",
      "execution_count": 4,
      "metadata": {
        "id": "v7XgGKa3-nQx"
      },
      "outputs": [],
      "source": [
        "# get data and labels\n",
        "X = lfw_people.data #data\n",
        "y = lfw_people.target #labels"
      ]
    },
    {
      "cell_type": "code",
      "execution_count": 5,
      "metadata": {
        "scrolled": false,
        "id": "u6Q5xg9f-nQy",
        "outputId": "cf996b70-b14e-4c54-dc45-c0528f5965be",
        "colab": {
          "base_uri": "https://localhost:8080/"
        }
      },
      "outputs": [
        {
          "output_type": "stream",
          "name": "stdout",
          "text": [
            "number of pixels per image: 1850\n",
            "names of people ['Ariel Sharon' 'Colin Powell' 'Donald Rumsfeld' 'George W Bush'\n",
            " 'Gerhard Schroeder' 'Hugo Chavez' 'Tony Blair']\n",
            "number of people in DB: 7\n"
          ]
        }
      ],
      "source": [
        "n_features = X.shape[1] #get size of images\n",
        "print(\"number of pixels per image:\", n_features)\n",
        "\n",
        "target_names = lfw_people.target_names #get unique IDs of people\n",
        "n_classes = target_names.shape[0]\n",
        "\n",
        "print(\"names of people\", target_names)\n",
        "print(\"number of people in DB:\", n_classes)"
      ]
    },
    {
      "cell_type": "code",
      "execution_count": 6,
      "metadata": {
        "id": "BAyDS3T4-nQz",
        "outputId": "6cab7fbf-bf84-4308-f74a-43b5686e1b50",
        "colab": {
          "base_uri": "https://localhost:8080/",
          "height": 299
        }
      },
      "outputs": [
        {
          "output_type": "execute_result",
          "data": {
            "text/plain": [
              "Text(0.5, 1.0, 'George W Bush')"
            ]
          },
          "metadata": {},
          "execution_count": 6
        },
        {
          "output_type": "display_data",
          "data": {
            "text/plain": [
              "<Figure size 432x288 with 1 Axes>"
            ],
            "image/png": "[encoded data removed]"
          },
          "metadata": {
            "needs_background": "light"
          }
        }
      ],
      "source": [
        "#vis example\n",
        "plt.gray()\n",
        "plt.imshow(X[12,:].reshape(h,w))\n",
        "plt.title(target_names[y[12]])"
      ]
    },
    {
      "cell_type": "markdown",
      "metadata": {
        "id": "wJPly-r_-nQ0"
      },
      "source": [
        "## ML Model"
      ]
    },
    {
      "cell_type": "markdown",
      "metadata": {
        "id": "VqU6tWNy-nQ2"
      },
      "source": [
        "### Task 1: Split in test and train set\n",
        "* 20% test - 80% train -> use SKL split function!"
      ]
    },
    {
      "cell_type": "code",
      "execution_count": 7,
      "metadata": {
        "id": "QtgJYOUN-nQ4"
      },
      "outputs": [],
      "source": [
        " X_train, X_test, y_train, y_test = train_test_split( X, y, test_size=0.2, random_state=42)"
      ]
    },
    {
      "cell_type": "markdown",
      "metadata": {
        "id": "Z8rmH5Fq-nQ4"
      },
      "source": [
        "### Task 1: Apply Kernel-PCA to train data\n",
        "* Plot Eigenvalues (explained variance) and find cut-off \n",
        "* Project all data (train+test) to Eigen-Face-Space\n",
        "\n",
        "HINT: use *whitenig* in the PCA -> normalization of the components\n",
        "\n",
        "-> see [https://scikit-learn.org/stable/modules/generated/sklearn.decomposition.KernelPCA.html](https://scikit-learn.org/stable/modules/generated/sklearn.decomposition.KernelPCA.html)"
      ]
    },
    {
      "cell_type": "code",
      "execution_count": 36,
      "metadata": {
        "id": "mb3wfBXK-nQ5"
      },
      "outputs": [],
      "source": [
        "from sklearn.decomposition import KernelPCA "
      ]
    },
    {
      "cell_type": "code",
      "source": [
        "pca = PCA(whiten=True)\n",
        "pca.fit(X_train)"
      ],
      "metadata": {
        "id": "e5XQ3vN1B3ot",
        "outputId": "1b8a8e08-e5be-48f5-ea0a-c8bb682dd44f",
        "colab": {
          "base_uri": "https://localhost:8080/"
        }
      },
      "execution_count": 49,
      "outputs": [
        {
          "output_type": "execute_result",
          "data": {
            "text/plain": [
              "PCA(whiten=True)"
            ]
          },
          "metadata": {},
          "execution_count": 49
        }
      ]
    },
    {
      "cell_type": "code",
      "source": [
        "#plot Eigen-Values\n",
        "plt.plot(pca.explained_variance_)"
      ],
      "metadata": {
        "id": "RqW1mq7yCPW_",
        "outputId": "8224550f-d573-48ec-f8a1-0e38697b338a",
        "colab": {
          "base_uri": "https://localhost:8080/",
          "height": 283
        }
      },
      "execution_count": 50,
      "outputs": [
        {
          "output_type": "execute_result",
          "data": {
            "text/plain": [
              "[<matplotlib.lines.Line2D at 0x7fedbf096650>]"
            ]
          },
          "metadata": {},
          "execution_count": 50
        },
        {
          "output_type": "display_data",
          "data": {
            "text/plain": [
              "<Figure size 432x288 with 1 Axes>"
            ],
            "image/png": "[encoded data removed]"
          },
          "metadata": {
            "needs_background": "light"
          }
        }
      ]
    },
    {
      "cell_type": "markdown",
      "source": [
        "Cut-off bei 150\n"
      ],
      "metadata": {
        "id": "n01Y-77uE-HV"
      }
    },
    {
      "cell_type": "code",
      "source": [
        "#fit the model angain and cut-off at 100\n",
        "pca = PCA(n_components=150, whiten=True)\n",
        "pca.fit(X_train)"
      ],
      "metadata": {
        "id": "H7egOPK13d8f",
        "outputId": "32aa3e96-1635-45a1-95de-37e9c009701c",
        "colab": {
          "base_uri": "https://localhost:8080/"
        }
      },
      "execution_count": 67,
      "outputs": [
        {
          "output_type": "execute_result",
          "data": {
            "text/plain": [
              "PCA(n_components=150, whiten=True)"
            ]
          },
          "metadata": {},
          "execution_count": 67
        }
      ]
    },
    {
      "cell_type": "code",
      "source": [
        "#have look at the first 7 Eigen-Vectors\n",
        "fig, ax = plt.subplots(1, 7, figsize=(25,16))\n",
        "for i in range(7):\n",
        "    ax[i].imshow(pca.components_[i].reshape(h,w))\n",
        "    ax[i].set_yticks([])\n",
        "    ax[i].set_xticks([])"
      ],
      "metadata": {
        "id": "4kcLcMjKDbIX",
        "outputId": "070c5c42-d76f-445f-ab2d-5189177f4368",
        "colab": {
          "base_uri": "https://localhost:8080/",
          "height": 264
        }
      },
      "execution_count": 68,
      "outputs": [
        {
          "output_type": "display_data",
          "data": {
            "text/plain": [
              "<Figure size 1800x1152 with 7 Axes>"
            ],
            "image/png": "[encoded data removed]"
          },
          "metadata": {}
        }
      ]
    },
    {
      "cell_type": "code",
      "source": [
        "X_train_pca = pca.transform(X_train)\n",
        "X_test_pca = pca.transform(X_test)\n",
        "print(X_train_pca.shape)\n",
        "print(X_test_pca.shape)"
      ],
      "metadata": {
        "id": "Mahn-lfnJIej",
        "outputId": "97484117-a814-4811-90fc-95f20a3b5a19",
        "colab": {
          "base_uri": "https://localhost:8080/"
        }
      },
      "execution_count": 70,
      "outputs": [
        {
          "output_type": "stream",
          "name": "stdout",
          "text": [
            "(1030, 150)\n",
            "(258, 150)\n"
          ]
        }
      ]
    },
    {
      "cell_type": "markdown",
      "metadata": {
        "id": "yMFmooB6-nQ6"
      },
      "source": [
        "### Task 2: Visualize Faces in kernel-PCA space with Tensorflow projector \n",
        "* upload data (original data and in kPCA space) and lables\n",
        "* use images or different colors for different people\n"
      ]
    },
    {
      "cell_type": "code",
      "execution_count": 16,
      "metadata": {
        "id": "jEw4YbAP-nQ7"
      },
      "outputs": [],
      "source": [
        "from sklearn.decomposition import KernelPCA\n",
        "#kpca=KernelPCA(kernel='linear')\n",
        "kpca=KernelPCA(kernel=\"rbf\", fit_inverse_transform=True, gamma=2 )\n",
        "#kpca=KernelPCA(kernel=\"poly\", fit_inverse_transform=True, degree= )"
      ]
    },
    {
      "cell_type": "code",
      "source": [
        "X_new = kpca.fit_transform(X) #apply base chage to data\n",
        "\n",
        "plt.scatter(X_new[:,0],X_new[:,1], c=y, cmap='viridis')"
      ],
      "metadata": {
        "id": "J4pGb0kLKCnX",
        "outputId": "c90abbb8-cc84-4fcd-d913-3fb1d56c0f18",
        "colab": {
          "base_uri": "https://localhost:8080/",
          "height": 283
        }
      },
      "execution_count": 19,
      "outputs": [
        {
          "output_type": "execute_result",
          "data": {
            "text/plain": [
              "<matplotlib.collections.PathCollection at 0x7fedbf132b90>"
            ]
          },
          "metadata": {},
          "execution_count": 19
        },
        {
          "output_type": "display_data",
          "data": {
            "text/plain": [
              "<Figure size 432x288 with 1 Axes>"
            ],
            "image/png": "[encoded data removed]"
          },
          "metadata": {
            "needs_background": "light"
          }
        }
      ]
    },
    {
      "cell_type": "code",
      "source": [
        "from sklearn.decomposition import PCA, KernelPCA\n",
        "\n",
        "pca = PCA(n_components=32)\n",
        "kernel_pca = KernelPCA(\n",
        "    n_components=100, kernel=\"rbf\", gamma=1e-3, fit_inverse_transform=True, alpha=5e-3\n",
        ")\n",
        "\n",
        "pca.fit(X_train)\n",
        "_ = kernel_pca.fit(X_train)"
      ],
      "metadata": {
        "id": "BCrmY6RHK4wa"
      },
      "execution_count": 31,
      "outputs": []
    },
    {
      "cell_type": "code",
      "source": [
        "try:\n",
        "  # %tensorflow_version only exists in Colab.\n",
        "  %tensorflow_version 2.x\n",
        "except Exception:\n",
        "  pass\n",
        "\n",
        "%load_ext tensorboard"
      ],
      "metadata": {
        "id": "zfz_GWF5rfAN",
        "outputId": "49e48125-73fa-44e1-8fe8-2c2c6be6cc41",
        "colab": {
          "base_uri": "https://localhost:8080/"
        }
      },
      "execution_count": 71,
      "outputs": [
        {
          "output_type": "stream",
          "name": "stdout",
          "text": [
            "Colab only includes TensorFlow 2.x; %tensorflow_version has no effect.\n"
          ]
        }
      ]
    },
    {
      "cell_type": "code",
      "source": [
        "import os\n",
        "import tensorflow as tf\n",
        "import tensorflow_datasets as tfds\n",
        "from tensorboard.plugins import projector"
      ],
      "metadata": {
        "id": "xPs0e3l9-qe-"
      },
      "execution_count": 72,
      "outputs": []
    },
    {
      "cell_type": "code",
      "source": [],
      "metadata": {
        "id": "Sfnj7dFF-uAv"
      },
      "execution_count": null,
      "outputs": []
    }
  ],
  "metadata": {
    "kernelspec": {
      "display_name": "Python 3",
      "language": "python",
      "name": "python3"
    },
    "language_info": {
      "codemirror_mode": {
        "name": "ipython",
        "version": 3
      },
      "file_extension": ".py",
      "mimetype": "text/x-python",
      "name": "python",
      "nbconvert_exporter": "python",
      "pygments_lexer": "ipython3",
      "version": "3.7.6"
    },
    "colab": {
      "provenance": [],
      "include_colab_link": true
    }
  },
  "nbformat": 4,
  "nbformat_minor": 0
}