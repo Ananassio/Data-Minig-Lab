{
  "cells": [
    {
      "cell_type": "markdown",
      "metadata": {
        "id": "view-in-github",
        "colab_type": "text"
      },
      "source": [
        "<a href=\"https://colab.research.google.com/github/Ananassio/Data-Minig-Lab/blob/main/Week_3/Lab_01_Numpy.ipynb\" target=\"_parent\"><img src=\"https://colab.research.google.com/assets/colab-badge.svg\" alt=\"Open In Colab\"/></a>"
      ]
    },
    {
      "cell_type": "markdown",
      "metadata": {
        "id": "Jk-XQMMLe2bv"
      },
      "source": [
        "# Numpy -  multidimensional data arrays"
      ]
    },
    {
      "cell_type": "markdown",
      "metadata": {
        "id": "vf8y82Dwe2bx"
      },
      "source": [
        "A modified tutorial based on a notebook by J.R. Johansson <BR>\n",
        "<it>(Creative Commons Attribution 3.0 Unported License.)</it>\n",
        "\n",
        "Ported to Python3 by Janis Keuper, Institute for Machine Learing and Analytics (IMLA), Offenburg University\n"
      ]
    },
    {
      "cell_type": "code",
      "execution_count": null,
      "metadata": {
        "id": "z3seT7bfe2bz"
      },
      "outputs": [],
      "source": [
        "# setup\n",
        "%matplotlib inline\n",
        "import matplotlib.pyplot as plt #common convention"
      ]
    },
    {
      "cell_type": "markdown",
      "metadata": {
        "id": "7l0iTKKee2b0"
      },
      "source": [
        "## Introduction"
      ]
    },
    {
      "cell_type": "markdown",
      "metadata": {
        "id": "2QrTuzjLe2b1"
      },
      "source": [
        "The `numpy` package (module) is used in almost all numerical computation using Python. It is a package that provide high-performance vector, matrix and higher-dimensional data structures for Python. It is implemented in C and Fortran so when calculations are vectorized (formulated with vectors and matrices), performance is very good. \n",
        "\n",
        "To use `numpy` you need to import the module, using for example:"
      ]
    },
    {
      "cell_type": "code",
      "execution_count": null,
      "metadata": {
        "id": "-DTfIbaKe2b2"
      },
      "outputs": [],
      "source": [
        "import numpy as np #common convention"
      ]
    },
    {
      "cell_type": "markdown",
      "metadata": {
        "id": "ICaJssG1e2b3"
      },
      "source": [
        "In the `numpy` package the terminology used for vectors, matrices and higher-dimensional data sets is *array*. \n",
        "\n"
      ]
    },
    {
      "cell_type": "markdown",
      "metadata": {
        "id": "lX9EqVJae2b4"
      },
      "source": [
        "## Creating `numpy` arrays"
      ]
    },
    {
      "cell_type": "markdown",
      "metadata": {
        "id": "KN0VYysMe2b4"
      },
      "source": [
        "There are a number of ways to initialize new numpy arrays, for example from\n",
        "\n",
        "* a Python list or tuples\n",
        "* using functions that are dedicated to generating numpy arrays, such as `arange`, `linspace`, etc.\n",
        "* reading data from files"
      ]
    },
    {
      "cell_type": "markdown",
      "metadata": {
        "id": "U25wTtEke2b6"
      },
      "source": [
        "### From lists"
      ]
    },
    {
      "cell_type": "markdown",
      "metadata": {
        "id": "iVCmhpJoe2b7"
      },
      "source": [
        "For example, to create new vector and matrix arrays from Python lists we can use the `numpy.array` function."
      ]
    },
    {
      "cell_type": "code",
      "execution_count": null,
      "metadata": {
        "id": "U7lHGQuee2b7"
      },
      "outputs": [],
      "source": [
        "# a vector: the argument to the array function is a Python list\n",
        "v = np.array([1,2,3,5])\n",
        "\n",
        "v"
      ]
    },
    {
      "cell_type": "code",
      "execution_count": null,
      "metadata": {
        "id": "Jh1UVPJ7e2b7"
      },
      "outputs": [],
      "source": [
        "# a matrix: the argument to the array function is a nested Python list\n",
        "M = np.array([[1, 2], [3, 4 ]])\n",
        "\n",
        "M"
      ]
    },
    {
      "cell_type": "markdown",
      "metadata": {
        "id": "WSr6pwpYe2b8"
      },
      "source": [
        "The `v` and `M` objects are both of the type `ndarray` that the `numpy` module provides."
      ]
    },
    {
      "cell_type": "code",
      "execution_count": null,
      "metadata": {
        "id": "P8vHHqSfe2b9"
      },
      "outputs": [],
      "source": [
        "type(v), type(M)"
      ]
    },
    {
      "cell_type": "markdown",
      "metadata": {
        "id": "6h8PFKdbe2b9"
      },
      "source": [
        "The difference between the `v` and `M` arrays is only their shapes. We can get information about the shape of an array by using the `ndarray.shape` property."
      ]
    },
    {
      "cell_type": "code",
      "execution_count": null,
      "metadata": {
        "id": "jzquI8fSe2b_"
      },
      "outputs": [],
      "source": [
        "v.shape"
      ]
    },
    {
      "cell_type": "code",
      "execution_count": null,
      "metadata": {
        "id": "RXmqORFNe2b_"
      },
      "outputs": [],
      "source": [
        "M.shape"
      ]
    },
    {
      "cell_type": "markdown",
      "metadata": {
        "id": "xY2aIx3Te2cA"
      },
      "source": [
        "The number of elements in the array is available through the `ndarray.size` property:"
      ]
    },
    {
      "cell_type": "code",
      "execution_count": null,
      "metadata": {
        "id": "FxPdGOUee2cA"
      },
      "outputs": [],
      "source": [
        "M.size"
      ]
    },
    {
      "cell_type": "markdown",
      "metadata": {
        "id": "wSl5SfJMe2cA"
      },
      "source": [
        "Equivalently, we could use the function `numpy.shape` and `numpy.size`"
      ]
    },
    {
      "cell_type": "code",
      "execution_count": null,
      "metadata": {
        "id": "QFQjtQ9Re2cB"
      },
      "outputs": [],
      "source": [
        "np.shape(M)"
      ]
    },
    {
      "cell_type": "code",
      "execution_count": null,
      "metadata": {
        "id": "-4vIB5V5e2cB"
      },
      "outputs": [],
      "source": [
        "np.size(M)"
      ]
    },
    {
      "cell_type": "markdown",
      "metadata": {
        "id": "5a-X3Vmwe2cB"
      },
      "source": [
        "So far the `numpy.ndarray` looks awefully much like a Python list (or nested list). Why not simply use Python lists for computations instead of creating a new array type? \n",
        "\n",
        "There are several reasons: \n",
        "\n",
        "* Python lists are very general. They can contain any kind of object. They are dynamically typed. They do not support mathematical functions such as matrix and dot multiplications, etc. Implementing such functions for Python lists would not be very efficient because of the dynamic typing.\n",
        "* Numpy arrays are **statically typed** and **homogeneous**. The type of the elements is determined when the array is created.\n",
        "* Numpy arrays are memory efficient.\n",
        "* Because of the static typing, fast implementation of mathematical functions such as multiplication and addition of `numpy` arrays can be implemented in a compiled language (C and Fortran is used)."
      ]
    },
    {
      "cell_type": "markdown",
      "metadata": {
        "id": "6hO09Rdfe2cB"
      },
      "source": [
        "Using the `dtype` (data type) property of an `ndarray`, we can see what type the data of an array has:"
      ]
    },
    {
      "cell_type": "code",
      "execution_count": null,
      "metadata": {
        "id": "ohWK9iOAe2cC"
      },
      "outputs": [],
      "source": [
        "M.dtype"
      ]
    },
    {
      "cell_type": "markdown",
      "metadata": {
        "id": "BCU6ykQfe2cC"
      },
      "source": [
        "We get an error if we try to assign a value of the wrong type to an element in a numpy array:"
      ]
    },
    {
      "cell_type": "code",
      "execution_count": null,
      "metadata": {
        "id": "gHPRkqCie2cC"
      },
      "outputs": [],
      "source": [
        "M[0,0] = \"hello\""
      ]
    },
    {
      "cell_type": "markdown",
      "metadata": {
        "id": "mmb9OS7we2cD"
      },
      "source": [
        "If we want, we can explicitly define the type of the array data when we create it, using the `dtype` keyword argument: "
      ]
    },
    {
      "cell_type": "code",
      "execution_count": null,
      "metadata": {
        "id": "9vIhAASPe2cD"
      },
      "outputs": [],
      "source": [
        "M = np.array([[1, 2], [3, 4]], dtype=complex)\n",
        "\n",
        "M"
      ]
    },
    {
      "cell_type": "markdown",
      "metadata": {
        "id": "2brDmC0ee2cD"
      },
      "source": [
        "Common data types that can be used with `dtype` are: `int`, `float`, `complex`, `bool`, `object`, etc.\n",
        "\n",
        "We can also explicitly define the bit size of the data types, for example: `int64`, `int16`, `float128`, `complex128`."
      ]
    },
    {
      "cell_type": "markdown",
      "metadata": {
        "id": "Jw_jFG7ze2cE"
      },
      "source": [
        "### Using array-generating functions"
      ]
    },
    {
      "cell_type": "markdown",
      "metadata": {
        "id": "uacfJkbNe2cE"
      },
      "source": [
        "For larger arrays it is inpractical to initialize the data manually, using explicit python lists. Instead we can use one of the many functions in `numpy` that generate arrays of different forms. Some of the more common are:"
      ]
    },
    {
      "cell_type": "markdown",
      "metadata": {
        "id": "pr2IlKhqe2cF"
      },
      "source": [
        "#### arange"
      ]
    },
    {
      "cell_type": "code",
      "execution_count": null,
      "metadata": {
        "id": "whV-avpxe2cF"
      },
      "outputs": [],
      "source": [
        "# create a range\n",
        "\n",
        "x = np.arange(0, 10, 1) # arguments: start, stop, step\n",
        "\n",
        "x"
      ]
    },
    {
      "cell_type": "code",
      "execution_count": null,
      "metadata": {
        "id": "pNyQhbF-e2cG"
      },
      "outputs": [],
      "source": [
        "x = np.arange(-1, 1, 0.1)\n",
        "\n",
        "x"
      ]
    },
    {
      "cell_type": "markdown",
      "metadata": {
        "id": "eVQIH83Xe2cG"
      },
      "source": [
        "#### linspace and logspace"
      ]
    },
    {
      "cell_type": "code",
      "execution_count": null,
      "metadata": {
        "id": "698xeRlMe2cG"
      },
      "outputs": [],
      "source": [
        "# using linspace, both end points ARE included\n",
        "np.linspace(0, 10, 25)"
      ]
    },
    {
      "cell_type": "code",
      "execution_count": null,
      "metadata": {
        "id": "arLSyQmLe2cH"
      },
      "outputs": [],
      "source": [
        "np.logspace(0, 10, 10, base=2)"
      ]
    },
    {
      "cell_type": "markdown",
      "metadata": {
        "id": "-nhCOc3we2cH"
      },
      "source": [
        "#### mgrid"
      ]
    },
    {
      "cell_type": "code",
      "execution_count": null,
      "metadata": {
        "id": "f0cGco58e2cH"
      },
      "outputs": [],
      "source": [
        "x, y = np.mgrid[0:5, 0:5] # similar to meshgrid in MATLAB"
      ]
    },
    {
      "cell_type": "code",
      "execution_count": null,
      "metadata": {
        "id": "r0l6eGFIe2cH"
      },
      "outputs": [],
      "source": [
        "x"
      ]
    },
    {
      "cell_type": "code",
      "execution_count": null,
      "metadata": {
        "id": "uMRwpGBqe2cI"
      },
      "outputs": [],
      "source": [
        "y"
      ]
    },
    {
      "cell_type": "markdown",
      "metadata": {
        "id": "qsEde7xqe2cI"
      },
      "source": [
        "#### random data"
      ]
    },
    {
      "cell_type": "code",
      "execution_count": null,
      "metadata": {
        "id": "GhNLJ6Pge2cI"
      },
      "outputs": [],
      "source": [
        "# uniform random numbers in [0,1]\n",
        "np.random.rand(5,5)"
      ]
    },
    {
      "cell_type": "code",
      "execution_count": null,
      "metadata": {
        "id": "APa8nef0e2cI"
      },
      "outputs": [],
      "source": [
        "# standard normal distributed random numbers\n",
        "np.random.randn(5,5)"
      ]
    },
    {
      "cell_type": "markdown",
      "metadata": {
        "id": "1h75wAEme2cJ"
      },
      "source": [
        "#### diag"
      ]
    },
    {
      "cell_type": "code",
      "execution_count": null,
      "metadata": {
        "id": "N43nHJQYe2cJ"
      },
      "outputs": [],
      "source": [
        "# a diagonal matrix\n",
        "np.diag([1,2,3])"
      ]
    },
    {
      "cell_type": "code",
      "execution_count": null,
      "metadata": {
        "id": "T8PuxpGge2cJ"
      },
      "outputs": [],
      "source": [
        "# diagonal with offset from the main diagonal\n",
        "np.diag([1,2,3], k=1) "
      ]
    },
    {
      "cell_type": "markdown",
      "metadata": {
        "id": "MsXqHvAke2cK"
      },
      "source": [
        "#### zeros and ones"
      ]
    },
    {
      "cell_type": "code",
      "execution_count": null,
      "metadata": {
        "id": "6QyibZGQe2cL"
      },
      "outputs": [],
      "source": [
        "? np.zeros"
      ]
    },
    {
      "cell_type": "code",
      "execution_count": null,
      "metadata": {
        "id": "7bJblFvSe2cL"
      },
      "outputs": [],
      "source": [
        "np.ones((3,3))"
      ]
    },
    {
      "cell_type": "markdown",
      "metadata": {
        "id": "Q3NPJYbfe2cL"
      },
      "source": [
        "## NumPy File I/O"
      ]
    },
    {
      "cell_type": "markdown",
      "metadata": {
        "id": "ZbVlo5gXe2cL"
      },
      "source": [
        "### Comma-separated values (CSV)"
      ]
    },
    {
      "cell_type": "markdown",
      "metadata": {
        "id": "s6EcEu5ye2cM"
      },
      "source": [
        "A very common file format for data files is comma-separated values (CSV), or related formats such as TSV (tab-separated values). To read data from such files into Numpy arrays we can use the `numpy.genfromtxt` function. For example, "
      ]
    },
    {
      "cell_type": "code",
      "execution_count": null,
      "metadata": {
        "id": "aYYWo7dfe2cM"
      },
      "outputs": [],
      "source": [
        "#get the data\n",
        "!git clone https://github.com/keuperj/DATA.git"
      ]
    },
    {
      "cell_type": "code",
      "execution_count": null,
      "metadata": {
        "id": "bKyhD5Ixe2cM"
      },
      "outputs": [],
      "source": [
        "data = np.genfromtxt('DATA/stockholm_td_adj.dat')"
      ]
    },
    {
      "cell_type": "code",
      "execution_count": null,
      "metadata": {
        "id": "TOksgNHae2cN"
      },
      "outputs": [],
      "source": [
        "data.shape"
      ]
    },
    {
      "cell_type": "code",
      "execution_count": null,
      "metadata": {
        "id": "dqplu2vke2cN"
      },
      "outputs": [],
      "source": [
        "fig, ax = plt.subplots(figsize=(14,4))\n",
        "ax.plot(data[:,0]+data[:,1]/12.0+data[:,2]/365, data[:,5])\n",
        "ax.axis('tight')\n",
        "ax.set_title('tempeatures in Stockholm')\n",
        "ax.set_xlabel('year')\n",
        "ax.set_ylabel('temperature (C)');"
      ]
    },
    {
      "cell_type": "markdown",
      "metadata": {
        "id": "ZC8OULNVe2cN"
      },
      "source": [
        "Using `numpy.savetxt` we can store a Numpy array to a file in CSV format:"
      ]
    },
    {
      "cell_type": "code",
      "execution_count": null,
      "metadata": {
        "id": "FcgRZspae2cO"
      },
      "outputs": [],
      "source": [
        "M = np.random.rand(3,3)\n",
        "\n",
        "M"
      ]
    },
    {
      "cell_type": "code",
      "execution_count": null,
      "metadata": {
        "id": "6z2B1VoDe2cP"
      },
      "outputs": [],
      "source": [
        "np.savetxt(\"random-matrix.csv\", M)"
      ]
    },
    {
      "cell_type": "code",
      "execution_count": null,
      "metadata": {
        "id": "Dvyv_h7Oe2cP"
      },
      "outputs": [],
      "source": [
        "!cat random-matrix.csv"
      ]
    },
    {
      "cell_type": "code",
      "execution_count": null,
      "metadata": {
        "id": "RUxLoyyke2cP"
      },
      "outputs": [],
      "source": [
        "np.savetxt(\"random-matrix.csv\", M, fmt='%.5f') # fmt specifies the format\n",
        "\n",
        "!cat random-matrix.csv"
      ]
    },
    {
      "cell_type": "markdown",
      "metadata": {
        "id": "Rr528xjbe2cP"
      },
      "source": [
        "### Numpy's native file format"
      ]
    },
    {
      "cell_type": "markdown",
      "metadata": {
        "id": "BOZwBE_le2cQ"
      },
      "source": [
        "Useful when storing and reading back numpy array data. Use the functions `numpy.save` and `numpy.load`:"
      ]
    },
    {
      "cell_type": "code",
      "execution_count": null,
      "metadata": {
        "id": "tM_JNsKKe2cQ"
      },
      "outputs": [],
      "source": [
        "np.save(\"random-matrix.npy\", M)\n",
        "\n",
        "!file random-matrix.npy"
      ]
    },
    {
      "cell_type": "code",
      "execution_count": null,
      "metadata": {
        "id": "TCDMAaWHe2cQ"
      },
      "outputs": [],
      "source": [
        "np.load(\"random-matrix.npy\")"
      ]
    },
    {
      "cell_type": "markdown",
      "metadata": {
        "id": "FFxaDdRHe2cQ"
      },
      "source": [
        "## More properties of the numpy arrays"
      ]
    },
    {
      "cell_type": "code",
      "execution_count": null,
      "metadata": {
        "id": "iJ0citYRe2cR"
      },
      "outputs": [],
      "source": [
        "M.itemsize # bytes per element"
      ]
    },
    {
      "cell_type": "code",
      "execution_count": null,
      "metadata": {
        "id": "FC7i0daWe2cR"
      },
      "outputs": [],
      "source": [
        "M.nbytes # number of bytes"
      ]
    },
    {
      "cell_type": "code",
      "execution_count": null,
      "metadata": {
        "id": "kM2djW2re2cR"
      },
      "outputs": [],
      "source": [
        "M.ndim # number of dimensions"
      ]
    },
    {
      "cell_type": "markdown",
      "metadata": {
        "id": "EsTYl8L4e2cR"
      },
      "source": [
        "## Manipulating arrays"
      ]
    },
    {
      "cell_type": "markdown",
      "metadata": {
        "id": "py_fFhwbe2cR"
      },
      "source": [
        "### Indexing"
      ]
    },
    {
      "cell_type": "markdown",
      "metadata": {
        "id": "gIVlXr_Xe2cR"
      },
      "source": [
        "We can index elements in an array using square brackets and indices:"
      ]
    },
    {
      "cell_type": "code",
      "execution_count": null,
      "metadata": {
        "id": "mWIJROVve2cS"
      },
      "outputs": [],
      "source": [
        "# v is a vector, and has only one dimension, taking one index\n",
        "v[0]"
      ]
    },
    {
      "cell_type": "code",
      "execution_count": null,
      "metadata": {
        "id": "tVnCKjfCe2cS"
      },
      "outputs": [],
      "source": [
        "# M is a matrix, or a 2 dimensional array, taking two indices \n",
        "M[1,1]"
      ]
    },
    {
      "cell_type": "markdown",
      "metadata": {
        "id": "bWNQLlXqe2cS"
      },
      "source": [
        "If we omit an index of a multidimensional array it returns the whole row (or, in general, a N-1 dimensional array) "
      ]
    },
    {
      "cell_type": "code",
      "execution_count": null,
      "metadata": {
        "id": "XhisxgUAe2cT"
      },
      "outputs": [],
      "source": [
        "M"
      ]
    },
    {
      "cell_type": "code",
      "execution_count": null,
      "metadata": {
        "id": "kvc4esQ1e2cT"
      },
      "outputs": [],
      "source": [
        "M[0]"
      ]
    },
    {
      "cell_type": "markdown",
      "metadata": {
        "id": "3H2XGZo6e2cT"
      },
      "source": [
        "The same thing can be achieved with using `:` instead of an index: "
      ]
    },
    {
      "cell_type": "code",
      "execution_count": null,
      "metadata": {
        "id": "X-5jjoome2cT"
      },
      "outputs": [],
      "source": [
        "M[1,:] # row 1"
      ]
    },
    {
      "cell_type": "code",
      "execution_count": null,
      "metadata": {
        "id": "c8ZK3O_Ze2cU"
      },
      "outputs": [],
      "source": [
        "M[:,1] # column 1"
      ]
    },
    {
      "cell_type": "markdown",
      "metadata": {
        "id": "M9NDHLSie2cU"
      },
      "source": [
        "We can assign new values to elements in an array using indexing:"
      ]
    },
    {
      "cell_type": "code",
      "execution_count": null,
      "metadata": {
        "id": "a6P5YnGge2cU"
      },
      "outputs": [],
      "source": [
        "M[0,0] = 1"
      ]
    },
    {
      "cell_type": "code",
      "execution_count": null,
      "metadata": {
        "id": "6cbC0-h0e2cU"
      },
      "outputs": [],
      "source": [
        "M"
      ]
    },
    {
      "cell_type": "code",
      "execution_count": null,
      "metadata": {
        "id": "sMHj6nD8e2cV"
      },
      "outputs": [],
      "source": [
        "# also works for rows and columns\n",
        "M[1,:] = 0\n",
        "M[:,2] = -1"
      ]
    },
    {
      "cell_type": "code",
      "execution_count": null,
      "metadata": {
        "id": "8Q45z2QUe2cV"
      },
      "outputs": [],
      "source": [
        "M"
      ]
    },
    {
      "cell_type": "markdown",
      "metadata": {
        "id": "_4C4AxRUe2cV"
      },
      "source": [
        "### Index slicing"
      ]
    },
    {
      "cell_type": "markdown",
      "metadata": {
        "id": "ogPQF8vRe2cW"
      },
      "source": [
        "Index slicing is the technical name for the syntax `M[lower:upper:step]` to extract part of an array:"
      ]
    },
    {
      "cell_type": "code",
      "execution_count": null,
      "metadata": {
        "id": "a2HTqIE8e2cW"
      },
      "outputs": [],
      "source": [
        "A = np.array([1,2,3,4,5])\n",
        "A"
      ]
    },
    {
      "cell_type": "code",
      "execution_count": null,
      "metadata": {
        "id": "k0Qg1Bdue2cX"
      },
      "outputs": [],
      "source": [
        "A[1:]"
      ]
    },
    {
      "cell_type": "markdown",
      "metadata": {
        "id": "y1EgRePne2cX"
      },
      "source": [
        "Array slices are *mutable*: if they are assigned a new value the original array from which the slice was extracted is modified:"
      ]
    },
    {
      "cell_type": "code",
      "execution_count": null,
      "metadata": {
        "id": "E-WPAIIDe2cX"
      },
      "outputs": [],
      "source": [
        "A[1:3] = [-2,-3]\n",
        "\n",
        "A"
      ]
    },
    {
      "cell_type": "markdown",
      "metadata": {
        "id": "iBSaFXjTe2cX"
      },
      "source": [
        "We can omit any of the three parameters in `M[lower:upper:step]`:"
      ]
    },
    {
      "cell_type": "code",
      "execution_count": null,
      "metadata": {
        "id": "GtUHvJ70e2cY"
      },
      "outputs": [],
      "source": [
        "A[::] # lower, upper, step all take the default values"
      ]
    },
    {
      "cell_type": "code",
      "execution_count": null,
      "metadata": {
        "id": "ezu1ZtcSe2cY"
      },
      "outputs": [],
      "source": [
        "A[::2] # step is 2, lower and upper defaults to the beginning and end of the array"
      ]
    },
    {
      "cell_type": "code",
      "execution_count": null,
      "metadata": {
        "id": "FRxScayqe2cZ"
      },
      "outputs": [],
      "source": [
        "A[:3] # first three elements"
      ]
    },
    {
      "cell_type": "code",
      "execution_count": null,
      "metadata": {
        "id": "pdxakgEoe2cb"
      },
      "outputs": [],
      "source": [
        "A[3:] # elements from index 3"
      ]
    },
    {
      "cell_type": "markdown",
      "metadata": {
        "id": "NK0LhweFe2cc"
      },
      "source": [
        "Negative indices counts from the end of the array (positive index from the begining):"
      ]
    },
    {
      "cell_type": "code",
      "execution_count": null,
      "metadata": {
        "id": "mxvcGqNce2cf"
      },
      "outputs": [],
      "source": [
        "A = np.array([1,2,3,4,5])"
      ]
    },
    {
      "cell_type": "code",
      "execution_count": null,
      "metadata": {
        "id": "q6kFIw5Ve2cf"
      },
      "outputs": [],
      "source": [
        "A[-1] # the last element in the array"
      ]
    },
    {
      "cell_type": "code",
      "execution_count": null,
      "metadata": {
        "id": "OsS5IwkVe2cf"
      },
      "outputs": [],
      "source": [
        "A[-3:] # the last three elements"
      ]
    },
    {
      "cell_type": "markdown",
      "metadata": {
        "id": "OHicOs5Se2cg"
      },
      "source": [
        "Index slicing works exactly the same way for multidimensional arrays:"
      ]
    },
    {
      "cell_type": "code",
      "execution_count": null,
      "metadata": {
        "id": "UhNJRV7se2cg"
      },
      "outputs": [],
      "source": [
        "A = np.array([[n+m*10 for n in range(5)] for m in range(5)])\n",
        "\n",
        "A"
      ]
    },
    {
      "cell_type": "code",
      "execution_count": null,
      "metadata": {
        "id": "sTV244Xfe2cg"
      },
      "outputs": [],
      "source": [
        "# a block from the original array\n",
        "A[1:4, 1:4]"
      ]
    },
    {
      "cell_type": "code",
      "execution_count": null,
      "metadata": {
        "id": "dY4MnByUe2ch"
      },
      "outputs": [],
      "source": [
        "# strides\n",
        "A[::2, ::2]"
      ]
    },
    {
      "cell_type": "markdown",
      "metadata": {
        "id": "eZyAxRtTe2ch"
      },
      "source": [
        "### Fancy indexing"
      ]
    },
    {
      "cell_type": "markdown",
      "metadata": {
        "id": "qI3f-BqFe2ch"
      },
      "source": [
        "Fancy indexing is the name for when an array or list is used in-place of an index: "
      ]
    },
    {
      "cell_type": "code",
      "execution_count": null,
      "metadata": {
        "id": "XejqGqt8e2ch"
      },
      "outputs": [],
      "source": [
        "row_indices = [1, 2, 3]\n",
        "A[row_indices]"
      ]
    },
    {
      "cell_type": "code",
      "execution_count": null,
      "metadata": {
        "id": "840c-VDse2ch"
      },
      "outputs": [],
      "source": [
        "col_indices = [1, 2, -1] # remember, index -1 means the last element\n",
        "A[row_indices, col_indices]"
      ]
    },
    {
      "cell_type": "markdown",
      "metadata": {
        "id": "cIyat4cGe2ch"
      },
      "source": [
        "We can also use index masks: If the index mask is an Numpy array of data type `bool`, then an element is selected (True) or not (False) depending on the value of the index mask at the position of each element: "
      ]
    },
    {
      "cell_type": "code",
      "execution_count": null,
      "metadata": {
        "id": "-oBVMhrFe2ci"
      },
      "outputs": [],
      "source": [
        "B = np.array([n for n in range(5)])\n",
        "B"
      ]
    },
    {
      "cell_type": "code",
      "execution_count": null,
      "metadata": {
        "id": "XBI0kJsXe2ci"
      },
      "outputs": [],
      "source": [
        "row_mask = np.array([True, False, True, False, False])\n",
        "B[row_mask]"
      ]
    },
    {
      "cell_type": "code",
      "execution_count": null,
      "metadata": {
        "id": "R-GcF2NHe2ci"
      },
      "outputs": [],
      "source": [
        "# same thing\n",
        "row_mask = np.array([1,0,1,0,0], dtype=bool)\n",
        "B[row_mask]"
      ]
    },
    {
      "cell_type": "markdown",
      "metadata": {
        "id": "HL0TOmmUe2ci"
      },
      "source": [
        "This feature is very useful to conditionally select elements from an array, using for example comparison operators:"
      ]
    },
    {
      "cell_type": "code",
      "execution_count": null,
      "metadata": {
        "id": "htgwi0ube2cj"
      },
      "outputs": [],
      "source": [
        "x = np.arange(0, 10, 0.5)\n",
        "x"
      ]
    },
    {
      "cell_type": "code",
      "execution_count": null,
      "metadata": {
        "id": "J6sVxVo8e2cj"
      },
      "outputs": [],
      "source": [
        "mask = (5 < x) * (x < 7.5)\n",
        "\n",
        "mask"
      ]
    },
    {
      "cell_type": "code",
      "execution_count": null,
      "metadata": {
        "id": "1lpQCqYme2cj"
      },
      "outputs": [],
      "source": [
        "x[mask]"
      ]
    },
    {
      "cell_type": "markdown",
      "metadata": {
        "id": "5lgI0eKue2ck"
      },
      "source": [
        "## Functions for extracting data from arrays and creating arrays"
      ]
    },
    {
      "cell_type": "markdown",
      "metadata": {
        "id": "Ox4-IbMne2cl"
      },
      "source": [
        "### where"
      ]
    },
    {
      "cell_type": "markdown",
      "metadata": {
        "id": "dvdNORzpe2cl"
      },
      "source": [
        "The index mask can be converted to position index using the `where` function"
      ]
    },
    {
      "cell_type": "code",
      "execution_count": null,
      "metadata": {
        "id": "mGGoE1mTe2cl"
      },
      "outputs": [],
      "source": [
        "indices =np.where(mask)\n",
        "\n",
        "indices"
      ]
    },
    {
      "cell_type": "code",
      "execution_count": null,
      "metadata": {
        "id": "qPat41TKe2cn"
      },
      "outputs": [],
      "source": [
        "x[indices] # this indexing is equivalent to the fancy indexing x[mask]"
      ]
    },
    {
      "cell_type": "markdown",
      "metadata": {
        "id": "EX7BF385e2cn"
      },
      "source": [
        "### diag"
      ]
    },
    {
      "cell_type": "markdown",
      "metadata": {
        "id": "CbQ71z7le2cn"
      },
      "source": [
        "With the diag function we can also extract the diagonal and subdiagonals of an array:"
      ]
    },
    {
      "cell_type": "code",
      "execution_count": null,
      "metadata": {
        "id": "dcqaCxGie2co"
      },
      "outputs": [],
      "source": [
        "np.diag(A)"
      ]
    },
    {
      "cell_type": "code",
      "execution_count": null,
      "metadata": {
        "id": "bWhf5YrXe2co"
      },
      "outputs": [],
      "source": [
        "np.diag(A, -1)"
      ]
    },
    {
      "cell_type": "markdown",
      "metadata": {
        "id": "Zhopvcuve2co"
      },
      "source": [
        "### take"
      ]
    },
    {
      "cell_type": "markdown",
      "metadata": {
        "id": "TH8gEjiIe2co"
      },
      "source": [
        "The `take` function is similar to fancy indexing described above:"
      ]
    },
    {
      "cell_type": "code",
      "execution_count": null,
      "metadata": {
        "id": "r83lJTgse2cp"
      },
      "outputs": [],
      "source": [
        "v2 = np.arange(-3,3)\n",
        "v2"
      ]
    },
    {
      "cell_type": "code",
      "execution_count": null,
      "metadata": {
        "id": "ja2uLtMae2cp"
      },
      "outputs": [],
      "source": [
        "row_indices = [1, 3, 5]\n",
        "v2[row_indices] # fancy indexing"
      ]
    },
    {
      "cell_type": "code",
      "execution_count": null,
      "metadata": {
        "id": "mauSnKPWe2cp"
      },
      "outputs": [],
      "source": [
        "v2.take(row_indices)"
      ]
    },
    {
      "cell_type": "markdown",
      "metadata": {
        "id": "IR23I-TXe2cp"
      },
      "source": [
        "But `take` also works on lists and other objects:"
      ]
    },
    {
      "cell_type": "code",
      "execution_count": null,
      "metadata": {
        "id": "eTOhmrsre2cq"
      },
      "outputs": [],
      "source": [
        "np.take([-3, -2, -1,  0,  1,  2], row_indices)"
      ]
    },
    {
      "cell_type": "markdown",
      "metadata": {
        "id": "Sspq8okje2cq"
      },
      "source": [
        "### choose"
      ]
    },
    {
      "cell_type": "markdown",
      "metadata": {
        "id": "x74cf99De2cq"
      },
      "source": [
        "Constructs an array by picking elements from several arrays:"
      ]
    },
    {
      "cell_type": "code",
      "execution_count": null,
      "metadata": {
        "id": "tm3g_UXbe2cq"
      },
      "outputs": [],
      "source": [
        "which = [1, 0, 1, 0]\n",
        "choices = [[-2,-2,-2,-2], [5,5,5,5]]\n",
        "\n",
        "np.choose(which, choices)"
      ]
    },
    {
      "cell_type": "markdown",
      "metadata": {
        "id": "KjUmES4Ye2cr"
      },
      "source": [
        "## Linear algebra"
      ]
    },
    {
      "cell_type": "markdown",
      "metadata": {
        "id": "tiTnSug-e2cr"
      },
      "source": [
        "Vectorizing code is the key to writing efficient numerical calculation with Python/Numpy. That means that as much as possible of a program should be formulated in terms of matrix and vector operations, like matrix-matrix multiplication."
      ]
    },
    {
      "cell_type": "markdown",
      "metadata": {
        "id": "exD748IDe2cr"
      },
      "source": [
        "### Scalar-array operations"
      ]
    },
    {
      "cell_type": "markdown",
      "metadata": {
        "id": "9PwtFzaGe2cs"
      },
      "source": [
        "We can use the usual arithmetic operators to multiply, add, subtract, and divide arrays with scalar numbers."
      ]
    },
    {
      "cell_type": "code",
      "execution_count": null,
      "metadata": {
        "id": "OuhX80X1e2cs"
      },
      "outputs": [],
      "source": [
        "v1 = np.arange(0, 5)"
      ]
    },
    {
      "cell_type": "code",
      "execution_count": null,
      "metadata": {
        "id": "LSHocgNhe2cs"
      },
      "outputs": [],
      "source": [
        "v1 * 2"
      ]
    },
    {
      "cell_type": "code",
      "execution_count": null,
      "metadata": {
        "id": "To_f-Muye2cs"
      },
      "outputs": [],
      "source": [
        "v1 + 2"
      ]
    },
    {
      "cell_type": "code",
      "execution_count": null,
      "metadata": {
        "id": "qCiRz62Qe2cs"
      },
      "outputs": [],
      "source": [
        "A * 2, A + 2"
      ]
    },
    {
      "cell_type": "markdown",
      "metadata": {
        "id": "TJLWDiAze2cs"
      },
      "source": [
        "### Element-wise array-array operations"
      ]
    },
    {
      "cell_type": "markdown",
      "metadata": {
        "id": "rWy9L5Doe2ct"
      },
      "source": [
        "When we add, subtract, multiply and divide arrays with each other, the default behaviour is **element-wise** operations:"
      ]
    },
    {
      "cell_type": "code",
      "execution_count": null,
      "metadata": {
        "id": "vSRCdH7ke2ct"
      },
      "outputs": [],
      "source": [
        "A * A # element-wise multiplication"
      ]
    },
    {
      "cell_type": "code",
      "execution_count": null,
      "metadata": {
        "id": "LxXlrcDHe2ct"
      },
      "outputs": [],
      "source": [
        "v1 * v1"
      ]
    },
    {
      "cell_type": "markdown",
      "metadata": {
        "id": "X5-SpA-Le2cu"
      },
      "source": [
        "If we multiply arrays with compatible shapes, we get an element-wise multiplication of each row:"
      ]
    },
    {
      "cell_type": "code",
      "execution_count": null,
      "metadata": {
        "id": "XsqvrFnme2cu"
      },
      "outputs": [],
      "source": [
        "A.shape, v1.shape"
      ]
    },
    {
      "cell_type": "code",
      "execution_count": null,
      "metadata": {
        "id": "UwMmLSBHe2cu"
      },
      "outputs": [],
      "source": [
        "A * v1"
      ]
    },
    {
      "cell_type": "markdown",
      "metadata": {
        "id": "NV4I666he2cv"
      },
      "source": [
        "### Complex Array Expressions\n",
        "\n",
        "Problem: Numpy evaluates Array expression step by step, producing temp solutions.<BR>"
      ]
    },
    {
      "cell_type": "code",
      "execution_count": null,
      "metadata": {
        "id": "fsbe7roze2cv"
      },
      "outputs": [],
      "source": [
        "\n",
        "\n",
        "x,y,z = np.random.rand(3,1000000)\n",
        "\n",
        "%timeit x +(y**2 +(z*x +1)*4)"
      ]
    },
    {
      "cell_type": "markdown",
      "metadata": {
        "id": "c_XrPNwMe2cv"
      },
      "source": [
        "#### Numerxp solves this problem: "
      ]
    },
    {
      "cell_type": "code",
      "execution_count": null,
      "metadata": {
        "id": "vWLWRjGTe2cv"
      },
      "outputs": [],
      "source": [
        "import numexpr as ne\n",
        "\n",
        "%timeit ne.evaluate('x +(y**2 +(z*x +1)*4)')"
      ]
    },
    {
      "cell_type": "markdown",
      "metadata": {
        "id": "6m9jiHRoe2cx"
      },
      "source": [
        "### Matrix algebra"
      ]
    },
    {
      "cell_type": "markdown",
      "metadata": {
        "id": "3bD0N2QAe2cx"
      },
      "source": [
        "What about matrix mutiplication? There are two ways. We can either use the `dot` function, which applies a matrix-matrix, matrix-vector, or inner vector multiplication to its two arguments: "
      ]
    },
    {
      "cell_type": "code",
      "execution_count": null,
      "metadata": {
        "id": "9QGLFz4Ue2cx"
      },
      "outputs": [],
      "source": [
        "np.dot(A, A)"
      ]
    },
    {
      "cell_type": "code",
      "execution_count": null,
      "metadata": {
        "id": "y937rp7ne2cx"
      },
      "outputs": [],
      "source": [
        "np.dot(A, v1)"
      ]
    },
    {
      "cell_type": "code",
      "execution_count": null,
      "metadata": {
        "id": "NvlCqcoLe2cx"
      },
      "outputs": [],
      "source": [
        "np.dot(v1, v1)"
      ]
    },
    {
      "cell_type": "markdown",
      "metadata": {
        "id": "WmUwrAM0e2cx"
      },
      "source": [
        "Alternatively, we can cast the array objects to the type `matrix`. This changes the behavior of the standard arithmetic operators `+, -, *` to use matrix algebra."
      ]
    },
    {
      "cell_type": "code",
      "execution_count": null,
      "metadata": {
        "id": "EKvAvib3e2cx"
      },
      "outputs": [],
      "source": [
        "M = np.matrix(A)\n",
        "v = np.matrix(v1).T # make it a column vector"
      ]
    },
    {
      "cell_type": "code",
      "execution_count": null,
      "metadata": {
        "id": "8EWdGmy5e2cy"
      },
      "outputs": [],
      "source": [
        "v"
      ]
    },
    {
      "cell_type": "code",
      "execution_count": null,
      "metadata": {
        "id": "A5KMq_oZe2cy"
      },
      "outputs": [],
      "source": [
        "M * M"
      ]
    },
    {
      "cell_type": "code",
      "execution_count": null,
      "metadata": {
        "id": "yGYLIJfDe2cy"
      },
      "outputs": [],
      "source": [
        "M * v"
      ]
    },
    {
      "cell_type": "code",
      "execution_count": null,
      "metadata": {
        "id": "fPdixnd9e2cz"
      },
      "outputs": [],
      "source": [
        "# inner product\n",
        "v.T * v"
      ]
    },
    {
      "cell_type": "code",
      "execution_count": null,
      "metadata": {
        "id": "RtCPPTG9e2cz"
      },
      "outputs": [],
      "source": [
        "# with matrix objects, standard matrix algebra applies\n",
        "v + M*v"
      ]
    },
    {
      "cell_type": "markdown",
      "metadata": {
        "id": "B_c_HyGUe2cz"
      },
      "source": [
        "If we try to add, subtract or multiply objects with incomplatible shapes we get an error:"
      ]
    },
    {
      "cell_type": "code",
      "execution_count": null,
      "metadata": {
        "id": "abBudwppe2c0"
      },
      "outputs": [],
      "source": [
        "v = np.matrix([1,2,3,4,5,6]).T"
      ]
    },
    {
      "cell_type": "code",
      "execution_count": null,
      "metadata": {
        "id": "p47bOZkde2c0"
      },
      "outputs": [],
      "source": [
        "np.shape(M), np.shape(v)"
      ]
    },
    {
      "cell_type": "code",
      "execution_count": null,
      "metadata": {
        "id": "iTKn_1q5e2c1"
      },
      "outputs": [],
      "source": [
        "M * v"
      ]
    },
    {
      "cell_type": "markdown",
      "metadata": {
        "id": "ZSU-z2qce2c1"
      },
      "source": [
        "See also the related functions: `inner`, `outer`, `cross`, `kron`, `tensordot`. Try for example `help(kron)`."
      ]
    },
    {
      "cell_type": "markdown",
      "metadata": {
        "id": "Zjs9pyBee2c1"
      },
      "source": [
        "### Array/Matrix transformations"
      ]
    },
    {
      "cell_type": "markdown",
      "metadata": {
        "id": "VUajVEw3e2c1"
      },
      "source": [
        "Above we have used the `.T` to transpose the matrix object `v`. We could also have used the `transpose` function to accomplish the same thing. \n",
        "\n",
        "Other mathematical functions that transform matrix objects are:"
      ]
    },
    {
      "cell_type": "code",
      "execution_count": null,
      "metadata": {
        "id": "g0Yzel3ze2c2"
      },
      "outputs": [],
      "source": [
        "C = np.matrix([[1j, 2j], [3j, 4j]])\n",
        "C"
      ]
    },
    {
      "cell_type": "code",
      "execution_count": null,
      "metadata": {
        "id": "o8-K7OjXe2c2"
      },
      "outputs": [],
      "source": [
        "np.conjugate(C)"
      ]
    },
    {
      "cell_type": "markdown",
      "metadata": {
        "id": "ku9IVtdbe2c3"
      },
      "source": [
        "Hermitian conjugate: transpose + conjugate"
      ]
    },
    {
      "cell_type": "code",
      "execution_count": null,
      "metadata": {
        "id": "Y3IsEX0Ye2c3"
      },
      "outputs": [],
      "source": [
        "C.H"
      ]
    },
    {
      "cell_type": "markdown",
      "metadata": {
        "id": "itBs21zAe2c3"
      },
      "source": [
        "We can extract the real and imaginary parts of complex-valued arrays using `real` and `imag`:"
      ]
    },
    {
      "cell_type": "code",
      "execution_count": null,
      "metadata": {
        "id": "2iVtGevOe2c3"
      },
      "outputs": [],
      "source": [
        "np.real(C) # same as: C.real"
      ]
    },
    {
      "cell_type": "code",
      "execution_count": null,
      "metadata": {
        "id": "_EE-K6n5e2c3"
      },
      "outputs": [],
      "source": [
        "np.imag(C) # same as: C.imag"
      ]
    },
    {
      "cell_type": "markdown",
      "metadata": {
        "id": "ZWJtfXEme2c4"
      },
      "source": [
        "Or the complex argument and absolute value"
      ]
    },
    {
      "cell_type": "code",
      "execution_count": null,
      "metadata": {
        "id": "AN6yAuTle2c4"
      },
      "outputs": [],
      "source": [
        "np.angle(C+1) # heads up MATLAB Users, angle is used instead of arg"
      ]
    },
    {
      "cell_type": "code",
      "execution_count": null,
      "metadata": {
        "id": "OvOnW8g-e2c4"
      },
      "outputs": [],
      "source": [
        "abs(C)"
      ]
    },
    {
      "cell_type": "markdown",
      "metadata": {
        "id": "5TPRZ1FGe2c4"
      },
      "source": [
        "### Matrix computations"
      ]
    },
    {
      "cell_type": "markdown",
      "metadata": {
        "id": "-zyotUO2e2c4"
      },
      "source": [
        "#### Inverse"
      ]
    },
    {
      "cell_type": "code",
      "execution_count": null,
      "metadata": {
        "id": "elW7CmKAe2c5"
      },
      "outputs": [],
      "source": [
        "np.linalg.inv(C) # equivalent to C.I "
      ]
    },
    {
      "cell_type": "code",
      "execution_count": null,
      "metadata": {
        "id": "rtzzvhK3e2c5"
      },
      "outputs": [],
      "source": [
        "C.I * C"
      ]
    },
    {
      "cell_type": "markdown",
      "metadata": {
        "id": "AkOWuRFTe2c5"
      },
      "source": [
        "#### Determinant"
      ]
    },
    {
      "cell_type": "code",
      "execution_count": null,
      "metadata": {
        "id": "QXxnzMTUe2c5"
      },
      "outputs": [],
      "source": [
        "np.linalg.det(C)"
      ]
    },
    {
      "cell_type": "code",
      "execution_count": null,
      "metadata": {
        "id": "yfovbg5ye2c5"
      },
      "outputs": [],
      "source": [
        "np.linalg.det(C.I)"
      ]
    },
    {
      "cell_type": "markdown",
      "metadata": {
        "id": "RL6pWhfKe2c6"
      },
      "source": [
        "### Data processing"
      ]
    },
    {
      "cell_type": "markdown",
      "metadata": {
        "id": "ld7Z6kIGe2c6"
      },
      "source": [
        "Often it is useful to store datasets in Numpy arrays. Numpy provides a number of functions to calculate statistics of datasets in arrays. \n",
        "\n",
        "For example, let's calculate some properties from the Stockholm temperature dataset used above."
      ]
    },
    {
      "cell_type": "code",
      "execution_count": null,
      "metadata": {
        "id": "IZPT-LtFe2c6"
      },
      "outputs": [],
      "source": [
        "# reminder, the tempeature dataset is stored in the data variable:\n",
        "np.shape(data)"
      ]
    },
    {
      "cell_type": "markdown",
      "metadata": {
        "id": "S_Ks5LuYe2c6"
      },
      "source": [
        "#### mean"
      ]
    },
    {
      "cell_type": "code",
      "execution_count": null,
      "metadata": {
        "id": "Q3WpFQ9Ie2c7"
      },
      "outputs": [],
      "source": [
        "# the temperature data is in column 3\n",
        "np.mean(data[:,3])"
      ]
    },
    {
      "cell_type": "markdown",
      "metadata": {
        "id": "fOA2lED_e2c7"
      },
      "source": [
        "The daily mean temperature in Stockholm over the last 200 years has been about 6.2 C."
      ]
    },
    {
      "cell_type": "markdown",
      "metadata": {
        "id": "J3VWhbwIe2c7"
      },
      "source": [
        "#### standard deviations and variance"
      ]
    },
    {
      "cell_type": "code",
      "execution_count": null,
      "metadata": {
        "id": "FoqYpiHMe2c8"
      },
      "outputs": [],
      "source": [
        "np.std(data[:,3]), np.var(data[:,3])"
      ]
    },
    {
      "cell_type": "markdown",
      "metadata": {
        "id": "RtE7ukqDe2c8"
      },
      "source": [
        "#### min and max"
      ]
    },
    {
      "cell_type": "code",
      "execution_count": null,
      "metadata": {
        "id": "TZCLXYVPe2c8"
      },
      "outputs": [],
      "source": [
        "# lowest daily average temperature\n",
        "data[:,3].min()"
      ]
    },
    {
      "cell_type": "code",
      "execution_count": null,
      "metadata": {
        "id": "1MTb0YT4e2c8"
      },
      "outputs": [],
      "source": [
        "# highest daily average temperature\n",
        "data[:,3].max()"
      ]
    },
    {
      "cell_type": "markdown",
      "metadata": {
        "id": "_Rrl1TVze2c8"
      },
      "source": [
        "#### sum, prod, and trace"
      ]
    },
    {
      "cell_type": "code",
      "execution_count": null,
      "metadata": {
        "id": "9SthOLjce2c8"
      },
      "outputs": [],
      "source": [
        "d = np.arange(0, 10)\n",
        "d"
      ]
    },
    {
      "cell_type": "code",
      "execution_count": null,
      "metadata": {
        "id": "zabgLpC6e2c8"
      },
      "outputs": [],
      "source": [
        "# sum up all elements\n",
        "np.sum(d)"
      ]
    },
    {
      "cell_type": "code",
      "execution_count": null,
      "metadata": {
        "id": "2ZVJXAM_e2c9"
      },
      "outputs": [],
      "source": [
        "# product of all elements\n",
        "np.prod(d+1)"
      ]
    },
    {
      "cell_type": "code",
      "execution_count": null,
      "metadata": {
        "id": "9HfU0M49e2c9"
      },
      "outputs": [],
      "source": [
        "# cummulative sum\n",
        "np.cumsum(d)"
      ]
    },
    {
      "cell_type": "code",
      "execution_count": null,
      "metadata": {
        "id": "p3NtneD_e2c9"
      },
      "outputs": [],
      "source": [
        "# cummulative product\n",
        "np.cumprod(d+1)"
      ]
    },
    {
      "cell_type": "code",
      "execution_count": null,
      "metadata": {
        "id": "afX0eSoFe2dG"
      },
      "outputs": [],
      "source": [
        "# same as: diag(A).sum()\n",
        "np.trace(A)"
      ]
    },
    {
      "cell_type": "markdown",
      "metadata": {
        "id": "7Tsg087We2dH"
      },
      "source": [
        "#### dealing with NaNs and Infs"
      ]
    },
    {
      "cell_type": "code",
      "execution_count": null,
      "metadata": {
        "id": "vwNynPcBe2dH"
      },
      "outputs": [],
      "source": [
        "A=np.random.rand(3,3)\n",
        "A[1,1]=np.nan\n",
        "A\n"
      ]
    },
    {
      "cell_type": "code",
      "execution_count": null,
      "metadata": {
        "id": "3s4DTEzGe2dH"
      },
      "outputs": [],
      "source": [
        "np.isnan(A)"
      ]
    },
    {
      "cell_type": "markdown",
      "metadata": {
        "id": "ur_tybzWe2dI"
      },
      "source": [
        "Many NaN safe functions like:"
      ]
    },
    {
      "cell_type": "code",
      "execution_count": null,
      "metadata": {
        "id": "PkctlJbpe2dI"
      },
      "outputs": [],
      "source": [
        "np.nansum(A)"
      ]
    },
    {
      "cell_type": "markdown",
      "metadata": {
        "id": "TBF_O1YGe2dI"
      },
      "source": [
        "Convert NaN to 0:"
      ]
    },
    {
      "cell_type": "code",
      "execution_count": null,
      "metadata": {
        "id": "H6m3DYQje2dI"
      },
      "outputs": [],
      "source": [
        "np.nan_to_num(A)\n",
        "\n"
      ]
    },
    {
      "cell_type": "markdown",
      "metadata": {
        "id": "Vq1cIyime2dI"
      },
      "source": [
        "### Computations on subsets of arrays"
      ]
    },
    {
      "cell_type": "markdown",
      "metadata": {
        "id": "hl3Ew3-Ee2dJ"
      },
      "source": [
        "We can compute with subsets of the data in an array using indexing, fancy indexing, and the other methods of extracting data from an array (described above).\n",
        "\n",
        "For example, let's go back to the temperature dataset:"
      ]
    },
    {
      "cell_type": "code",
      "execution_count": null,
      "metadata": {
        "id": "qckFAEOYe2dJ"
      },
      "outputs": [],
      "source": [
        "!head -n 3 stockholm_td_adj.dat"
      ]
    },
    {
      "cell_type": "markdown",
      "metadata": {
        "id": "7Ml0xu7_e2dJ"
      },
      "source": [
        "The dataformat is: year, month, day, daily average temperature, low, high, location.\n",
        "\n",
        "If we are interested in the average temperature only in a particular month, say February, then we can create a index mask and use it to select only the data for that month using:"
      ]
    },
    {
      "cell_type": "code",
      "execution_count": null,
      "metadata": {
        "id": "YClZhpsqe2dJ"
      },
      "outputs": [],
      "source": [
        "np.unique(data[:,1]) # the month column takes values from 1 to 12"
      ]
    },
    {
      "cell_type": "code",
      "execution_count": null,
      "metadata": {
        "id": "zAh6rBTje2dK"
      },
      "outputs": [],
      "source": [
        "mask_feb = data[:,1] == 2"
      ]
    },
    {
      "cell_type": "code",
      "execution_count": null,
      "metadata": {
        "id": "W6EQqwwWe2dK"
      },
      "outputs": [],
      "source": [
        "# the temperature data is in column 3\n",
        "np.mean(data[mask_feb,3])"
      ]
    },
    {
      "cell_type": "markdown",
      "metadata": {
        "id": "Z7PzTLuie2dK"
      },
      "source": [
        "With these tools we have very powerful data processing capabilities at our disposal. For example, to extract the average monthly average temperatures for each month of the year only takes a few lines of code: "
      ]
    },
    {
      "cell_type": "code",
      "execution_count": null,
      "metadata": {
        "id": "kgkETn0Be2dK"
      },
      "outputs": [],
      "source": [
        "months = np.arange(1,13)\n",
        "monthly_mean = [np.mean(data[data[:,1] == month, 3]) for month in months]\n",
        "\n",
        "fig, ax = plt.subplots()\n",
        "ax.bar(months, monthly_mean)\n",
        "ax.set_xlabel(\"Month\")\n",
        "ax.set_ylabel(\"Monthly avg. temp.\");"
      ]
    },
    {
      "cell_type": "markdown",
      "metadata": {
        "id": "Lb0intsye2dL"
      },
      "source": [
        "### Calculations with higher-dimensional data"
      ]
    },
    {
      "cell_type": "markdown",
      "metadata": {
        "id": "3_LjDgVLe2dL"
      },
      "source": [
        "When functions such as `min`, `max`, etc. are applied to a multidimensional arrays, it is sometimes useful to apply the calculation to the entire array, and sometimes only on a row or column basis. Using the `axis` argument we can specify how these functions should behave: "
      ]
    },
    {
      "cell_type": "code",
      "execution_count": null,
      "metadata": {
        "id": "X9gXF4qse2dL"
      },
      "outputs": [],
      "source": [
        "m = np.random.rand(3,3)\n",
        "m"
      ]
    },
    {
      "cell_type": "code",
      "execution_count": null,
      "metadata": {
        "id": "qrQL2XGKe2dM"
      },
      "outputs": [],
      "source": [
        "# global max\n",
        "m.max()"
      ]
    },
    {
      "cell_type": "code",
      "execution_count": null,
      "metadata": {
        "id": "_NfsrUWoe2dM"
      },
      "outputs": [],
      "source": [
        "# max in each column\n",
        "m.max(axis=0)"
      ]
    },
    {
      "cell_type": "code",
      "execution_count": null,
      "metadata": {
        "id": "YNbYKLeve2dM"
      },
      "outputs": [],
      "source": [
        "# max in each row\n",
        "m.max(axis=1)"
      ]
    },
    {
      "cell_type": "markdown",
      "metadata": {
        "id": "B3ydBvb1e2dM"
      },
      "source": [
        "Many other functions and methods in the `array` and `matrix` classes accept the same (optional) `axis` keyword argument."
      ]
    },
    {
      "cell_type": "markdown",
      "metadata": {
        "id": "6VdpDvhne2dM"
      },
      "source": [
        "## Reshaping, resizing and stacking arrays"
      ]
    },
    {
      "cell_type": "markdown",
      "metadata": {
        "id": "uaUjkCI3e2dN"
      },
      "source": [
        "The shape of an Numpy array can be modified without copying the underlaying data, which makes it a fast operation even for large arrays."
      ]
    },
    {
      "cell_type": "code",
      "execution_count": null,
      "metadata": {
        "id": "yDunEdP5e2dN"
      },
      "outputs": [],
      "source": [
        "A"
      ]
    },
    {
      "cell_type": "code",
      "execution_count": null,
      "metadata": {
        "id": "woFEXzLse2dN"
      },
      "outputs": [],
      "source": [
        "n, m = A.shape"
      ]
    },
    {
      "cell_type": "code",
      "execution_count": null,
      "metadata": {
        "id": "sGwV-oh_e2dN"
      },
      "outputs": [],
      "source": [
        "B = A.reshape((1,n*m))\n",
        "B"
      ]
    },
    {
      "cell_type": "code",
      "execution_count": null,
      "metadata": {
        "id": "UDycmxmxe2dN"
      },
      "outputs": [],
      "source": [
        "B[0,0:5] = 5 # modify the array\n",
        "\n",
        "B"
      ]
    },
    {
      "cell_type": "code",
      "execution_count": null,
      "metadata": {
        "id": "p48teVFJe2dO"
      },
      "outputs": [],
      "source": [
        "A # and the original variable is also changed. B is only a different view of the same data"
      ]
    },
    {
      "cell_type": "markdown",
      "metadata": {
        "id": "Xv3BA9Vye2dO"
      },
      "source": [
        "We can also use the function `flatten` to make a higher-dimensional array into a vector. But this function create a copy of the data."
      ]
    },
    {
      "cell_type": "code",
      "execution_count": null,
      "metadata": {
        "id": "rNi6YR-Ge2dO"
      },
      "outputs": [],
      "source": [
        "B = A.flatten()\n",
        "\n",
        "B"
      ]
    },
    {
      "cell_type": "code",
      "execution_count": null,
      "metadata": {
        "id": "ttEN9s03e2dO"
      },
      "outputs": [],
      "source": [
        "B[0:5] = 10\n",
        "\n",
        "B"
      ]
    },
    {
      "cell_type": "code",
      "execution_count": null,
      "metadata": {
        "id": "wdNZACKRe2dO"
      },
      "outputs": [],
      "source": [
        "A # now A has not changed, because B's data is a copy of A's, not refering to the same data"
      ]
    },
    {
      "cell_type": "markdown",
      "metadata": {
        "id": "0NfL35Txe2dP"
      },
      "source": [
        "## Adding a new dimension: newaxis"
      ]
    },
    {
      "cell_type": "markdown",
      "metadata": {
        "id": "OrrUPjxse2dQ"
      },
      "source": [
        "With `newaxis`, we can insert new dimensions in an array, for example converting a vector to a column or row matrix:"
      ]
    },
    {
      "cell_type": "code",
      "execution_count": null,
      "metadata": {
        "id": "05ENKBq2e2dQ"
      },
      "outputs": [],
      "source": [
        "v = np.array([1,2,3])"
      ]
    },
    {
      "cell_type": "code",
      "execution_count": null,
      "metadata": {
        "id": "Rt3NpinIe2dQ"
      },
      "outputs": [],
      "source": [
        "np.shape(v)"
      ]
    },
    {
      "cell_type": "code",
      "execution_count": null,
      "metadata": {
        "id": "aFkvd3VWe2dR"
      },
      "outputs": [],
      "source": [
        "# make a column matrix of the vector v\n",
        "v[:, np.newaxis]"
      ]
    },
    {
      "cell_type": "code",
      "execution_count": null,
      "metadata": {
        "id": "FRuD4Ww3e2dR"
      },
      "outputs": [],
      "source": [
        "# column matrix\n",
        "v[:,np.newaxis].shape"
      ]
    },
    {
      "cell_type": "code",
      "execution_count": null,
      "metadata": {
        "id": "bP1K1u-Oe2dS"
      },
      "outputs": [],
      "source": [
        "# row matrix\n",
        "v[np.newaxis,:].shape"
      ]
    },
    {
      "cell_type": "markdown",
      "metadata": {
        "id": "k6q9DRJte2dS"
      },
      "source": [
        "## Stacking and repeating arrays"
      ]
    },
    {
      "cell_type": "markdown",
      "metadata": {
        "id": "0s_CrNEZe2dS"
      },
      "source": [
        "Using function `repeat`, `tile`, `vstack`, `hstack`, and `concatenate` we can create larger vectors and matrices from smaller ones:"
      ]
    },
    {
      "cell_type": "markdown",
      "metadata": {
        "id": "6oElLv_Pe2dT"
      },
      "source": [
        "### tile and repeat"
      ]
    },
    {
      "cell_type": "code",
      "execution_count": null,
      "metadata": {
        "id": "J-_sZxbse2dT"
      },
      "outputs": [],
      "source": [
        "a = np.array([[1, 2], [3, 4]])"
      ]
    },
    {
      "cell_type": "code",
      "execution_count": null,
      "metadata": {
        "id": "sjdBnvHFe2dT"
      },
      "outputs": [],
      "source": [
        "# repeat each element 3 times\n",
        "np.repeat(a, 3)"
      ]
    },
    {
      "cell_type": "code",
      "execution_count": null,
      "metadata": {
        "id": "pvAvagS8e2dT"
      },
      "outputs": [],
      "source": [
        "# tile the matrix 3 times \n",
        "np.tile(a, 3)"
      ]
    },
    {
      "cell_type": "markdown",
      "metadata": {
        "id": "efWBKuape2dT"
      },
      "source": [
        "### concatenate"
      ]
    },
    {
      "cell_type": "code",
      "execution_count": null,
      "metadata": {
        "id": "gT1YOEfYe2dT"
      },
      "outputs": [],
      "source": [
        "b = np.array([[5, 6]])"
      ]
    },
    {
      "cell_type": "code",
      "execution_count": null,
      "metadata": {
        "id": "FGWhS2xPe2dU"
      },
      "outputs": [],
      "source": [
        "np.concatenate((a, b), axis=0)"
      ]
    },
    {
      "cell_type": "code",
      "execution_count": null,
      "metadata": {
        "id": "0t0Ik6uAe2dU"
      },
      "outputs": [],
      "source": [
        "np.concatenate((a, b.T), axis=1)"
      ]
    },
    {
      "cell_type": "markdown",
      "metadata": {
        "id": "kI54T7JDe2dU"
      },
      "source": [
        "### hstack and vstack"
      ]
    },
    {
      "cell_type": "code",
      "execution_count": null,
      "metadata": {
        "id": "hOpm1Y7te2dU"
      },
      "outputs": [],
      "source": [
        "np.vstack((a,b))"
      ]
    },
    {
      "cell_type": "code",
      "execution_count": null,
      "metadata": {
        "id": "fg4Ml9Qye2dV"
      },
      "outputs": [],
      "source": [
        "np.hstack((a,b.T))"
      ]
    },
    {
      "cell_type": "markdown",
      "metadata": {
        "id": "AL5SXIEhe2dV"
      },
      "source": [
        "## Copy and \"deep copy\""
      ]
    },
    {
      "cell_type": "markdown",
      "metadata": {
        "id": "LWWYjpGRe2dV"
      },
      "source": [
        "To achieve high performance, assignments in Python usually do not copy the underlaying objects. This is important for example when objects are passed between functions, to avoid an excessive amount of memory copying when it is not necessary (technical term: pass by reference). "
      ]
    },
    {
      "cell_type": "code",
      "execution_count": null,
      "metadata": {
        "id": "jPJkeZkge2dV"
      },
      "outputs": [],
      "source": [
        "A = np.array([[1, 2], [3, 4]])\n",
        "\n",
        "A"
      ]
    },
    {
      "cell_type": "code",
      "execution_count": null,
      "metadata": {
        "id": "y__s9FO0e2dV"
      },
      "outputs": [],
      "source": [
        "# now B is referring to the same array data as A \n",
        "B = A "
      ]
    },
    {
      "cell_type": "code",
      "execution_count": null,
      "metadata": {
        "id": "O6rpqmc3e2dV"
      },
      "outputs": [],
      "source": [
        "# changing B affects A\n",
        "B[0,0] = 10\n",
        "\n",
        "B"
      ]
    },
    {
      "cell_type": "code",
      "execution_count": null,
      "metadata": {
        "id": "FORU8acue2dW"
      },
      "outputs": [],
      "source": [
        "A"
      ]
    },
    {
      "cell_type": "markdown",
      "metadata": {
        "id": "RrwTwa_Fe2dW"
      },
      "source": [
        "If we want to avoid this behavior, so that when we get a new completely independent object `B` copied from `A`, then we need to do a so-called \"deep copy\" using the function `copy`:"
      ]
    },
    {
      "cell_type": "code",
      "execution_count": null,
      "metadata": {
        "id": "JUUba9Noe2dW"
      },
      "outputs": [],
      "source": [
        "B = np.copy(A)"
      ]
    },
    {
      "cell_type": "code",
      "execution_count": null,
      "metadata": {
        "id": "onN_6t2Ie2dW"
      },
      "outputs": [],
      "source": [
        "# now, if we modify B, A is not affected\n",
        "B[0,0] = -5\n",
        "\n",
        "B "
      ]
    },
    {
      "cell_type": "code",
      "execution_count": null,
      "metadata": {
        "id": "82Jg67aUe2dX"
      },
      "outputs": [],
      "source": [
        "A"
      ]
    },
    {
      "cell_type": "markdown",
      "metadata": {
        "id": "P7a8vUGRe2dX"
      },
      "source": [
        "## Iterating over array elements"
      ]
    },
    {
      "cell_type": "markdown",
      "metadata": {
        "id": "fk9DjNhoe2dX"
      },
      "source": [
        "Generally, we want to avoid iterating over the elements of arrays whenever we can (at all costs). The reason is that in a interpreted language like Python (or MATLAB), iterations are really slow compared to vectorized operations. \n",
        "\n",
        "However, sometimes iterations are unavoidable. For such cases, the Python `for` loop is the most convenient way to iterate over an array:"
      ]
    },
    {
      "cell_type": "code",
      "execution_count": null,
      "metadata": {
        "id": "lI1WTrqPe2dX"
      },
      "outputs": [],
      "source": [
        "v = np.array([1,2,3,4])\n",
        "\n",
        "for element in v:\n",
        "    print(element)"
      ]
    },
    {
      "cell_type": "code",
      "execution_count": null,
      "metadata": {
        "id": "UsyVJoF8e2dY"
      },
      "outputs": [],
      "source": [
        "M = np.array([[1,2], [3,4]])\n",
        "\n",
        "for row in M:\n",
        "    print(\"row\", row)\n",
        "    \n",
        "    for element in row:\n",
        "        print(element)"
      ]
    },
    {
      "cell_type": "markdown",
      "metadata": {
        "id": "UM-vl9iie2dY"
      },
      "source": [
        "When we need to iterate over each element of an array and modify its elements, it is convenient to use the `enumerate` function to obtain both the element and its index in the `for` loop: "
      ]
    },
    {
      "cell_type": "code",
      "execution_count": null,
      "metadata": {
        "id": "tiLrHuEue2dY"
      },
      "outputs": [],
      "source": [
        "for row_idx, row in enumerate(M):\n",
        "    print(\"row_idx\", row_idx, \"row\", row)\n",
        "    \n",
        "    for col_idx, element in enumerate(row):\n",
        "        print(\"col_idx\", col_idx, \"element\", element)\n",
        "       \n",
        "        # update the matrix M: square each element\n",
        "        M[row_idx, col_idx] = element ** 2"
      ]
    },
    {
      "cell_type": "code",
      "execution_count": null,
      "metadata": {
        "id": "KnRPLfiRe2dY"
      },
      "outputs": [],
      "source": [
        "# each element in M is now squared\n",
        "M"
      ]
    },
    {
      "cell_type": "markdown",
      "metadata": {
        "id": "SWREy8lNe2dY"
      },
      "source": [
        "## Vectorizing functions"
      ]
    },
    {
      "cell_type": "markdown",
      "metadata": {
        "id": "XTHr3QKpe2dZ"
      },
      "source": [
        "As mentioned several times by now, to get good performance we should try to avoid looping over elements in our vectors and matrices, and instead use vectorized algorithms. The first step in converting a scalar algorithm to a vectorized algorithm is to make sure that the functions we write work with vector inputs."
      ]
    },
    {
      "cell_type": "code",
      "execution_count": null,
      "metadata": {
        "id": "CvDXX4CUe2dZ"
      },
      "outputs": [],
      "source": [
        "def Theta(x):\n",
        "    \"\"\"\n",
        "    Scalar implemenation of the Heaviside step function.\n",
        "    \"\"\"\n",
        "    if x >= 0:\n",
        "        return 1\n",
        "    else:\n",
        "        return 0"
      ]
    },
    {
      "cell_type": "code",
      "execution_count": null,
      "metadata": {
        "id": "3qL_I5L6e2dZ"
      },
      "outputs": [],
      "source": [
        "Theta(np.array([-3,-2,-1,0,1,2,3]))"
      ]
    },
    {
      "cell_type": "markdown",
      "metadata": {
        "id": "WSopfl4Qe2dZ"
      },
      "source": [
        "OK, that didn't work because we didn't write the `Theta` function so that it can handle a vector input... \n",
        "\n",
        "To get a vectorized version of Theta we can use the Numpy function `vectorize`. In many cases it can automatically vectorize a function:"
      ]
    },
    {
      "cell_type": "code",
      "execution_count": null,
      "metadata": {
        "id": "czXfp8Bje2dZ"
      },
      "outputs": [],
      "source": [
        "Theta_vec = np.vectorize(Theta)"
      ]
    },
    {
      "cell_type": "code",
      "execution_count": null,
      "metadata": {
        "id": "x0Wbi6yZe2dZ"
      },
      "outputs": [],
      "source": [
        "Theta_vec([1,3,4])"
      ]
    },
    {
      "cell_type": "markdown",
      "metadata": {
        "id": "yohzKEVGe2dZ"
      },
      "source": [
        "We can also implement the function to accept a vector input from the beginning (requires more effort but might give better performance):"
      ]
    },
    {
      "cell_type": "code",
      "execution_count": null,
      "metadata": {
        "id": "69Zf2Y5be2da"
      },
      "outputs": [],
      "source": [
        "def Theta(x):\n",
        "    \"\"\"\n",
        "    Vector-aware implemenation of the Heaviside step function.\n",
        "    \"\"\"\n",
        "    return 1 * (x >= 0)"
      ]
    },
    {
      "cell_type": "code",
      "execution_count": null,
      "metadata": {
        "id": "8Br4E6ZCe2da"
      },
      "outputs": [],
      "source": [
        "Theta(np.array([-3,-2,-1,0,1,2,3]))"
      ]
    },
    {
      "cell_type": "code",
      "execution_count": null,
      "metadata": {
        "id": "WHr0r1X9e2da"
      },
      "outputs": [],
      "source": [
        "# still works for scalars as well\n",
        "Theta(-1.2), Theta(2.6)"
      ]
    },
    {
      "cell_type": "markdown",
      "metadata": {
        "id": "p0Kv2z8Ue2da"
      },
      "source": [
        "## Using arrays in conditions"
      ]
    },
    {
      "cell_type": "markdown",
      "metadata": {
        "id": "6xSN50eUe2da"
      },
      "source": [
        "When using arrays in conditions,for example `if` statements and other boolean expressions, one needs to use `any` or `all`, which requires that any or all elements in the array evalutes to `True`:"
      ]
    },
    {
      "cell_type": "code",
      "execution_count": null,
      "metadata": {
        "id": "vO8i2FHRe2da"
      },
      "outputs": [],
      "source": [
        "M"
      ]
    },
    {
      "cell_type": "code",
      "execution_count": null,
      "metadata": {
        "id": "6PgjciSIe2db"
      },
      "outputs": [],
      "source": [
        "if (M > 5).any():\n",
        "    print(\"at least one element in M is larger than 5\")\n",
        "else:\n",
        "    print(\"no element in M is larger than 5\")"
      ]
    },
    {
      "cell_type": "code",
      "execution_count": null,
      "metadata": {
        "id": "H3VWYm0-e2db"
      },
      "outputs": [],
      "source": [
        "if (M > 5).all():\n",
        "    print(\"all elements in M are larger than 5\")\n",
        "else:\n",
        "    print(\"all elements in M are not larger than 5\")"
      ]
    },
    {
      "cell_type": "markdown",
      "metadata": {
        "id": "p5_ZL84Te2dc"
      },
      "source": [
        "## Type casting"
      ]
    },
    {
      "cell_type": "markdown",
      "metadata": {
        "id": "KWCiE4EGe2dc"
      },
      "source": [
        "Since Numpy arrays are *statically typed*, the type of an array does not change once created. But we can explicitly cast an array of some type to another using the `astype` functions (see also the similar `asarray` function). This always create a new array of new type:"
      ]
    },
    {
      "cell_type": "code",
      "execution_count": null,
      "metadata": {
        "id": "6E93a8SXe2dc"
      },
      "outputs": [],
      "source": [
        "M.dtype"
      ]
    },
    {
      "cell_type": "code",
      "execution_count": null,
      "metadata": {
        "id": "XfFGlWdYe2dc"
      },
      "outputs": [],
      "source": [
        "M2 = M.astype(float)\n",
        "\n",
        "M2"
      ]
    },
    {
      "cell_type": "code",
      "execution_count": null,
      "metadata": {
        "id": "zq7dWBONe2dd"
      },
      "outputs": [],
      "source": [
        "M2.dtype"
      ]
    },
    {
      "cell_type": "code",
      "execution_count": null,
      "metadata": {
        "id": "Xuz3SHaoe2dd"
      },
      "outputs": [],
      "source": [
        "?M.astype(bool)\n"
      ]
    },
    {
      "cell_type": "markdown",
      "metadata": {
        "id": "e5ewbwLxe2dd"
      },
      "source": [
        "## Further reading"
      ]
    },
    {
      "cell_type": "markdown",
      "metadata": {
        "id": "_QADiKwFe2de"
      },
      "source": [
        "* http://numpy.scipy.org\n",
        "* http://scipy.org/Tentative_NumPy_Tutorial\n",
        "* http://scipy.org/NumPy_for_Matlab_Users - A Numpy guide for MATLAB users."
      ]
    }
  ],
  "metadata": {
    "anaconda-cloud": {},
    "celltoolbar": "Slideshow",
    "kernelspec": {
      "display_name": "Python 3",
      "language": "python",
      "name": "python3"
    },
    "language_info": {
      "codemirror_mode": {
        "name": "ipython",
        "version": 3
      },
      "file_extension": ".py",
      "mimetype": "text/x-python",
      "name": "python",
      "nbconvert_exporter": "python",
      "pygments_lexer": "ipython3",
      "version": "3.7.6"
    },
    "colab": {
      "provenance": [],
      "include_colab_link": true
    }
  },
  "nbformat": 4,
  "nbformat_minor": 0
}