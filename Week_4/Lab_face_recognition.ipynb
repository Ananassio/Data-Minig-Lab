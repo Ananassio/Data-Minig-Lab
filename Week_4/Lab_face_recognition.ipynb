{
  "cells": [
    {
      "cell_type": "markdown",
      "metadata": {
        "id": "view-in-github",
        "colab_type": "text"
      },
      "source": [
        "<a href=\"https://colab.research.google.com/github/Ananassio/Data-Minig-Lab/blob/main/Week_4/Lab_face_recognition.ipynb\" target=\"_parent\"><img src=\"https://colab.research.google.com/assets/colab-badge.svg\" alt=\"Open In Colab\"/></a>"
      ]
    },
    {
      "cell_type": "markdown",
      "metadata": {
        "id": "EY3G5spBkfoB"
      },
      "source": [
        "\n",
        "# Face recognition with eigenfaces \n",
        "\n",
        "### Data: [\"Labeled Face in the Wild\"](http://vis-www.cs.umass.edu/lfw/index.html)"
      ]
    },
    {
      "cell_type": "code",
      "execution_count": 8,
      "metadata": {
        "id": "HDE40TklkfoE"
      },
      "outputs": [],
      "source": [
        "# basic imports\n",
        "from time import time #to compute runtimes\n",
        "import numpy as np\n",
        "import matplotlib.pyplot as plt\n",
        "%matplotlib inline\n",
        "from sklearn.model_selection import train_test_split\n",
        "import pandas as pd"
      ]
    },
    {
      "cell_type": "markdown",
      "metadata": {
        "id": "zwGm2to0kfoG"
      },
      "source": [
        "### Get Data\n"
      ]
    },
    {
      "cell_type": "code",
      "execution_count": 2,
      "metadata": {
        "id": "BqcslQ5JkfoG"
      },
      "outputs": [],
      "source": [
        "from sklearn.datasets import fetch_lfw_people #data is part of Scikit Learn\n",
        "\n",
        "lfw_people = fetch_lfw_people(min_faces_per_person=70, resize=0.4) #get data - take some time"
      ]
    },
    {
      "cell_type": "code",
      "execution_count": 3,
      "metadata": {
        "id": "SAYcwICwkfoH",
        "outputId": "2cd02d30-3d53-46d3-9f57-30f7fa1d296e",
        "colab": {
          "base_uri": "https://localhost:8080/"
        }
      },
      "outputs": [
        {
          "output_type": "stream",
          "name": "stdout",
          "text": [
            "1288 50 37\n"
          ]
        }
      ],
      "source": [
        "# get data shapes\n",
        "n_samples, h, w = lfw_people.images.shape\n",
        "print(n_samples, h, w)"
      ]
    },
    {
      "cell_type": "code",
      "execution_count": 4,
      "metadata": {
        "id": "mSVMzTGikfoH"
      },
      "outputs": [],
      "source": [
        "# get data and labels\n",
        "X = lfw_people.data #data\n",
        "y = lfw_people.target #labels"
      ]
    },
    {
      "cell_type": "code",
      "execution_count": 5,
      "metadata": {
        "scrolled": false,
        "id": "kwGw0-TukfoJ",
        "outputId": "d3c2b3dc-f9ba-4621-a438-4d042d0ce396",
        "colab": {
          "base_uri": "https://localhost:8080/"
        }
      },
      "outputs": [
        {
          "output_type": "stream",
          "name": "stdout",
          "text": [
            "number of pixels per image: 1850\n",
            "names of people ['Ariel Sharon' 'Colin Powell' 'Donald Rumsfeld' 'George W Bush'\n",
            " 'Gerhard Schroeder' 'Hugo Chavez' 'Tony Blair']\n",
            "number of people in DB: 7\n"
          ]
        }
      ],
      "source": [
        "n_features = X.shape[1] #get size of images\n",
        "print(\"number of pixels per image:\", n_features)\n",
        "\n",
        "target_names = lfw_people.target_names #get unique IDs of people\n",
        "n_classes = target_names.shape[0]\n",
        "\n",
        "print(\"names of people\", target_names)\n",
        "print(\"number of people in DB:\", n_classes)"
      ]
    },
    {
      "cell_type": "code",
      "execution_count": 6,
      "metadata": {
        "id": "2mw759VokfoK",
        "outputId": "59719059-cf04-4baf-b50e-d1d75031c577",
        "colab": {
          "base_uri": "https://localhost:8080/",
          "height": 299
        }
      },
      "outputs": [
        {
          "output_type": "execute_result",
          "data": {
            "text/plain": [
              "Text(0.5, 1.0, 'George W Bush')"
            ]
          },
          "metadata": {},
          "execution_count": 6
        },
        {
          "output_type": "display_data",
          "data": {
            "text/plain": [
              "<Figure size 432x288 with 1 Axes>"
            ],
            "image/png": "[encoded data removed]"
          },
          "metadata": {
            "needs_background": "light"
          }
        }
      ],
      "source": [
        "#vis example\n",
        "plt.gray()\n",
        "plt.imshow(X[12,:].reshape(h,w))\n",
        "plt.title(target_names[y[12]])"
      ]
    },
    {
      "cell_type": "markdown",
      "metadata": {
        "id": "FWkzoA2zkfoL"
      },
      "source": [
        "## ML Model"
      ]
    },
    {
      "cell_type": "markdown",
      "metadata": {
        "id": "7IjvNyuFkfoM"
      },
      "source": [
        "### Task 1: Split in test and train set\n",
        "* 20% test - 80% train -> use SKL split function!"
      ]
    },
    {
      "cell_type": "code",
      "source": [
        "X = np.array(X)\n",
        "y = np.array(y)"
      ],
      "metadata": {
        "id": "RNmdrOZZvT1k"
      },
      "execution_count": 19,
      "outputs": []
    },
    {
      "cell_type": "code",
      "execution_count": 20,
      "metadata": {
        "id": "mKHFLp6HkfoO"
      },
      "outputs": [],
      "source": [
        " X_train, X_test, y_train, y_test = train_test_split( X, y, test_size=0.2, random_state=42)"
      ]
    },
    {
      "cell_type": "markdown",
      "metadata": {
        "id": "fx3PCORSkfoO"
      },
      "source": [
        "### Task 2: Train and evaluate baseline Classifier\n",
        "* use ***black box*** SVM Algorithm with default parameters -> [https://scikit-learn.org/stable/modules/generated/sklearn.svm.SVC.html#sklearn.svm.SVC](https://scikit-learn.org/stable/modules/generated/sklearn.svm.SVC.html#sklearn.svm.SVC)"
      ]
    },
    {
      "cell_type": "code",
      "execution_count": 21,
      "metadata": {
        "id": "amNtVZhnkfoP"
      },
      "outputs": [],
      "source": [
        "from sklearn.svm import SVC"
      ]
    },
    {
      "cell_type": "code",
      "source": [
        "svc = SVC()"
      ],
      "metadata": {
        "id": "vz12Wu3kt8P1"
      },
      "execution_count": 22,
      "outputs": []
    },
    {
      "cell_type": "code",
      "source": [
        "svc.fit(X_train,y_train)"
      ],
      "metadata": {
        "id": "f1tg57qOuEcT",
        "outputId": "6f7e0867-1785-4d95-ece9-20d69977b05f",
        "colab": {
          "base_uri": "https://localhost:8080/"
        }
      },
      "execution_count": 23,
      "outputs": [
        {
          "output_type": "execute_result",
          "data": {
            "text/plain": [
              "SVC()"
            ]
          },
          "metadata": {},
          "execution_count": 23
        }
      ]
    },
    {
      "cell_type": "code",
      "source": [
        "from sklearn.metrics import accuracy_score"
      ],
      "metadata": {
        "id": "sFoCM8rRvoFA"
      },
      "execution_count": 26,
      "outputs": []
    },
    {
      "cell_type": "code",
      "source": [
        "accuracy_score(y_test,svc.predict(X_test))"
      ],
      "metadata": {
        "id": "O6D_WvSfuMPB",
        "outputId": "6fa80ecd-9447-4952-a4a6-5fad840e50d8",
        "colab": {
          "base_uri": "https://localhost:8080/"
        }
      },
      "execution_count": 27,
      "outputs": [
        {
          "output_type": "execute_result",
          "data": {
            "text/plain": [
              "0.7906976744186046"
            ]
          },
          "metadata": {},
          "execution_count": 27
        }
      ]
    },
    {
      "cell_type": "markdown",
      "metadata": {
        "id": "admW540HkfoQ"
      },
      "source": [
        "### Task 3: Apply PCA to train data\n",
        "* Plot Eigenvalues (explained variance) and find cut-off \n",
        "* Visualize the first 8 Eigenvectors\n",
        "* Project all data (train+test) to Eigen-Face-Space\n",
        "* Reconstruct a sample Face from Eigenfaces \n",
        "\n",
        "HINT: use *whitenig* in the PCA -> normalization of the components\n",
        "\n",
        "-> see [https://scikit-learn.org/stable/modules/generated/sklearn.decomposition.PCA.html](https://scikit-learn.org/stable/modules/generated/sklearn.decomposition.PCA.html)"
      ]
    },
    {
      "cell_type": "code",
      "source": [
        "from sklearn.decomposition import PCA "
      ],
      "metadata": {
        "id": "SBAB9CkUv9Bw"
      },
      "execution_count": 31,
      "outputs": []
    },
    {
      "cell_type": "code",
      "execution_count": 32,
      "metadata": {
        "id": "6MPrkzNtkfoR",
        "outputId": "a4c1b0f0-3c4e-467c-bfdc-679b8aad0baf",
        "colab": {
          "base_uri": "https://localhost:8080/"
        }
      },
      "outputs": [
        {
          "output_type": "execute_result",
          "data": {
            "text/plain": [
              "PCA(whiten=True)"
            ]
          },
          "metadata": {},
          "execution_count": 32
        }
      ],
      "source": [
        "pca = PCA(whiten=True)\n",
        "pca.fit(X_train)"
      ]
    },
    {
      "cell_type": "code",
      "source": [
        "#plot Eigen-Values\n",
        "plt.plot(pca.explained_variance_)"
      ],
      "metadata": {
        "id": "uiiT049JwAwT",
        "outputId": "fb96ddbf-a701-46ff-f70a-bca0ddf8474e",
        "colab": {
          "base_uri": "https://localhost:8080/",
          "height": 283
        }
      },
      "execution_count": 33,
      "outputs": [
        {
          "output_type": "execute_result",
          "data": {
            "text/plain": [
              "[<matplotlib.lines.Line2D at 0x7f316ed4d050>]"
            ]
          },
          "metadata": {},
          "execution_count": 33
        },
        {
          "output_type": "display_data",
          "data": {
            "text/plain": [
              "<Figure size 432x288 with 1 Axes>"
            ],
            "image/png": "[encoded data removed]"
          },
          "metadata": {
            "needs_background": "light"
          }
        }
      ]
    },
    {
      "cell_type": "code",
      "source": [
        "#have look at the first 8 Eigen-Vectors\n",
        "fig, ax = plt.subplots(1, 7, figsize=(h,w))\n",
        "for i in range(7):\n",
        "    ax[i].imshow(pca.components_[i].reshape(h,w))\n",
        "    ax[i].set_yticks([])\n",
        "    ax[i].set_xticks([])"
      ],
      "metadata": {
        "id": "oMTwtGrFweAX",
        "outputId": "92d065d0-aee4-4d8a-8a22-20aa1664bdd4",
        "colab": {
          "base_uri": "https://localhost:8080/",
          "height": 322
        }
      },
      "execution_count": 34,
      "outputs": [
        {
          "output_type": "display_data",
          "data": {
            "text/plain": [
              "<Figure size 3600x2664 with 7 Axes>"
            ],
            "image/png": "[encoded data removed]"
          },
          "metadata": {}
        }
      ]
    },
    {
      "cell_type": "code",
      "source": [
        "# transform singe sample\n",
        "s = pca.transform(X[135].reshape(1, -1)) #tricky: SKL PCA expects multiple matrix of samples"
      ],
      "metadata": {
        "id": "kziXgAOcyCKz"
      },
      "execution_count": 38,
      "outputs": []
    },
    {
      "cell_type": "code",
      "source": [
        "#manual reconstruct\n",
        "s_new = s[0,0]*pca.components_[0].reshape(h,w)\n",
        "for i in range(1,10):\n",
        "    s_new+=s[0,i]*pca.components_[i].reshape(h,w)"
      ],
      "metadata": {
        "id": "w0kGSPkOyJ1N"
      },
      "execution_count": 40,
      "outputs": []
    },
    {
      "cell_type": "code",
      "source": [
        "fig, ax = plt.subplots(1, 2, figsize=(10,10))\n",
        "ax[0].imshow(X[135].reshape(h,w))\n",
        "ax[1].imshow(s_new)"
      ],
      "metadata": {
        "id": "86HXj8ZGyg65",
        "outputId": "2854f760-c7cd-4733-d31d-104625e36b68",
        "colab": {
          "base_uri": "https://localhost:8080/",
          "height": 409
        }
      },
      "execution_count": 44,
      "outputs": [
        {
          "output_type": "execute_result",
          "data": {
            "text/plain": [
              "<matplotlib.image.AxesImage at 0x7f316c007750>"
            ]
          },
          "metadata": {},
          "execution_count": 44
        },
        {
          "output_type": "display_data",
          "data": {
            "text/plain": [
              "<Figure size 720x720 with 2 Axes>"
            ],
            "image/png": "[encoded data removed]"
          },
          "metadata": {
            "needs_background": "light"
          }
        }
      ]
    },
    {
      "cell_type": "markdown",
      "metadata": {
        "id": "DhAX434LkfoR"
      },
      "source": [
        "### Task 4: Train an SVM on the Eigen-Face representation \n",
        "* evaluate model on test"
      ]
    },
    {
      "cell_type": "code",
      "execution_count": null,
      "metadata": {
        "id": "lA63UXr8kfoS"
      },
      "outputs": [],
      "source": []
    }
  ],
  "metadata": {
    "kernelspec": {
      "display_name": "Python 3",
      "language": "python",
      "name": "python3"
    },
    "language_info": {
      "codemirror_mode": {
        "name": "ipython",
        "version": 3
      },
      "file_extension": ".py",
      "mimetype": "text/x-python",
      "name": "python",
      "nbconvert_exporter": "python",
      "pygments_lexer": "ipython3",
      "version": "3.7.6"
    },
    "colab": {
      "provenance": [],
      "include_colab_link": true
    }
  },
  "nbformat": 4,
  "nbformat_minor": 0
}