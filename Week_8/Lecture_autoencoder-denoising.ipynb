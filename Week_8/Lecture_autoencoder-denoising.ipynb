{
  "nbformat": 4,
  "nbformat_minor": 0,
  "metadata": {
    "colab": {
      "name": "autoencoder",
      "provenance": [],
      "toc_visible": true,
      "include_colab_link": true
    },
    "kernelspec": {
      "display_name": "Python 3",
      "language": "python",
      "name": "python3"
    },
    "language_info": {
      "codemirror_mode": {
        "name": "ipython",
        "version": 3
      },
      "file_extension": ".py",
      "mimetype": "text/x-python",
      "name": "python",
      "nbconvert_exporter": "python",
      "pygments_lexer": "ipython3",
      "version": "3.7.0"
    },
    "accelerator": "GPU",
    "gpuClass": "standard"
  },
  "cells": [
    {
      "cell_type": "markdown",
      "metadata": {
        "id": "view-in-github",
        "colab_type": "text"
      },
      "source": [
        "<a href=\"https://colab.research.google.com/github/Ananassio/Data-Minig-Lab/blob/main/Week_8/Lecture_autoencoder-denoising.ipynb\" target=\"_parent\"><img src=\"https://colab.research.google.com/assets/colab-badge.svg\" alt=\"Open In Colab\"/></a>"
      ]
    },
    {
      "cell_type": "markdown",
      "metadata": {
        "id": "9nI3XACptN8b"
      },
      "source": [
        "# Convolutional autoencoder for image denoising\n",
        "\n",
        "**Author:** [Santiago L. Valdarrama](https://twitter.com/svpino)<br>\n",
        "**Date created:** 2021/03/01<br>\n",
        "**Last modified:** 2021/03/01<br>\n",
        "**Description:** How to train a deep convolutional autoencoder for image denoising."
      ]
    },
    {
      "cell_type": "markdown",
      "metadata": {
        "id": "U4zevkJHtN8f"
      },
      "source": [
        "## Introduction\n",
        "\n",
        "This example demonstrates how to implement a deep convolutional autoencoder\n",
        "for image denoising, mapping noisy digits images from the MNIST dataset to\n",
        "clean digits images. This implementation is based on an original blog post\n",
        "titled [Building Autoencoders in Keras](https://blog.keras.io/building-autoencoders-in-keras.html)\n",
        "by [François Chollet](https://twitter.com/fchollet)."
      ]
    },
    {
      "cell_type": "markdown",
      "metadata": {
        "id": "jgTms2R4tN8g"
      },
      "source": [
        "## Setup"
      ]
    },
    {
      "cell_type": "code",
      "metadata": {
        "id": "hoXK6jjKtN8g"
      },
      "source": [
        "import numpy as np\n",
        "import tensorflow as tf\n",
        "import matplotlib.pyplot as plt\n",
        "\n",
        "from tensorflow.keras import layers\n",
        "from tensorflow.keras.datasets import mnist\n",
        "from tensorflow.keras.models import Model\n",
        "\n",
        "\n",
        "def preprocess(array):\n",
        "    \"\"\"\n",
        "    Normalizes the supplied array and reshapes it into the appropriate format.\n",
        "    \"\"\"\n",
        "\n",
        "    array = array.astype(\"float32\") / 255.0\n",
        "    array = np.reshape(array, (len(array), 28, 28, 1))\n",
        "    return array\n",
        "\n",
        "\n",
        "def noise(array):\n",
        "    \"\"\"\n",
        "    Adds random noise to each image in the supplied array.\n",
        "    \"\"\"\n",
        "\n",
        "    noise_factor = 0.4\n",
        "    noisy_array = array + noise_factor * np.random.normal(\n",
        "        loc=0.0, scale=1.0, size=array.shape\n",
        "    )\n",
        "\n",
        "    return np.clip(noisy_array, 0.0, 1.0)\n",
        "\n",
        "\n",
        "def display(array1, array2):\n",
        "    \"\"\"\n",
        "    Displays ten random images from each one of the supplied arrays.\n",
        "    \"\"\"\n",
        "\n",
        "    n = 10\n",
        "\n",
        "    indices = np.random.randint(len(array1), size=n)\n",
        "    images1 = array1[indices, :]\n",
        "    images2 = array2[indices, :]\n",
        "\n",
        "    plt.figure(figsize=(20, 4))\n",
        "    for i, (image1, image2) in enumerate(zip(images1, images2)):\n",
        "        ax = plt.subplot(2, n, i + 1)\n",
        "        plt.imshow(image1.reshape(28, 28))\n",
        "        plt.gray()\n",
        "        ax.get_xaxis().set_visible(False)\n",
        "        ax.get_yaxis().set_visible(False)\n",
        "\n",
        "        ax = plt.subplot(2, n, i + 1 + n)\n",
        "        plt.imshow(image2.reshape(28, 28))\n",
        "        plt.gray()\n",
        "        ax.get_xaxis().set_visible(False)\n",
        "        ax.get_yaxis().set_visible(False)\n",
        "\n",
        "    plt.show()\n"
      ],
      "execution_count": 1,
      "outputs": []
    },
    {
      "cell_type": "markdown",
      "metadata": {
        "id": "ipCq_nprtN8i"
      },
      "source": [
        "## Prepare the data"
      ]
    },
    {
      "cell_type": "code",
      "metadata": {
        "id": "SzqnbeSQtN8i",
        "outputId": "437c6ed8-67ae-4fa7-8adf-847452e35ebe",
        "colab": {
          "base_uri": "https://localhost:8080/",
          "height": 217
        }
      },
      "source": [
        "# Since we only need images from the dataset to encode and decode, we\n",
        "# won't use the labels.\n",
        "(train_data, _), (test_data, _) = mnist.load_data()\n",
        "\n",
        "# Normalize and reshape the data\n",
        "train_data = preprocess(train_data)\n",
        "test_data = preprocess(test_data)\n",
        "\n",
        "# Create a copy of the data with added noise\n",
        "noisy_train_data = noise(train_data)\n",
        "noisy_test_data = noise(test_data)\n",
        "\n",
        "# Display the train data and a version of it with added noise\n",
        "display(train_data, noisy_train_data)"
      ],
      "execution_count": 2,
      "outputs": [
        {
          "output_type": "stream",
          "name": "stdout",
          "text": [
            "Downloading data from https://storage.googleapis.com/tensorflow/tf-keras-datasets/mnist.npz\n",
            "11490434/11490434 [==============================] - 0s 0us/step\n"
          ]
        },
        {
          "output_type": "display_data",
          "data": {
            "text/plain": [
              "<Figure size 1440x288 with 20 Axes>"
            ],
            "image/png": "[encoded data removed]"
          },
          "metadata": {
            "needs_background": "light"
          }
        }
      ]
    },
    {
      "cell_type": "markdown",
      "metadata": {
        "id": "qRbjEGwUtN8j"
      },
      "source": [
        "## Build the autoencoder\n",
        "\n",
        "We are going to use the Functional API to build our convolutional autoencoder."
      ]
    },
    {
      "cell_type": "code",
      "metadata": {
        "id": "qeeX6_NqtN8k",
        "outputId": "41364c88-fd65-4759-9b63-d2ac3e490e91",
        "colab": {
          "base_uri": "https://localhost:8080/"
        }
      },
      "source": [
        "input = layers.Input(shape=(28, 28, 1))\n",
        "\n",
        "# Encoder\n",
        "x = layers.Conv2D(32, (3, 3), activation=\"relu\", padding=\"same\")(input)\n",
        "x = layers.MaxPooling2D((2, 2), padding=\"same\")(x)\n",
        "x = layers.Conv2D(32, (3, 3), activation=\"relu\", padding=\"same\")(x)\n",
        "x = layers.MaxPooling2D((2, 2), padding=\"same\")(x)\n",
        "\n",
        "# Decoder\n",
        "x = layers.Conv2DTranspose(32, (3, 3), strides=2, activation=\"relu\", padding=\"same\")(x)\n",
        "x = layers.Conv2DTranspose(32, (3, 3), strides=2, activation=\"relu\", padding=\"same\")(x)\n",
        "x = layers.Conv2D(1, (3, 3), activation=\"sigmoid\", padding=\"same\")(x)\n",
        "\n",
        "# Autoencoder\n",
        "autoencoder = Model(input, x)\n",
        "autoencoder.compile(optimizer=\"adam\", loss=\"binary_crossentropy\")\n",
        "autoencoder.summary()"
      ],
      "execution_count": 3,
      "outputs": [
        {
          "output_type": "stream",
          "name": "stdout",
          "text": [
            "Model: \"model\"\n",
            "_________________________________________________________________\n",
            " Layer (type)                Output Shape              Param #   \n",
            "=================================================================\n",
            " input_1 (InputLayer)        [(None, 28, 28, 1)]       0         \n",
            "                                                                 \n",
            " conv2d (Conv2D)             (None, 28, 28, 32)        320       \n",
            "                                                                 \n",
            " max_pooling2d (MaxPooling2D  (None, 14, 14, 32)       0         \n",
            " )                                                               \n",
            "                                                                 \n",
            " conv2d_1 (Conv2D)           (None, 14, 14, 32)        9248      \n",
            "                                                                 \n",
            " max_pooling2d_1 (MaxPooling  (None, 7, 7, 32)         0         \n",
            " 2D)                                                             \n",
            "                                                                 \n",
            " conv2d_transpose (Conv2DTra  (None, 14, 14, 32)       9248      \n",
            " nspose)                                                         \n",
            "                                                                 \n",
            " conv2d_transpose_1 (Conv2DT  (None, 28, 28, 32)       9248      \n",
            " ranspose)                                                       \n",
            "                                                                 \n",
            " conv2d_2 (Conv2D)           (None, 28, 28, 1)         289       \n",
            "                                                                 \n",
            "=================================================================\n",
            "Total params: 28,353\n",
            "Trainable params: 28,353\n",
            "Non-trainable params: 0\n",
            "_________________________________________________________________\n"
          ]
        }
      ]
    },
    {
      "cell_type": "markdown",
      "metadata": {
        "id": "5btYmVpatN8k"
      },
      "source": [
        "Now we can train our autoencoder using `train_data` as both our input data\n",
        "and target. Notice we are setting up the validation data using the same\n",
        "format."
      ]
    },
    {
      "cell_type": "code",
      "metadata": {
        "id": "C2z66giMtN8l",
        "outputId": "90ab6187-59a3-4076-f352-37692ffd294e",
        "colab": {
          "base_uri": "https://localhost:8080/"
        }
      },
      "source": [
        "autoencoder.fit(\n",
        "    x=train_data,\n",
        "    y=train_data,\n",
        "    epochs=50,\n",
        "    batch_size=128,\n",
        "    shuffle=True,\n",
        "    validation_data=(test_data, test_data),\n",
        ")"
      ],
      "execution_count": 4,
      "outputs": [
        {
          "output_type": "stream",
          "name": "stdout",
          "text": [
            "Epoch 1/50\n",
            "469/469 [==============================] - 18s 10ms/step - loss: 0.1281 - val_loss: 0.0724\n",
            "Epoch 2/50\n",
            "469/469 [==============================] - 4s 8ms/step - loss: 0.0712 - val_loss: 0.0692\n",
            "Epoch 3/50\n",
            "469/469 [==============================] - 4s 9ms/step - loss: 0.0690 - val_loss: 0.0678\n",
            "Epoch 4/50\n",
            "469/469 [==============================] - 4s 9ms/step - loss: 0.0679 - val_loss: 0.0671\n",
            "Epoch 5/50\n",
            "469/469 [==============================] - 4s 9ms/step - loss: 0.0672 - val_loss: 0.0664\n",
            "Epoch 6/50\n",
            "469/469 [==============================] - 4s 9ms/step - loss: 0.0666 - val_loss: 0.0659\n",
            "Epoch 7/50\n",
            "469/469 [==============================] - 4s 9ms/step - loss: 0.0662 - val_loss: 0.0655\n",
            "Epoch 8/50\n",
            "469/469 [==============================] - 4s 9ms/step - loss: 0.0658 - val_loss: 0.0652\n",
            "Epoch 9/50\n",
            "469/469 [==============================] - 4s 9ms/step - loss: 0.0654 - val_loss: 0.0649\n",
            "Epoch 10/50\n",
            "469/469 [==============================] - 4s 9ms/step - loss: 0.0651 - val_loss: 0.0646\n",
            "Epoch 11/50\n",
            "469/469 [==============================] - 5s 10ms/step - loss: 0.0649 - val_loss: 0.0644\n",
            "Epoch 12/50\n",
            "469/469 [==============================] - 4s 9ms/step - loss: 0.0647 - val_loss: 0.0642\n",
            "Epoch 13/50\n",
            "469/469 [==============================] - 4s 9ms/step - loss: 0.0645 - val_loss: 0.0640\n",
            "Epoch 14/50\n",
            "469/469 [==============================] - 4s 9ms/step - loss: 0.0643 - val_loss: 0.0640\n",
            "Epoch 15/50\n",
            "469/469 [==============================] - 4s 9ms/step - loss: 0.0642 - val_loss: 0.0637\n",
            "Epoch 16/50\n",
            "469/469 [==============================] - 4s 9ms/step - loss: 0.0640 - val_loss: 0.0635\n",
            "Epoch 17/50\n",
            "469/469 [==============================] - 4s 9ms/step - loss: 0.0639 - val_loss: 0.0635\n",
            "Epoch 18/50\n",
            "469/469 [==============================] - 4s 9ms/step - loss: 0.0638 - val_loss: 0.0633\n",
            "Epoch 19/50\n",
            "469/469 [==============================] - 4s 9ms/step - loss: 0.0637 - val_loss: 0.0633\n",
            "Epoch 20/50\n",
            "469/469 [==============================] - 4s 9ms/step - loss: 0.0636 - val_loss: 0.0631\n",
            "Epoch 21/50\n",
            "469/469 [==============================] - 4s 9ms/step - loss: 0.0635 - val_loss: 0.0630\n",
            "Epoch 22/50\n",
            "469/469 [==============================] - 4s 9ms/step - loss: 0.0634 - val_loss: 0.0630\n",
            "Epoch 23/50\n",
            "469/469 [==============================] - 4s 9ms/step - loss: 0.0633 - val_loss: 0.0629\n",
            "Epoch 24/50\n",
            "469/469 [==============================] - 4s 9ms/step - loss: 0.0632 - val_loss: 0.0628\n",
            "Epoch 25/50\n",
            "469/469 [==============================] - 4s 9ms/step - loss: 0.0632 - val_loss: 0.0627\n",
            "Epoch 26/50\n",
            "469/469 [==============================] - 4s 9ms/step - loss: 0.0631 - val_loss: 0.0628\n",
            "Epoch 27/50\n",
            "469/469 [==============================] - 4s 9ms/step - loss: 0.0630 - val_loss: 0.0626\n",
            "Epoch 28/50\n",
            "469/469 [==============================] - 4s 9ms/step - loss: 0.0630 - val_loss: 0.0626\n",
            "Epoch 29/50\n",
            "469/469 [==============================] - 4s 9ms/step - loss: 0.0629 - val_loss: 0.0625\n",
            "Epoch 30/50\n",
            "469/469 [==============================] - 4s 9ms/step - loss: 0.0629 - val_loss: 0.0625\n",
            "Epoch 31/50\n",
            "469/469 [==============================] - 4s 9ms/step - loss: 0.0628 - val_loss: 0.0625\n",
            "Epoch 32/50\n",
            "469/469 [==============================] - 4s 9ms/step - loss: 0.0628 - val_loss: 0.0624\n",
            "Epoch 33/50\n",
            "469/469 [==============================] - 4s 9ms/step - loss: 0.0627 - val_loss: 0.0623\n",
            "Epoch 34/50\n",
            "469/469 [==============================] - 4s 9ms/step - loss: 0.0627 - val_loss: 0.0623\n",
            "Epoch 35/50\n",
            "469/469 [==============================] - 4s 9ms/step - loss: 0.0627 - val_loss: 0.0624\n",
            "Epoch 36/50\n",
            "469/469 [==============================] - 4s 9ms/step - loss: 0.0626 - val_loss: 0.0623\n",
            "Epoch 37/50\n",
            "469/469 [==============================] - 4s 9ms/step - loss: 0.0626 - val_loss: 0.0623\n",
            "Epoch 38/50\n",
            "469/469 [==============================] - 4s 9ms/step - loss: 0.0626 - val_loss: 0.0622\n",
            "Epoch 39/50\n",
            "469/469 [==============================] - 4s 9ms/step - loss: 0.0625 - val_loss: 0.0621\n",
            "Epoch 40/50\n",
            "469/469 [==============================] - 4s 9ms/step - loss: 0.0625 - val_loss: 0.0622\n",
            "Epoch 41/50\n",
            "469/469 [==============================] - 4s 9ms/step - loss: 0.0625 - val_loss: 0.0621\n",
            "Epoch 42/50\n",
            "469/469 [==============================] - 4s 9ms/step - loss: 0.0625 - val_loss: 0.0622\n",
            "Epoch 43/50\n",
            "469/469 [==============================] - 4s 9ms/step - loss: 0.0624 - val_loss: 0.0621\n",
            "Epoch 44/50\n",
            "469/469 [==============================] - 4s 9ms/step - loss: 0.0624 - val_loss: 0.0621\n",
            "Epoch 45/50\n",
            "469/469 [==============================] - 4s 9ms/step - loss: 0.0624 - val_loss: 0.0620\n",
            "Epoch 46/50\n",
            "469/469 [==============================] - 4s 9ms/step - loss: 0.0624 - val_loss: 0.0620\n",
            "Epoch 47/50\n",
            "469/469 [==============================] - 4s 9ms/step - loss: 0.0623 - val_loss: 0.0620\n",
            "Epoch 48/50\n",
            "469/469 [==============================] - 4s 9ms/step - loss: 0.0623 - val_loss: 0.0620\n",
            "Epoch 49/50\n",
            "469/469 [==============================] - 4s 9ms/step - loss: 0.0623 - val_loss: 0.0620\n",
            "Epoch 50/50\n",
            "469/469 [==============================] - 4s 9ms/step - loss: 0.0623 - val_loss: 0.0619\n"
          ]
        },
        {
          "output_type": "execute_result",
          "data": {
            "text/plain": [
              "<keras.callbacks.History at 0x7f724658f890>"
            ]
          },
          "metadata": {},
          "execution_count": 4
        }
      ]
    },
    {
      "cell_type": "markdown",
      "metadata": {
        "id": "JOI5lHfitN8l"
      },
      "source": [
        "Let's predict on our test dataset and display the original image together with\n",
        "the prediction from our autoencoder.\n",
        "\n",
        "Notice how the predictions are pretty close to the original images, although\n",
        "not quite the same."
      ]
    },
    {
      "cell_type": "code",
      "metadata": {
        "id": "Rh4K_EJdtN8m",
        "outputId": "535da292-dc38-4465-9620-a60aca236c4d",
        "colab": {
          "base_uri": "https://localhost:8080/",
          "height": 200
        }
      },
      "source": [
        "predictions = autoencoder.predict(test_data)\n",
        "display(test_data, predictions)"
      ],
      "execution_count": 5,
      "outputs": [
        {
          "output_type": "stream",
          "name": "stdout",
          "text": [
            "313/313 [==============================] - 1s 2ms/step\n"
          ]
        },
        {
          "output_type": "display_data",
          "data": {
            "text/plain": [
              "<Figure size 1440x288 with 20 Axes>"
            ],
            "image/png": "[encoded data removed]"
          },
          "metadata": {
            "needs_background": "light"
          }
        }
      ]
    },
    {
      "cell_type": "markdown",
      "metadata": {
        "id": "DRw0UmNmtN8m"
      },
      "source": [
        "Now that we know that our autoencoder works, let's retrain it using the noisy\n",
        "data as our input and the clean data as our target. We want our autoencoder to\n",
        "learn how to denoise the images."
      ]
    },
    {
      "cell_type": "code",
      "metadata": {
        "id": "ozAfLdwqtN8m",
        "outputId": "edd3f62a-0dd7-4332-ddee-50553ca2704f",
        "colab": {
          "base_uri": "https://localhost:8080/"
        }
      },
      "source": [
        "autoencoder.fit(\n",
        "    x=noisy_train_data,\n",
        "    y=train_data,\n",
        "    epochs=100,\n",
        "    batch_size=128,\n",
        "    shuffle=True,\n",
        "    validation_data=(noisy_test_data, test_data),\n",
        ")"
      ],
      "execution_count": 6,
      "outputs": [
        {
          "output_type": "stream",
          "name": "stdout",
          "text": [
            "Epoch 1/100\n",
            "469/469 [==============================] - 4s 9ms/step - loss: 0.1033 - val_loss: 0.0955\n",
            "Epoch 2/100\n",
            "469/469 [==============================] - 4s 9ms/step - loss: 0.0948 - val_loss: 0.0931\n",
            "Epoch 3/100\n",
            "469/469 [==============================] - 4s 9ms/step - loss: 0.0931 - val_loss: 0.0918\n",
            "Epoch 4/100\n",
            "469/469 [==============================] - 4s 9ms/step - loss: 0.0919 - val_loss: 0.0907\n",
            "Epoch 5/100\n",
            "469/469 [==============================] - 4s 9ms/step - loss: 0.0910 - val_loss: 0.0900\n",
            "Epoch 6/100\n",
            "469/469 [==============================] - 4s 9ms/step - loss: 0.0903 - val_loss: 0.0894\n",
            "Epoch 7/100\n",
            "469/469 [==============================] - 4s 9ms/step - loss: 0.0896 - val_loss: 0.0888\n",
            "Epoch 8/100\n",
            "469/469 [==============================] - 4s 9ms/step - loss: 0.0891 - val_loss: 0.0884\n",
            "Epoch 9/100\n",
            "469/469 [==============================] - 4s 9ms/step - loss: 0.0887 - val_loss: 0.0880\n",
            "Epoch 10/100\n",
            "469/469 [==============================] - 4s 9ms/step - loss: 0.0883 - val_loss: 0.0875\n",
            "Epoch 11/100\n",
            "469/469 [==============================] - 4s 9ms/step - loss: 0.0880 - val_loss: 0.0874\n",
            "Epoch 12/100\n",
            "469/469 [==============================] - 4s 9ms/step - loss: 0.0877 - val_loss: 0.0871\n",
            "Epoch 13/100\n",
            "469/469 [==============================] - 4s 9ms/step - loss: 0.0874 - val_loss: 0.0871\n",
            "Epoch 14/100\n",
            "469/469 [==============================] - 4s 9ms/step - loss: 0.0872 - val_loss: 0.0867\n",
            "Epoch 15/100\n",
            "469/469 [==============================] - 4s 9ms/step - loss: 0.0870 - val_loss: 0.0864\n",
            "Epoch 16/100\n",
            "469/469 [==============================] - 4s 9ms/step - loss: 0.0868 - val_loss: 0.0865\n",
            "Epoch 17/100\n",
            "469/469 [==============================] - 4s 9ms/step - loss: 0.0866 - val_loss: 0.0861\n",
            "Epoch 18/100\n",
            "469/469 [==============================] - 4s 9ms/step - loss: 0.0865 - val_loss: 0.0861\n",
            "Epoch 19/100\n",
            "469/469 [==============================] - 4s 9ms/step - loss: 0.0863 - val_loss: 0.0858\n",
            "Epoch 20/100\n",
            "469/469 [==============================] - 4s 9ms/step - loss: 0.0861 - val_loss: 0.0857\n",
            "Epoch 21/100\n",
            "469/469 [==============================] - 4s 9ms/step - loss: 0.0860 - val_loss: 0.0856\n",
            "Epoch 22/100\n",
            "469/469 [==============================] - 4s 8ms/step - loss: 0.0859 - val_loss: 0.0857\n",
            "Epoch 23/100\n",
            "469/469 [==============================] - 4s 9ms/step - loss: 0.0858 - val_loss: 0.0854\n",
            "Epoch 24/100\n",
            "469/469 [==============================] - 4s 9ms/step - loss: 0.0857 - val_loss: 0.0854\n",
            "Epoch 25/100\n",
            "469/469 [==============================] - 4s 9ms/step - loss: 0.0856 - val_loss: 0.0853\n",
            "Epoch 26/100\n",
            "469/469 [==============================] - 4s 9ms/step - loss: 0.0855 - val_loss: 0.0853\n",
            "Epoch 27/100\n",
            "469/469 [==============================] - 4s 9ms/step - loss: 0.0855 - val_loss: 0.0851\n",
            "Epoch 28/100\n",
            "469/469 [==============================] - 4s 9ms/step - loss: 0.0854 - val_loss: 0.0851\n",
            "Epoch 29/100\n",
            "469/469 [==============================] - 4s 9ms/step - loss: 0.0853 - val_loss: 0.0851\n",
            "Epoch 30/100\n",
            "469/469 [==============================] - 4s 9ms/step - loss: 0.0853 - val_loss: 0.0850\n",
            "Epoch 31/100\n",
            "469/469 [==============================] - 4s 9ms/step - loss: 0.0852 - val_loss: 0.0852\n",
            "Epoch 32/100\n",
            "469/469 [==============================] - 4s 9ms/step - loss: 0.0852 - val_loss: 0.0848\n",
            "Epoch 33/100\n",
            "469/469 [==============================] - 4s 9ms/step - loss: 0.0851 - val_loss: 0.0848\n",
            "Epoch 34/100\n",
            "469/469 [==============================] - 4s 9ms/step - loss: 0.0851 - val_loss: 0.0850\n",
            "Epoch 35/100\n",
            "469/469 [==============================] - 4s 9ms/step - loss: 0.0850 - val_loss: 0.0848\n",
            "Epoch 36/100\n",
            "469/469 [==============================] - 4s 9ms/step - loss: 0.0850 - val_loss: 0.0847\n",
            "Epoch 37/100\n",
            "469/469 [==============================] - 4s 9ms/step - loss: 0.0850 - val_loss: 0.0846\n",
            "Epoch 38/100\n",
            "469/469 [==============================] - 4s 9ms/step - loss: 0.0849 - val_loss: 0.0847\n",
            "Epoch 39/100\n",
            "469/469 [==============================] - 4s 9ms/step - loss: 0.0849 - val_loss: 0.0845\n",
            "Epoch 40/100\n",
            "469/469 [==============================] - 4s 9ms/step - loss: 0.0849 - val_loss: 0.0846\n",
            "Epoch 41/100\n",
            "469/469 [==============================] - 4s 9ms/step - loss: 0.0848 - val_loss: 0.0846\n",
            "Epoch 42/100\n",
            "469/469 [==============================] - 4s 9ms/step - loss: 0.0848 - val_loss: 0.0845\n",
            "Epoch 43/100\n",
            "469/469 [==============================] - 4s 9ms/step - loss: 0.0848 - val_loss: 0.0846\n",
            "Epoch 44/100\n",
            "469/469 [==============================] - 4s 9ms/step - loss: 0.0847 - val_loss: 0.0845\n",
            "Epoch 45/100\n",
            "469/469 [==============================] - 4s 8ms/step - loss: 0.0847 - val_loss: 0.0845\n",
            "Epoch 46/100\n",
            "469/469 [==============================] - 4s 8ms/step - loss: 0.0847 - val_loss: 0.0845\n",
            "Epoch 47/100\n",
            "469/469 [==============================] - 4s 8ms/step - loss: 0.0846 - val_loss: 0.0844\n",
            "Epoch 48/100\n",
            "469/469 [==============================] - 4s 9ms/step - loss: 0.0846 - val_loss: 0.0846\n",
            "Epoch 49/100\n",
            "469/469 [==============================] - 4s 9ms/step - loss: 0.0846 - val_loss: 0.0844\n",
            "Epoch 50/100\n",
            "469/469 [==============================] - 4s 8ms/step - loss: 0.0846 - val_loss: 0.0843\n",
            "Epoch 51/100\n",
            "469/469 [==============================] - 4s 9ms/step - loss: 0.0846 - val_loss: 0.0843\n",
            "Epoch 52/100\n",
            "469/469 [==============================] - 4s 8ms/step - loss: 0.0845 - val_loss: 0.0843\n",
            "Epoch 53/100\n",
            "469/469 [==============================] - 4s 8ms/step - loss: 0.0845 - val_loss: 0.0843\n",
            "Epoch 54/100\n",
            "469/469 [==============================] - 4s 8ms/step - loss: 0.0845 - val_loss: 0.0843\n",
            "Epoch 55/100\n",
            "469/469 [==============================] - 4s 8ms/step - loss: 0.0845 - val_loss: 0.0843\n",
            "Epoch 56/100\n",
            "469/469 [==============================] - 4s 8ms/step - loss: 0.0845 - val_loss: 0.0843\n",
            "Epoch 57/100\n",
            "469/469 [==============================] - 4s 9ms/step - loss: 0.0844 - val_loss: 0.0843\n",
            "Epoch 58/100\n",
            "469/469 [==============================] - 4s 8ms/step - loss: 0.0844 - val_loss: 0.0842\n",
            "Epoch 59/100\n",
            "469/469 [==============================] - 5s 10ms/step - loss: 0.0844 - val_loss: 0.0842\n",
            "Epoch 60/100\n",
            "469/469 [==============================] - 4s 9ms/step - loss: 0.0844 - val_loss: 0.0842\n",
            "Epoch 61/100\n",
            "469/469 [==============================] - 4s 8ms/step - loss: 0.0844 - val_loss: 0.0842\n",
            "Epoch 62/100\n",
            "469/469 [==============================] - 4s 8ms/step - loss: 0.0844 - val_loss: 0.0842\n",
            "Epoch 63/100\n",
            "469/469 [==============================] - 4s 8ms/step - loss: 0.0843 - val_loss: 0.0842\n",
            "Epoch 64/100\n",
            "469/469 [==============================] - 4s 8ms/step - loss: 0.0843 - val_loss: 0.0842\n",
            "Epoch 65/100\n",
            "469/469 [==============================] - 4s 8ms/step - loss: 0.0843 - val_loss: 0.0841\n",
            "Epoch 66/100\n",
            "469/469 [==============================] - 4s 8ms/step - loss: 0.0843 - val_loss: 0.0841\n",
            "Epoch 67/100\n",
            "469/469 [==============================] - 4s 8ms/step - loss: 0.0843 - val_loss: 0.0841\n",
            "Epoch 68/100\n",
            "469/469 [==============================] - 4s 8ms/step - loss: 0.0843 - val_loss: 0.0842\n",
            "Epoch 69/100\n",
            "469/469 [==============================] - 4s 8ms/step - loss: 0.0842 - val_loss: 0.0841\n",
            "Epoch 70/100\n",
            "469/469 [==============================] - 4s 8ms/step - loss: 0.0842 - val_loss: 0.0841\n",
            "Epoch 71/100\n",
            "469/469 [==============================] - 4s 8ms/step - loss: 0.0842 - val_loss: 0.0840\n",
            "Epoch 72/100\n",
            "469/469 [==============================] - 4s 8ms/step - loss: 0.0842 - val_loss: 0.0841\n",
            "Epoch 73/100\n",
            "469/469 [==============================] - 4s 8ms/step - loss: 0.0842 - val_loss: 0.0841\n",
            "Epoch 74/100\n",
            "469/469 [==============================] - 4s 8ms/step - loss: 0.0842 - val_loss: 0.0841\n",
            "Epoch 75/100\n",
            "469/469 [==============================] - 4s 8ms/step - loss: 0.0842 - val_loss: 0.0841\n",
            "Epoch 76/100\n",
            "469/469 [==============================] - 4s 8ms/step - loss: 0.0842 - val_loss: 0.0841\n",
            "Epoch 77/100\n",
            "469/469 [==============================] - 4s 9ms/step - loss: 0.0841 - val_loss: 0.0839\n",
            "Epoch 78/100\n",
            "469/469 [==============================] - 4s 9ms/step - loss: 0.0841 - val_loss: 0.0840\n",
            "Epoch 79/100\n",
            "469/469 [==============================] - 4s 9ms/step - loss: 0.0841 - val_loss: 0.0841\n",
            "Epoch 80/100\n",
            "469/469 [==============================] - 4s 9ms/step - loss: 0.0841 - val_loss: 0.0840\n",
            "Epoch 81/100\n",
            "469/469 [==============================] - 4s 9ms/step - loss: 0.0841 - val_loss: 0.0839\n",
            "Epoch 82/100\n",
            "469/469 [==============================] - 4s 9ms/step - loss: 0.0841 - val_loss: 0.0840\n",
            "Epoch 83/100\n",
            "469/469 [==============================] - 4s 9ms/step - loss: 0.0841 - val_loss: 0.0839\n",
            "Epoch 84/100\n",
            "469/469 [==============================] - 4s 9ms/step - loss: 0.0841 - val_loss: 0.0843\n",
            "Epoch 85/100\n",
            "469/469 [==============================] - 4s 9ms/step - loss: 0.0840 - val_loss: 0.0839\n",
            "Epoch 86/100\n",
            "469/469 [==============================] - 4s 9ms/step - loss: 0.0841 - val_loss: 0.0838\n",
            "Epoch 87/100\n",
            "469/469 [==============================] - 4s 9ms/step - loss: 0.0840 - val_loss: 0.0839\n",
            "Epoch 88/100\n",
            "469/469 [==============================] - 4s 9ms/step - loss: 0.0840 - val_loss: 0.0839\n",
            "Epoch 89/100\n",
            "469/469 [==============================] - 4s 9ms/step - loss: 0.0840 - val_loss: 0.0840\n",
            "Epoch 90/100\n",
            "469/469 [==============================] - 4s 9ms/step - loss: 0.0840 - val_loss: 0.0838\n",
            "Epoch 91/100\n",
            "469/469 [==============================] - 4s 9ms/step - loss: 0.0840 - val_loss: 0.0839\n",
            "Epoch 92/100\n",
            "469/469 [==============================] - 4s 9ms/step - loss: 0.0840 - val_loss: 0.0842\n",
            "Epoch 93/100\n",
            "469/469 [==============================] - 4s 9ms/step - loss: 0.0840 - val_loss: 0.0838\n",
            "Epoch 94/100\n",
            "469/469 [==============================] - 4s 9ms/step - loss: 0.0840 - val_loss: 0.0839\n",
            "Epoch 95/100\n",
            "469/469 [==============================] - 4s 9ms/step - loss: 0.0840 - val_loss: 0.0839\n",
            "Epoch 96/100\n",
            "469/469 [==============================] - 4s 9ms/step - loss: 0.0840 - val_loss: 0.0839\n",
            "Epoch 97/100\n",
            "469/469 [==============================] - 4s 9ms/step - loss: 0.0840 - val_loss: 0.0838\n",
            "Epoch 98/100\n",
            "469/469 [==============================] - 4s 9ms/step - loss: 0.0839 - val_loss: 0.0838\n",
            "Epoch 99/100\n",
            "469/469 [==============================] - 4s 9ms/step - loss: 0.0839 - val_loss: 0.0838\n",
            "Epoch 100/100\n",
            "469/469 [==============================] - 4s 9ms/step - loss: 0.0839 - val_loss: 0.0839\n"
          ]
        },
        {
          "output_type": "execute_result",
          "data": {
            "text/plain": [
              "<keras.callbacks.History at 0x7f72301d1ed0>"
            ]
          },
          "metadata": {},
          "execution_count": 6
        }
      ]
    },
    {
      "cell_type": "markdown",
      "metadata": {
        "id": "Js4JSdIGtN8n"
      },
      "source": [
        "Let's now predict on the noisy data and display the results of our autoencoder.\n",
        "\n",
        "Notice how the autoencoder does an amazing job at removing the noise from the\n",
        "input images."
      ]
    },
    {
      "cell_type": "code",
      "metadata": {
        "id": "SD7FhoBstN8n",
        "outputId": "2069374b-0216-4969-a25d-37f35409f7ef",
        "colab": {
          "base_uri": "https://localhost:8080/",
          "height": 200
        }
      },
      "source": [
        "predictions = autoencoder.predict(noisy_test_data)\n",
        "display(noisy_test_data, predictions)"
      ],
      "execution_count": 7,
      "outputs": [
        {
          "output_type": "stream",
          "name": "stdout",
          "text": [
            "313/313 [==============================] - 1s 2ms/step\n"
          ]
        },
        {
          "output_type": "display_data",
          "data": {
            "text/plain": [
              "<Figure size 1440x288 with 20 Axes>"
            ],
            "image/png": "[encoded data removed]"
          },
          "metadata": {
            "needs_background": "light"
          }
        }
      ]
    }
  ]
}